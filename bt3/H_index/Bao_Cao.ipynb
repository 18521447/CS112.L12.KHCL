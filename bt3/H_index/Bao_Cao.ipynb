{
 "cells": [
  {
   "cell_type": "markdown",
   "metadata": {},
   "source": [
    "# Abstraction"
   ]
  },
  {
   "cell_type": "markdown",
   "metadata": {},
   "source": [
    "Tìm H_index sao cho H_index <= K số trong N số nguyên"
   ]
  },
  {
   "cell_type": "markdown",
   "metadata": {},
   "source": [
    "# Algorithm design"
   ]
  },
  {
   "cell_type": "markdown",
   "metadata": {},
   "source": [
    "## Input"
   ]
  },
  {
   "cell_type": "markdown",
   "metadata": {},
   "source": [
    "- N (Kiểu int): Số lượng bài báo (1 ≤ n ≤ 5×10^5)\n",
    "- Arr[] (Kiểu int): Mảng chứa điểm số trích dẫn của mỗi bài báo (0 ≤ điểm số ≤ 10^6, điểm số = 1 ÷ N)."
   ]
  },
  {
   "cell_type": "markdown",
   "metadata": {},
   "source": [
    "## Output"
   ]
  },
  {
   "cell_type": "markdown",
   "metadata": {},
   "source": [
    "- H_index (Kiểu int): Chỉ số ảnh hưởng của một nhà khoa học"
   ]
  },
  {
   "cell_type": "markdown",
   "metadata": {},
   "source": [
    "## Recursion"
   ]
  },
  {
   "cell_type": "markdown",
   "metadata": {},
   "source": [
    "### Pseudocode"
   ]
  },
  {
   "cell_type": "markdown",
   "metadata": {},
   "source": [
    "*Temporary varible*"
   ]
  },
  {
   "cell_type": "markdown",
   "metadata": {},
   "source": [
    "```\n",
    "Khởi tạo:\n",
    "N = số lượng bài báo\n",
    "Arr[] = Nhập điểm số mỗi bài báo\n",
    "H_index = 0\n",
    "\n",
    "Chương trình chính:\n",
    "Loop i from 0 to N\n",
    "    if H_index + 1 <= Arr[i]):\n",
    "            H_index += 1\n",
    "\n",
    "Kết quả: In ra H_index\n",
    "```"
   ]
  },
  {
   "cell_type": "markdown",
   "metadata": {},
   "source": [
    "### Code"
   ]
  },
  {
   "cell_type": "code",
   "execution_count": 1,
   "metadata": {},
   "outputs": [
    {
     "name": "stdout",
     "output_type": "stream",
     "text": [
      "5\n",
      "8 5 3 4 10\n",
      "4\n"
     ]
    }
   ],
   "source": [
    "def main(n,c):\n",
    "    array =[]\n",
    "    for i in c:\n",
    "        array.append(i)\n",
    "    array.sort(reverse = True)\n",
    "    result = 0\n",
    "    for i in range(n):\n",
    "        if (result + 1 <= array[i]):\n",
    "            result += 1\n",
    "    return result\n",
    "\n",
    "if __name__ == '__main__':\n",
    "    n = int(input())\n",
    "    c = map(int, input().split())\n",
    "    print(main(n, c))"
   ]
  }
 ],
 "metadata": {
  "kernelspec": {
   "display_name": "Python 3",
   "language": "python",
   "name": "python3"
  },
  "language_info": {
   "codemirror_mode": {
    "name": "ipython",
    "version": 3
   },
   "file_extension": ".py",
   "mimetype": "text/x-python",
   "name": "python",
   "nbconvert_exporter": "python",
   "pygments_lexer": "ipython3",
   "version": "3.7.6"
  }
 },
 "nbformat": 4,
 "nbformat_minor": 4
}
