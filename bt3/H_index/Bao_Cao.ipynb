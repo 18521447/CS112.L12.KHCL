{
 "cells": [
  {
   "cell_type": "markdown",
   "metadata": {},
   "source": [
    "# Abstraction"
   ]
  },
  {
   "cell_type": "markdown",
   "metadata": {},
   "source": [
    "Tìm X lớn nhất sao cho có ít nhất X phần tử >= X trong mảng N số nguyên"
   ]
  },
  {
   "cell_type": "markdown",
   "metadata": {},
   "source": [
    "# Decomposition"
   ]
  },
  {
   "cell_type": "markdown",
   "metadata": {},
   "source": [
    "Sau khi đọc xong đề bài, chúng ta có thể suy ra được cách giải bài toán này khá là đơn giản bằng cách sắp xếp mảng dãy số Arr theo chiều giảm dần. Sau đó duyệt từng phần tử trong mảng đến khi nào giá trị ở vị trí thứ Arr[i] nhỏ hơn i thì ta dừng.\n",
    "Ta cần làm 2 bài toán để giải quyết bài này là:\n",
    "- Sắp xếp mảng giảm dần\n",
    "- Duyệt mảng tìm giá trị "
   ]
  },
  {
   "cell_type": "markdown",
   "metadata": {},
   "source": [
    "# Pattern recognition"
   ]
  },
  {
   "cell_type": "markdown",
   "metadata": {},
   "source": [
    "- Sort Array\n",
    "- Search Array"
   ]
  },
  {
   "cell_type": "markdown",
   "metadata": {},
   "source": [
    "# Algorithm design"
   ]
  },
  {
   "cell_type": "markdown",
   "metadata": {},
   "source": [
    "## Input"
   ]
  },
  {
   "cell_type": "markdown",
   "metadata": {},
   "source": [
    "- N (Kiểu int): Số bài báo (1 ≤ n ≤ 5×10^5)\n",
    "- Arr[] (Kiểu int): Mảng điểm số trích dẫn của mỗi bài báo Arr[0], Arr[1],...Arr[N-1] (0 ≤ Arr[i] ≤ 10^6, i=1÷n)."
   ]
  },
  {
   "cell_type": "markdown",
   "metadata": {},
   "source": [
    "## Output"
   ]
  },
  {
   "cell_type": "markdown",
   "metadata": {},
   "source": [
    "- H_index (Kiểu int): Chỉ số ảnh hưởng của một nhà khoa học"
   ]
  },
  {
   "cell_type": "markdown",
   "metadata": {},
   "source": [
    "**Time Complexity**:"
   ]
  },
  {
   "cell_type": "markdown",
   "metadata": {},
   "source": [
    "#### Pseudocode"
   ]
  },
  {
   "cell_type": "markdown",
   "metadata": {},
   "source": [
    "```\n",
    "Khởi tạo:\n",
    "\n",
    "N = số lượng bài báo\n",
    "Arr[] = Nhập điểm số mỗi bài báo\n",
    "H_index = 0\n",
    "\n",
    "Chương trình chính:\n",
    "\n",
    "1. Sắp xếp mảng Arr giảm dần\n",
    "2. Loop i from 0 to N - 1\n",
    "    if H_index + 1 <= Arr[i]:\n",
    "            H_index += 1\n",
    "\n",
    "Kết quả: In ra H_index\n",
    "```"
   ]
  },
  {
   "cell_type": "markdown",
   "metadata": {},
   "source": [
    "### Code"
   ]
  },
  {
   "cell_type": "code",
   "execution_count": 11,
   "metadata": {},
   "outputs": [
    {
     "name": "stdin",
     "output_type": "stream",
     "text": [
      " 10\n",
      " 9 9 9 9 9 9 9 9 1 2\n"
     ]
    },
    {
     "name": "stdout",
     "output_type": "stream",
     "text": [
      "8\n"
     ]
    }
   ],
   "source": [
    "def main(n,c):\n",
    "    array =[]\n",
    "    for i in c:\n",
    "        array.append(i)\n",
    "    array.sort(reverse = True)\n",
    "    result = 0\n",
    "    for i in range(n):\n",
    "        if (result + 1 <= array[i]):\n",
    "            result += 1\n",
    "    return result\n",
    "\n",
    "if __name__ == '__main__':\n",
    "    n = int(input())\n",
    "    c = map(int, input().split())\n",
    "    print(main(n, c))    "
   ]
  }
 ],
 "metadata": {
  "kernelspec": {
   "display_name": "Python 3",
   "language": "python",
   "name": "python3"
  },
  "language_info": {
   "codemirror_mode": {
    "name": "ipython",
    "version": 3
   },
   "file_extension": ".py",
   "mimetype": "text/x-python",
   "name": "python",
   "nbconvert_exporter": "python",
   "pygments_lexer": "ipython3",
   "version": "3.7.6"
  }
 },
 "nbformat": 4,
 "nbformat_minor": 4
}
