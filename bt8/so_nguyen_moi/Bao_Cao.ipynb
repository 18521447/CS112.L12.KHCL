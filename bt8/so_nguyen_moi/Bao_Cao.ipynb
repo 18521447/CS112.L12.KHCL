{
 "cells": [
  {
   "cell_type": "markdown",
   "metadata": {},
   "source": [
    "# Problem Statement"
   ]
  },
  {
   "cell_type": "markdown",
   "metadata": {},
   "source": [
    "![](de.png)"
   ]
  },
  {
   "cell_type": "markdown",
   "metadata": {},
   "source": [
    "# Input"
   ]
  },
  {
   "cell_type": "markdown",
   "metadata": {},
   "source": [
    "- $n$: int = số đầu vào ($n < 10^{100}$)"
   ]
  },
  {
   "cell_type": "markdown",
   "metadata": {},
   "source": [
    "# Output"
   ]
  },
  {
   "cell_type": "markdown",
   "metadata": {},
   "source": [
    "- $m$: int = số chia hết cho 3 khác $n$ ở một kí tự và có số kí tự = số kí tự của $n$"
   ]
  },
  {
   "cell_type": "markdown",
   "metadata": {},
   "source": [
    "# Abstraction"
   ]
  },
  {
   "cell_type": "markdown",
   "metadata": {},
   "source": [
    "Thay duy nhất 1 kí tự trong n sao cho số kết quả là lớn nhất có thể và chia hết cho 3"
   ]
  },
  {
   "cell_type": "markdown",
   "metadata": {},
   "source": [
    "# Pattern recognition"
   ]
  },
  {
   "cell_type": "markdown",
   "metadata": {},
   "source": [
    "- Mathematics\n",
    "- Brute force"
   ]
  },
  {
   "cell_type": "markdown",
   "metadata": {},
   "source": [
    "# Algorithm design"
   ]
  },
  {
   "cell_type": "markdown",
   "metadata": {},
   "source": [
    "*Chú thích*\n",
    "\n",
    "- phép chia lấy phần dư kí hiệu là: %\n",
    "- phép so sánh bằng kí hiệu là: ==\n",
    "- phép chia hết kí hiệu là: $\\vdots$"
   ]
  },
  {
   "cell_type": "markdown",
   "metadata": {},
   "source": [
    "## Main idea"
   ]
  },
  {
   "cell_type": "markdown",
   "metadata": {},
   "source": [
    "- Để thu được $m$ lớn nhất thì ưu tiên thay kí tự bên trái của $n$ và kí tự mới thay vào phải là lớn nhất\n",
    "- Để $m \\vdots 3$ thì (kí tự mới thay % 3) + (tổng kí tự trong $n$ - kí tự trước khi thay % 3) == 0"
   ]
  },
  {
   "cell_type": "markdown",
   "metadata": {},
   "source": [
    "## Pseudocode"
   ]
  },
  {
   "cell_type": "markdown",
   "metadata": {},
   "source": [
    "- Gán **total** = tổng của tất cả kí tự trong $n$\n",
    "\n",
    "- Gán cờ **replaced** = False (ý nghĩa của cờ **replaced**: có kí tự nào của $n$ bị thay thế chưa?)\n",
    "\n",
    "- Duyệt qua từng kí tự của $n$:\n",
    "    - Gán **current_total** = tổng của n kí tự trừ kí tự hiện tại (**total** - kí tự hiện tại)\n",
    "    - Gán **current_remainder** = **current_total** % 3\n",
    "    - Nếu **current_remainder** == 0:\n",
    "        - Nếu kí tự hiện tại < 9:\n",
    "            - Gán kí tự hiện tại = 9 (do 9 dư 0 cộng với phần dư 0 sẽ chia hết cho 3)\n",
    "            - replaced = True\n",
    "            - Kết thúc vòng lặp\n",
    "    - Nếu **current_remainder** == 1:\n",
    "        - Nếu kí tự hiện tại < 8:\n",
    "            - Gán kí tự hiện tại = 8 (do 8 dư 2 cộng với phần dư 1 sẽ chia hết cho 3)\n",
    "            - replaced = True\n",
    "            - Kết thúc vòng lặp\n",
    "    - Nếu **current_remainder** == 2:\n",
    "        - Nếu kí tự hiện tại < 7:\n",
    "            - Gán kí tự hiện tại = 7 (do 7 dư 1 cộng với phần dư 2 sẽ chia hết cho 3)\n",
    "            - replaced = True\n",
    "            - Kết thúc vòng lặp\n",
    "            \n",
    "- Nếu **replaced** == False thì ta cần biến đổi kí tự cuối cùng:\n",
    "    - **current_total** = **total** - kí tự cuối\n",
    "    - Nếu kí tự cuối == 9:\n",
    "        - thay kí tự cuối = 6\n",
    "    - Nếu kí tự cuối == 8:\n",
    "        - thay kí tự cuối = 5\n",
    "    - Nếu kí tự cuối == 7:\n",
    "        - thay kí tự cuối = 4        "
   ]
  },
  {
   "cell_type": "markdown",
   "metadata": {},
   "source": [
    "## Code"
   ]
  },
  {
   "cell_type": "code",
   "execution_count": null,
   "metadata": {},
   "outputs": [],
   "source": [
    "if __name__ == '__main__':\n",
    "    n = input().strip()\n",
    "    digits = list(map(int, list(n)))\n",
    "    total = sum(digits)\n",
    "\n",
    "    replaced = False\n",
    "\n",
    "    alternative_digit_for = {\n",
    "        0: 9, \n",
    "        1: 8, \n",
    "        2: 7\n",
    "    }\n",
    "\n",
    "    for i, digit in enumerate(digits):\n",
    "        removed_digit = total - digit\n",
    "        remainder = removed_digit % 3\n",
    "\n",
    "        new_digit = alternative_digit_for[remainder]\n",
    "        \n",
    "        if new_digit > digit:\n",
    "            digits[i] = new_digit\n",
    "            replaced = True\n",
    "            break\n",
    "    \n",
    "    if not replaced:\n",
    "        remainder = (total - digits[-1]) % 3\n",
    "        new_digit = alternative_digit_for[remainder]\n",
    "        \n",
    "        if new_digit == digits[-1]:\n",
    "            new_digit -= 3\n",
    "\n",
    "        digits[-1] = new_digit\n",
    "\n",
    "    \n",
    "    result = ''.join(map(str, digits))\n",
    "\n",
    "    print(result)\n"
   ]
  }
 ],
 "metadata": {
  "kernelspec": {
   "display_name": "Python 3",
   "language": "python",
   "name": "python3"
  },
  "language_info": {
   "codemirror_mode": {
    "name": "ipython",
    "version": 3
   },
   "file_extension": ".py",
   "mimetype": "text/x-python",
   "name": "python",
   "nbconvert_exporter": "python",
   "pygments_lexer": "ipython3",
   "version": "3.8.6"
  }
 },
 "nbformat": 4,
 "nbformat_minor": 4
}
