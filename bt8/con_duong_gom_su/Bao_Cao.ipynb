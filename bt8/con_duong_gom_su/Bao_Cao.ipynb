{
 "cells": [
  {
   "cell_type": "markdown",
   "metadata": {},
   "source": [
    "# Problem statement"
   ]
  },
  {
   "cell_type": "markdown",
   "metadata": {},
   "source": [
    "![](de.jpg)"
   ]
  },
  {
   "cell_type": "markdown",
   "metadata": {},
   "source": [
    "# Input"
   ]
  },
  {
   "cell_type": "markdown",
   "metadata": {},
   "source": [
    "- n (Kiểu int): Số lượng lô của con đê ($2 < n ≤ 10^5$)\n",
    "- a1, a2, .., an (Kiểu list): Danh sách màu của các lô ($1 ≤ ai ≤ 50000, i = 1÷n$)"
   ]
  },
  {
   "cell_type": "markdown",
   "metadata": {},
   "source": [
    "# Output"
   ]
  },
  {
   "cell_type": "markdown",
   "metadata": {},
   "source": [
    "- m (Kiểu int): số lượng phương án khác nhau chia con đường thành các bức tranh, nếu không có phương án nào thì m = -1\n",
    "- Các dòng tiếp theo:\n",
    "    - Mỗi dòng đưa ra 3 số nguyên:\n",
    "        - k (Kiểu int): Độ rộng bức tranh\n",
    "        - p (Kiểu int): Số tranh do nhóm 1 thực hiện\n",
    "        - q (Kiểu int): Số tranh do nhóm 2 thực hiện ($p ≥ q > 0$)"
   ]
  },
  {
   "cell_type": "markdown",
   "metadata": {},
   "source": [
    "# Abstraction"
   ]
  },
  {
   "cell_type": "markdown",
   "metadata": {},
   "source": [
    "Tìm tổng số lượng các mảng con tương đương nhau"
   ]
  },
  {
   "cell_type": "markdown",
   "metadata": {},
   "source": [
    "# Pattern recognition"
   ]
  },
  {
   "cell_type": "code",
   "execution_count": null,
   "metadata": {},
   "outputs": [],
   "source": []
  },
  {
   "cell_type": "markdown",
   "metadata": {},
   "source": [
    "# Algorithm design"
   ]
  },
  {
   "cell_type": "markdown",
   "metadata": {},
   "source": [
    "## Idea"
   ]
  },
  {
   "cell_type": "markdown",
   "metadata": {},
   "source": [
    "### Ý tưởng chính"
   ]
  },
  {
   "cell_type": "markdown",
   "metadata": {},
   "source": []
  },
  {
   "cell_type": "markdown",
   "metadata": {
    "slideshow": {
     "slide_type": "slide"
    }
   },
   "source": [
    "## Pseudocode"
   ]
  },
  {
   "cell_type": "code",
   "execution_count": null,
   "metadata": {},
   "outputs": [],
   "source": []
  },
  {
   "cell_type": "markdown",
   "metadata": {},
   "source": [
    "## Time complexity"
   ]
  },
  {
   "cell_type": "code",
   "execution_count": null,
   "metadata": {},
   "outputs": [],
   "source": []
  },
  {
   "cell_type": "markdown",
   "metadata": {},
   "source": [
    "## Code"
   ]
  },
  {
   "cell_type": "code",
   "execution_count": 2,
   "metadata": {},
   "outputs": [
    {
     "name": "stdout",
     "output_type": "stream",
     "text": [
      "9\n",
      "1 2 3 6 4 9 3 1 2\n",
      "1\n",
      "3 2 1\n"
     ]
    }
   ],
   "source": [
    "from collections import Counter\n",
    "\n",
    "def get_all_k(n):\n",
    "    step = 1 if n % 2 == 0 else 2\n",
    "    all_k = range(1, n // 2 + 1, step)\n",
    "    return [k for k in all_k if n % k == 0]\n",
    "\n",
    "def solve(n, arr) -> str:\n",
    "    solutions = dict()\n",
    "\n",
    "    for k in get_all_k(n):\n",
    "        solutions[k] = [1, 1]\n",
    "\n",
    "        c = n // k\n",
    "\n",
    "        first_block = Counter(arr[:k])\n",
    "        second_block = Counter(arr[k:2*k])\n",
    "\n",
    "        if first_block == second_block:\n",
    "            solutions[k] = -1\n",
    "            continue\n",
    "\n",
    "        for start in range(2 * k, n, k):\n",
    "            current_block = Counter(arr[start:start + k])\n",
    "            if current_block == first_block:\n",
    "                solutions[k][0] += 1\n",
    "            elif current_block == second_block:\n",
    "                solutions[k][1] += 1\n",
    "            else:\n",
    "                solutions[k] = -1\n",
    "                break\n",
    "    \n",
    "    count_valid_solution = 0\n",
    "\n",
    "    result = []\n",
    "    for key, value in solutions.items():\n",
    "        if value != -1:\n",
    "            count_valid_solution += 1\n",
    "\n",
    "            if value[0] < value[1]:\n",
    "                value[0], value[1] = value[1], value[0]\n",
    "\n",
    "            result.append('{} {} {}'.format(key, value[0], value[1]))\n",
    "            result.append('\\n')\n",
    "\n",
    "    if count_valid_solution == 0:\n",
    "        return '-1'\n",
    "\n",
    "    result.pop(-1)\n",
    "    result.insert(0, '{}\\n'.format(count_valid_solution))\n",
    "\n",
    "    return ''.join(result)\n",
    "        \n",
    "\n",
    "\n",
    "if __name__ == '__main__':\n",
    "    N = int(input().strip())\n",
    "    A = tuple(map(int, input().split()))\n",
    "\n",
    "    assert(len(A) == N)\n",
    "\n",
    "    print(solve(N, A))"
   ]
  },
  {
   "cell_type": "code",
   "execution_count": null,
   "metadata": {},
   "outputs": [],
   "source": []
  }
 ],
 "metadata": {
  "kernelspec": {
   "display_name": "Python 3",
   "language": "python",
   "name": "python3"
  },
  "language_info": {
   "codemirror_mode": {
    "name": "ipython",
    "version": 3
   },
   "file_extension": ".py",
   "mimetype": "text/x-python",
   "name": "python",
   "nbconvert_exporter": "python",
   "pygments_lexer": "ipython3",
   "version": "3.8.5"
  }
 },
 "nbformat": 4,
 "nbformat_minor": 4
}
