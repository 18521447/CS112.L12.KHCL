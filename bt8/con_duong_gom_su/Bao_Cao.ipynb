{
 "cells": [
  {
   "cell_type": "markdown",
   "metadata": {},
   "source": [
    "# Problem statement"
   ]
  },
  {
   "cell_type": "markdown",
   "metadata": {},
   "source": [
    "![](de.jpg)"
   ]
  },
  {
   "cell_type": "markdown",
   "metadata": {},
   "source": [
    "# Input"
   ]
  },
  {
   "cell_type": "markdown",
   "metadata": {},
   "source": [
    "- n (Kiểu int): Số lượng lô của con đê ($2 < n ≤ 10^5$)\n",
    "- a1, a2, .., an (Kiểu list): Danh sách màu của các lô ($1 ≤ ai ≤ 50000, i = 1÷n$)"
   ]
  },
  {
   "cell_type": "markdown",
   "metadata": {},
   "source": [
    "# Output"
   ]
  },
  {
   "cell_type": "markdown",
   "metadata": {},
   "source": [
    "- m (Kiểu int): số lượng phương án khác nhau chia con đường thành các bức tranh, nếu không có phương án nào thì m = -1\n",
    "- Các dòng tiếp theo:\n",
    "    - Mỗi dòng đưa ra 3 số nguyên:\n",
    "        - k (Kiểu int): Độ rộng bức tranh\n",
    "        - p (Kiểu int): Số tranh do nhóm 1 thực hiện\n",
    "        - q (Kiểu int): Số tranh do nhóm 2 thực hiện ($p ≥ q > 0$)"
   ]
  },
  {
   "cell_type": "markdown",
   "metadata": {},
   "source": [
    "# Abstraction"
   ]
  },
  {
   "cell_type": "markdown",
   "metadata": {},
   "source": [
    "Tìm tổng số lượng các mảng con tương đương nhau"
   ]
  },
  {
   "cell_type": "markdown",
   "metadata": {},
   "source": [
    "# Pattern recognition"
   ]
  },
  {
   "cell_type": "markdown",
   "metadata": {},
   "source": [
    "Hash Table"
   ]
  },
  {
   "cell_type": "markdown",
   "metadata": {},
   "source": [
    "# Algorithm design"
   ]
  },
  {
   "cell_type": "markdown",
   "metadata": {},
   "source": [
    "## Idea"
   ]
  },
  {
   "cell_type": "markdown",
   "metadata": {},
   "source": [
    "### Ý tưởng chính"
   ]
  },
  {
   "cell_type": "markdown",
   "metadata": {},
   "source": [
    "- Tìm tất cả các k:\n",
    "    - Đề đã đưa ra tất cả các bức tranh đều có kích thước bằng nhau => k phải là ước của n mới thỏa được điều kiện trên\n",
    "- Tính số tranh của mỗi nhóm:\n",
    "    - Tạo ra 2 Group:\n",
    "        - Group 1: Trình tự màu do nhóm 1 vẽ\n",
    "        - Group 2: Trình tự màu do nhóm 2 vẽ\n",
    "    - Liệt kê tần suất xuất hiện(LKTS) của các số trong mảng con có kích thước bằng k được tạo nên bởi mảng chính\n",
    "        - Nếu LKTS = Group 1 -> Số tranh vẽ của nhóm 1 cộng thêm 1 đơn vị\n",
    "        - Nếu LKTS = Group 2 -> Số tranh vẽ của nhóm 2 cộng thêm 1 đơn vị\n",
    "        - Nếu Group 1 rỗng -> Group 1 = LKTS Ngược lại Group 2 rỗng -> Group 2 = LKTS\n",
    "        - Trả về -1 nếu LKTS không thuộc Group 1 hoặc Group 2\n",
    "    - Lặp lại các bước trên cho tất cả các k tìm được. Nếu có bức tranh không thuộc của cả 2 nhóm thì trả về -1. Ngược lại trả về độ rộng bức tranh(k), tổng số tranh nhóm 1, tổng số tranh nhóm 2."
   ]
  },
  {
   "cell_type": "markdown",
   "metadata": {
    "slideshow": {
     "slide_type": "slide"
    }
   },
   "source": [
    "## Pseudocode"
   ]
  },
  {
   "cell_type": "markdown",
   "metadata": {},
   "source": [
    "- Chương trinhg tìm tất cả các k:\n",
    "    - Step=1 nếu n chia hết cho 2, ngược lại Step=2\n",
    "    - all_k= danh sách các số từ 1 tới n//2 + 1 với bước nhảy = step\n",
    "    - Trả về các số trong all_k thỏa điều kiện n chia hết cho k\n",
    "- Chương trình chính:\n",
    "    - Khởi tạo:\n",
    "        Solution= Tổng số tranh của nhóm 1 và nhóm 2 tuong ứng với mỗi k\n",
    "        count_valid_solution = Số lượng phương án khác nhau chia con đường thành bức tranh\n",
    "        result = danh sách độ rộng bức tranh, số tranh của nhóm 1, số tranh của nhóm 2 theo thứ tự k tăng dần\n",
    "    - Lặp k trong danh sách trả về của Chương trình tìm tất cả các k\n",
    "        - Solution k = [0][0]: Số tranh của nhóm 1 và nhóm 2 đều bằng 0 (Nên dùng dictionary)\n",
    "        - Group1 = Rỗng: Trình tự màu do nhóm 1 vẽ\n",
    "        - Group2 = Rỗng: Trình tự màu do nhóm 2 vẽ\n",
    "        - Lặp start trong khoảng từ 0 -> n với bước nhảy = k\n",
    "            - current_block = Liệt kê tần số xuất hiện của các số trong mảng con từ vị trí start -> start + k\n",
    "            - Nếu current_block bằng Group1\n",
    "                - Solution k của nhóm 1 cộng thêm 1\n",
    "            - Nếu current_block bằng Group2\n",
    "                - Solution k của nhóm 2 cộng thêm 1\n",
    "            - Nếu Group 1 rỗng và group 2 không rỗng\n",
    "                - Group 1 = current_block\n",
    "            - Ngược lại nếu Group 2 rỗng và group 1 không rỗng\n",
    "                - Group 2  = current_block\n",
    "            - Nếu không thỏa các điều kiện trên thì Solution k = -1\n",
    "    - count_valid_solution = 0\n",
    "    - result = rỗng\n",
    "    - Với mỗi key và Số tranh của nhóm 1 và 2 trong Solution\n",
    "        - Nếu Số tranh của nhóm 1 và 2 khác - 1:\n",
    "            - count_valid_solution = count_valid_solution + 1\n",
    "            - Thêm key và số tranh của nhóm 1 và 2 vào trong result\n",
    "    - Nếu count_valid_solution = 0 -> In ra màn hình -1\n",
    "    "
   ]
  },
  {
   "cell_type": "markdown",
   "metadata": {},
   "source": [
    "## Time complexity"
   ]
  },
  {
   "cell_type": "code",
   "execution_count": null,
   "metadata": {},
   "outputs": [],
   "source": []
  },
  {
   "cell_type": "markdown",
   "metadata": {},
   "source": [
    "## Code"
   ]
  },
  {
   "cell_type": "code",
   "execution_count": 3,
   "metadata": {},
   "outputs": [
    {
     "name": "stdout",
     "output_type": "stream",
     "text": [
      "9\n",
      "1 2 3 6 5 9 3 2 1\n",
      "1\n",
      "3 2 1\n"
     ]
    }
   ],
   "source": [
    "from collections import Counter\n",
    "\n",
    "def get_all_k(n):\n",
    "    step = 1 if n % 2 == 0 else 2\n",
    "    all_k = range(1, n // 2 + 1, step)\n",
    "    return [k for k in all_k if n % k == 0]\n",
    "\n",
    "def solve(n, arr) -> str:\n",
    "    solutions = dict()\n",
    "\n",
    "    for k in get_all_k(n):\n",
    "        solutions[k] = [0, 0]\n",
    "\n",
    "        group1 = None\n",
    "        group2 = None\n",
    "\n",
    "        for start in range(0, n, k):\n",
    "            current_block = Counter(arr[start:start + k])\n",
    "            if current_block == group1:\n",
    "                solutions[k][0] += 1\n",
    "            elif current_block == group2:\n",
    "                solutions[k][1] += 1\n",
    "            elif group1 is None:\n",
    "                group1 = current_block\n",
    "                solutions[k][0] += 1\n",
    "            elif group2 is None and current_block != group1:\n",
    "                group2 = current_block\n",
    "                solutions[k][1] += 1\n",
    "            else:\n",
    "                solutions[k] = -1\n",
    "                break\n",
    "        \n",
    "        if isinstance(solutions[k], list) and 0 in solutions[k]:\n",
    "            solutions[k] = -1\n",
    "    \n",
    "    count_valid_solution = 0\n",
    "\n",
    "    result = []\n",
    "    for key, value in solutions.items():\n",
    "        if value != -1:\n",
    "            count_valid_solution += 1\n",
    "\n",
    "            result.append('{} {} {}'.format(key, value[0], value[1]))\n",
    "            result.append('\\n')\n",
    "\n",
    "    if count_valid_solution == 0:\n",
    "        return '-1'\n",
    "\n",
    "    result.pop(-1)\n",
    "    result.insert(0, '{}\\n'.format(count_valid_solution))\n",
    "\n",
    "    return ''.join(result)\n",
    "        \n",
    "\n",
    "\n",
    "if __name__ == '__main__':\n",
    "    N = int(input().strip())\n",
    "    A = tuple(map(int, input().split()))\n",
    "\n",
    "    if len(A) != N:\n",
    "        raise RuntimeError\n",
    "\n",
    "    print(solve(N, A))"
   ]
  }
 ],
 "metadata": {
  "kernelspec": {
   "display_name": "Python 3",
   "language": "python",
   "name": "python3"
  },
  "language_info": {
   "codemirror_mode": {
    "name": "ipython",
    "version": 3
   },
   "file_extension": ".py",
   "mimetype": "text/x-python",
   "name": "python",
   "nbconvert_exporter": "python",
   "pygments_lexer": "ipython3",
   "version": "3.8.5"
  }
 },
 "nbformat": 4,
 "nbformat_minor": 4
}
