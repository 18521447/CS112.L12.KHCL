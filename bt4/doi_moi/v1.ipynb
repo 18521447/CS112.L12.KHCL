{
 "metadata": {
  "language_info": {
   "codemirror_mode": {
    "name": "ipython",
    "version": 3
   },
   "file_extension": ".py",
   "mimetype": "text/x-python",
   "name": "python",
   "nbconvert_exporter": "python",
   "pygments_lexer": "ipython3",
   "version": "3.8.5-final"
  },
  "orig_nbformat": 2,
  "kernelspec": {
   "name": "Python 3.8.5 64-bit ('General': conda)",
   "display_name": "Python 3.8.5 64-bit ('General': conda)",
   "metadata": {
    "interpreter": {
     "hash": "24956a433da60526690bf37de44d7e2cc2f4ef78acf7c5ab31f77cb79dbdd2ea"
    }
   }
  }
 },
 "nbformat": 4,
 "nbformat_minor": 2,
 "cells": [
  {
   "cell_type": "code",
   "execution_count": 1,
   "metadata": {},
   "outputs": [],
   "source": [
    "import math"
   ]
  },
  {
   "cell_type": "code",
   "execution_count": 2,
   "metadata": {},
   "outputs": [],
   "source": [
    "\n",
    "def total_tree_at(x):\n",
    "    return a * (x - x // k) + b * (x - x // m)\n"
   ]
  },
  {
   "cell_type": "code",
   "execution_count": 3,
   "metadata": {},
   "outputs": [],
   "source": [
    "a, k, b, m, n = map(int, input().split())"
   ]
  },
  {
   "cell_type": "code",
   "execution_count": 7,
   "metadata": {},
   "outputs": [],
   "source": [
    "a, k, b, m, n = 2, 3, 3, 4, 16"
   ]
  },
  {
   "cell_type": "code",
   "execution_count": 4,
   "metadata": {
    "tags": []
   },
   "outputs": [
    {
     "output_type": "stream",
     "name": "stdout",
     "text": "1\n"
    }
   ],
   "source": [
    "\n",
    "day = 1    \n",
    "\n",
    "while total_tree_at(day) < n:\n",
    "    day += 1\n",
    "\n",
    "print(day)\n"
   ]
  },
  {
   "cell_type": "code",
   "execution_count": 8,
   "metadata": {
    "tags": []
   },
   "outputs": [
    {
     "output_type": "stream",
     "name": "stdout",
     "text": "5\n"
    }
   ],
   "source": [
    "left_day = right_day = 1\n",
    "\n",
    "while total_tree_at(right_day) < n:\n",
    "    left_day = right_day\n",
    "    right_day *= 2\n",
    "    \n",
    "day = (left_day + right_day) // 2\n",
    "day_tree = total_tree_at(day)\n",
    "while abs(day_tree - n) > 1:\n",
    "    if day_tree < n:\n",
    "        left_day = day\n",
    "    if day_tree > n:\n",
    "        right_day = day\n",
    "    day = (left_day + right_day) // 2\n",
    "    day_tree = total_tree_at(day)\n",
    "\n",
    "for i in range(2):\n",
    "    if total_tree_at(day + i) >= n:\n",
    "        day += i\n",
    "        break\n",
    "print(day)\n",
    "    \n",
    "\n"
   ]
  },
  {
   "cell_type": "code",
   "execution_count": null,
   "metadata": {},
   "outputs": [],
   "source": []
  },
  {
   "cell_type": "code",
   "execution_count": 5,
   "metadata": {},
   "outputs": [
    {
     "output_type": "execute_result",
     "data": {
      "text/plain": "4"
     },
     "metadata": {},
     "execution_count": 5
    }
   ],
   "source": [
    "total_tree_at(4)"
   ]
  },
  {
   "cell_type": "code",
   "execution_count": null,
   "metadata": {},
   "outputs": [],
   "source": []
  }
 ]
}