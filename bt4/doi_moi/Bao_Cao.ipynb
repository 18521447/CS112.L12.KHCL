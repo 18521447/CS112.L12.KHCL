{
 "cells": [
  {
   "cell_type": "markdown",
   "metadata": {},
   "source": [
    "# Abstraction"
   ]
  },
  {
   "cell_type": "markdown",
   "metadata": {},
   "source": [
    "Tìm phần tử đầu tiên (bé nhất) trong mảng tăng dần >= một số cho trước"
   ]
  },
  {
   "cell_type": "markdown",
   "metadata": {},
   "source": [
    "# Pattern recognition"
   ]
  },
  {
   "cell_type": "markdown",
   "metadata": {},
   "source": [
    "Binary search"
   ]
  },
  {
   "cell_type": "markdown",
   "metadata": {},
   "source": [
    "# Algorithm design"
   ]
  },
  {
   "cell_type": "markdown",
   "metadata": {},
   "source": [
    "## Input"
   ]
  },
  {
   "cell_type": "markdown",
   "metadata": {},
   "source": [
    "- n (Kiểu int): Tổng số cây cần chặt              (1 ≤ n ≤ 10^18)\n",
    "- a (Kiểu int): Số cây đội I hạ mỗi ngày          (1 ≤ a ≤ 10^9)\n",
    "- k (Kiểu int): Chu kỳ nghỉ đội I                 (2 ≤ k ≤ 10^18)\n",
    "- b (Kiểu int): Số cây đội II hạ mỗi ngày         (1 ≤ b ≤ 10^9)\n",
    "- m (Kiểu int): Chu kỳ nghỉ đội II                (2 ≤ m ≤ 10^18)"
   ]
  },
  {
   "cell_type": "markdown",
   "metadata": {},
   "source": [
    "## Output"
   ]
  },
  {
   "cell_type": "markdown",
   "metadata": {},
   "source": [
    "- mid (Kiểu int): Số ngày cần thiết để cả 2 đội chặt hết toàn bộ cây trong thành phố"
   ]
  },
  {
   "cell_type": "markdown",
   "metadata": {},
   "source": [
    "### Binary Search"
   ]
  },
  {
   "cell_type": "markdown",
   "metadata": {},
   "source": [
    "**Time Complexity**: $O(\\log n)$"
   ]
  },
  {
   "cell_type": "markdown",
   "metadata": {},
   "source": [
    "#### Pseudocode"
   ]
  },
  {
   "cell_type": "markdown",
   "metadata": {},
   "source": [
    "```\n",
    "Khởi tạo:\n",
    "\n",
    "N = Tổng cây xanh\n",
    "a = Cây đội I hạ mỗi ngày\n",
    "k = ngày nghỉ của đội I\n",
    "b = Cây đội II hạ mỗi ngày\n",
    "m = ngày nghỉ của đội II\n",
    "left_day = 0\n",
    "right_day = 10^18\n",
    "mid = 0\n",
    "\n",
    "Chương trình phụ: Tính số lượng cây của cả 2 đội đã chặt sau x ngày \n",
    "    \n",
    "total_tree_at(x)\n",
    "    return a *(x - x // k) + b*(x - x // m)\n",
    "    \n",
    "Chương trình chính:\n",
    "    \n",
    "    mid = (left_day + right_day) // 2\n",
    "    while loop: left_day <= right_day\n",
    "        if total_tree_at(mid) == n\n",
    "            return mid\n",
    "        if total_tree_at(mid) < n\n",
    "            left_day = mid + 1\n",
    "        else\n",
    "            right_day = mid - 1\n",
    "        mid = (left_day + right_day) // 2\n",
    "    if total_tree_at(mid) > n\n",
    "        return mid - 1\n",
    "    else\n",
    "        return mid + 1\n",
    "\n",
    "Kết quả: In ra mid\n",
    "```"
   ]
  },
  {
   "cell_type": "code",
   "execution_count": 1,
   "metadata": {},
   "outputs": [
    {
     "name": "stdout",
     "output_type": "stream",
     "text": [
      "2 4 3 3 25\n",
      "7\n"
     ]
    }
   ],
   "source": [
    "import math\n",
    "\n",
    "\n",
    "def advanced_binary_search(get_value_at, n, left, right):\n",
    "    mid = (left + right) // 2\n",
    "    while left <= right:\n",
    "        if get_value_at(mid) == n:\n",
    "            return mid\n",
    "        if get_value_at(mid) < n:\n",
    "            left = mid + 1\n",
    "        else:\n",
    "            right = mid - 1\n",
    "        mid = (left + right) // 2\n",
    "\n",
    "    if get_value_at(mid) > n:\n",
    "        return mid - 1\n",
    "    else:\n",
    "        return mid + 1\n",
    "\n",
    "\n",
    "def total_tree_at(x):\n",
    "    return a * (x - x // k) + b * (x - x // m)\n",
    "\n",
    "\n",
    "if __name__ == '__main__':\n",
    "    a, k, b, m, n = map(int, input().split())\n",
    "\n",
    "    left_day = 0\n",
    "    right_day = 10**18\n",
    "\n",
    "    day = advanced_binary_search(total_tree_at, n, left_day, right_day)\n",
    "\n",
    "    print(day)"
   ]
  }
 ],
 "metadata": {
  "kernelspec": {
   "display_name": "Python 3",
   "language": "python",
   "name": "python3"
  },
  "language_info": {
   "codemirror_mode": {
    "name": "ipython",
    "version": 3
   },
   "file_extension": ".py",
   "mimetype": "text/x-python",
   "name": "python",
   "nbconvert_exporter": "python",
   "pygments_lexer": "ipython3",
   "version": "3.8.5"
  }
 },
 "nbformat": 4,
 "nbformat_minor": 4
}
