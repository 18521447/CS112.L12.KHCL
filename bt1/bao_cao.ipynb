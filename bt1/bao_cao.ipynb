{
 "cells": [
  {
   "cell_type": "markdown",
   "metadata": {
    "pycharm": {
     "name": "#%%\n"
    }
   },
   "source": [
    "# Abstraction"
   ]
  },
  {
   "cell_type": "markdown",
   "metadata": {},
   "source": [
    "Tìm mảng con liên tục có tổng lớn nhất"
   ]
  },
  {
   "cell_type": "markdown",
   "metadata": {},
   "source": [
    "# Pattern recognition"
   ]
  },
  {
   "cell_type": "markdown",
   "metadata": {},
   "source": [
    "- Vét cạn"
   ]
  },
  {
   "cell_type": "markdown",
   "metadata": {},
   "source": [
    "# Algorithm design"
   ]
  },
  {
   "cell_type": "markdown",
   "metadata": {},
   "source": [
    "### Vét cạn"
   ]
  },
  {
   "cell_type": "markdown",
   "metadata": {},
   "source": [
    "```\n",
    "tổng_lớn_nhất = input[0]\n",
    "index_trái = 0\n",
    "index_phải = 0\n",
    "\n",
    "for i in 0 to len(input)\n",
    "    for j in i to len(input)\n",
    "        tổng_của_mảng_hiện_tại = tổng các phần tử từ i đến j của mảng input\n",
    "        \n",
    "        nếu tổng_của_mảng_hiện_tại > tổng_lớn_nhất thì\n",
    "            tổng_lớn_nhất = tổng_của_mảng_hiện_tại\n",
    "            index_trái = i\n",
    "            index_phải = j     \n",
    "```"
   ]
  }
 ],
 "metadata": {
  "kernelspec": {
   "display_name": "Python 3",
   "language": "python",
   "name": "python3"
  },
  "language_info": {
   "codemirror_mode": {
    "name": "ipython",
    "version": 3
   },
   "file_extension": ".py",
   "mimetype": "text/x-python",
   "name": "python",
   "nbconvert_exporter": "python",
   "pygments_lexer": "ipython3",
   "version": "3.8.5"
  }
 },
 "nbformat": 4,
 "nbformat_minor": 4
}