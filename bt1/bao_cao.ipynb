{
 "cells": [
  {
   "cell_type": "markdown",
   "metadata": {
    "pycharm": {
     "name": "#%%\n"
    }
   },
   "source": [
    "# Abstraction"
   ]
  },
  {
   "cell_type": "markdown",
   "metadata": {},
   "source": [
    "Tìm mảng con liên tục có tổng lớn nhất "
   ]
  },
  {
   "cell_type": "markdown",
   "metadata": {},
   "source": [
    "# Pattern recognition"
   ]
  },
  {
   "cell_type": "markdown",
   "metadata": {},
   "source": [
    "- Vét cạn\n",
    "- Quy hoạch động"
   ]
  },
  {
   "cell_type": "markdown",
   "metadata": {},
   "source": [
    "# Algorithm design"
   ]
  },
  {
   "cell_type": "markdown",
   "metadata": {},
   "source": [
    "## Input"
   ]
  },
  {
   "cell_type": "markdown",
   "metadata": {},
   "source": [
    "- N (Kiểu int): số lượng phần tử của mảng (1 ≤ n ≤ 10^6)\n",
    "- Arr (Mảng int): Chứa N số nguyên Arr[0], Arr[2], . . ., Arr[n-1] (0 ≤ |a[i]| ≤ 10^9)\n"
   ]
  },
  {
   "cell_type": "markdown",
   "metadata": {},
   "source": [
    "## Output"
   ]
  },
  {
   "cell_type": "markdown",
   "metadata": {},
   "source": [
    "- P (Kiểu int): P là index vị trí bắt đầu của mảng con.\n",
    "- Q (Kiểu int): Q là index vị trí kết thúc của mảng con.\n",
    "- Sum (Kiểu int): Tổng thu được của mảng con từ P đến Q.\n"
   ]
  },
  {
   "cell_type": "markdown",
   "metadata": {},
   "source": [
    "## Brute Force"
   ]
  },
  {
   "cell_type": "markdown",
   "metadata": {},
   "source": [
    "### Pseudocode"
   ]
  },
  {
   "cell_type": "markdown",
   "metadata": {},
   "source": [
    "*Temporary varible*"
   ]
  },
  {
   "cell_type": "markdown",
   "metadata": {},
   "source": [
    "- Max_current (Kiểu int) : Tổng của mảng con đang xét"
   ]
  },
  {
   "cell_type": "markdown",
   "metadata": {},
   "source": [
    "```\n",
    "Khởi tạo:\n",
    "Sum = Arr[0]\n",
    "P = 0\n",
    "Q = 0\n",
    "\n",
    "Chương trình chính:\n",
    "Loop i from 0 to N-1\n",
    "    Loop j from i to N-1\n",
    "        Max_current = Tổng các phần tử của mảng Arr từ i tới j\n",
    "        if Sum < Max_current:\n",
    "            Sum = Max_current\n",
    "            P = i\n",
    "            Q = j\n",
    "            \n",
    "Kết quả: In ra P, Q, Sum\n",
    "```"
   ]
  },
  {
   "cell_type": "markdown",
   "metadata": {},
   "source": [
    "### Code"
   ]
  },
  {
   "cell_type": "code",
   "execution_count": 5,
   "metadata": {},
   "outputs": [
    {
     "name": "stdout",
     "output_type": "stream",
     "text": [
      "5\n",
      "1 2 3 -20 7\n",
      "5 5 7\n"
     ]
    }
   ],
   "source": [
    "n = int(input())\n",
    "\n",
    "arr = list(map(int, input().split()))\n",
    "\n",
    "max_global = arr[0]\n",
    "max_l = 0\n",
    "max_r = 0\n",
    "\n",
    "for i in range(n):\n",
    "    for j in range(i, n):\n",
    "        \n",
    "        max_current = sum(arr[i:j + 1])\n",
    "\n",
    "        if max_global < max_current:\n",
    "            max_global = max_current\n",
    "            max_l = i\n",
    "            max_r = j\n",
    "\n",
    "        \n",
    "print(max_l + 1, max_r + 1, max_global)"
   ]
  },
  {
   "cell_type": "markdown",
   "metadata": {},
   "source": [
    "## Dynamic Programming\n"
   ]
  },
  {
   "cell_type": "markdown",
   "metadata": {},
   "source": [
    "### Pseudocode"
   ]
  },
  {
   "cell_type": "markdown",
   "metadata": {},
   "source": [
    "*Temporary variable*"
   ]
  },
  {
   "cell_type": "markdown",
   "metadata": {},
   "source": [
    "- Max_current (Kiểu int) : Tổng của mảng con đang xét\n",
    "- l (Kiểu int): Index bắt đầu của mảng con hiện tại đang xét\n",
    "- r (Kiểu int): Index kết thúc của mảng con hiện tại đang xét\n",
    "- tmp (Kiểu int): Biến tạm"
   ]
  },
  {
   "cell_type": "markdown",
   "metadata": {},
   "source": [
    "```\n",
    "Khởi tạo:\n",
    "Sum = Arr[0]\n",
    "Max_current = Arr[0]\n",
    "P = 0\n",
    "Q = 0\n",
    "\n",
    "Chương trình chính:\n",
    "Loop r from 1 to N-1\n",
    "    tmp = Max_current + Arr[r]\n",
    "    if Arr[r] > tmp:\n",
    "        Max_current = Arr[r]\n",
    "        l = r\n",
    "    else:\n",
    "        Max_current = tmp\n",
    "    \n",
    "    if Max_current > Sum:\n",
    "        Sum = Max_current\n",
    "        P = l\n",
    "        Q = r\n",
    "            \n",
    "Kết quả: In ra P, Q, Sum\n",
    "```"
   ]
  },
  {
   "cell_type": "markdown",
   "metadata": {},
   "source": [
    "### Code"
   ]
  },
  {
   "cell_type": "code",
   "execution_count": 6,
   "metadata": {},
   "outputs": [
    {
     "name": "stdout",
     "output_type": "stream",
     "text": [
      "5\n",
      "1 2 3 -15 7\n",
      "5 5 7\n"
     ]
    }
   ],
   "source": [
    "n = int(input())\n",
    "\n",
    "arr = list(map(int, input().split()))\n",
    "\n",
    "max_global = max_current = arr[0]\n",
    "\n",
    "max_l = max_r = l = 0\n",
    "\n",
    "for r in range(1, n):\n",
    "    tmp = max_current + arr[r]\n",
    "    if arr[r] > tmp:\n",
    "        max_current = arr[r]\n",
    "        l = r\n",
    "    else:\n",
    "        max_current = tmp\n",
    "\n",
    "    if max_current > max_global:\n",
    "        max_global = max_current\n",
    "        max_l = l\n",
    "        max_r = r\n",
    "\n",
    "print(max_l + 1, max_r + 1, max_global)"
   ]
  }
 ],
 "metadata": {
  "kernelspec": {
   "display_name": "Python 3",
   "language": "python",
   "name": "python3"
  },
  "language_info": {
   "codemirror_mode": {
    "name": "ipython",
    "version": 3
   },
   "file_extension": ".py",
   "mimetype": "text/x-python",
   "name": "python",
   "nbconvert_exporter": "python",
   "pygments_lexer": "ipython3",
   "version": "3.7.6"
  }
 },
 "nbformat": 4,
 "nbformat_minor": 4
}
