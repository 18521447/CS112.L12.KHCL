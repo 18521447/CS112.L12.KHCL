{
 "cells": [
  {
   "cell_type": "markdown",
   "metadata": {},
   "source": [
    "# Abstraction"
   ]
  },
  {
   "cell_type": "markdown",
   "metadata": {},
   "source": [
    "Tính giá trị fibonacci ở vị trí 2 * k"
   ]
  },
  {
   "cell_type": "markdown",
   "metadata": {},
   "source": [
    "# Pattern recognition"
   ]
  },
  {
   "cell_type": "markdown",
   "metadata": {},
   "source": [
    "- Đệ quy\n",
    "- Quy hoạch động"
   ]
  },
  {
   "cell_type": "markdown",
   "metadata": {},
   "source": [
    "# Algorithm design"
   ]
  },
  {
   "cell_type": "markdown",
   "metadata": {},
   "source": [
    "## Input"
   ]
  },
  {
   "cell_type": "markdown",
   "metadata": {},
   "source": [
    "- N (Kiểu int): Số lượng cá thể ở ngày đầu tiên (1 ≤ n ≤ 1000)\n",
    "- K (Kiểu int): Số ngày (1 ≤ k ≤ 10^18)"
   ]
  },
  {
   "cell_type": "markdown",
   "metadata": {},
   "source": [
    "## Output"
   ]
  },
  {
   "cell_type": "markdown",
   "metadata": {},
   "source": [
    "- Total (Kiểu int): Tổng số lượng cá thể sau K ngày"
   ]
  },
  {
   "cell_type": "markdown",
   "metadata": {},
   "source": [
    "## Recursion"
   ]
  },
  {
   "cell_type": "markdown",
   "metadata": {},
   "source": [
    "### Pseudocode"
   ]
  },
  {
   "cell_type": "markdown",
   "metadata": {},
   "source": [
    "*Temporary varible*"
   ]
  },
  {
   "cell_type": "markdown",
   "metadata": {},
   "source": [
    "MOD (Kiểu int): Biến mô-đun 10^9 + 7\n",
    "a,b (Kiểu int): Biến lưu kết quả của lần đệ quy trước đó"
   ]
  },
  {
   "cell_type": "markdown",
   "metadata": {},
   "source": [
    "```\n",
    "Khởi tạo:\n",
    "MOD = 1000000007\n",
    "total = n*2\n",
    "a,b = n,0\n",
    "Chương trình chính:\n",
    "Loop i from 0 to K-1\n",
    "    b = total % MOD\n",
    "    total = (total + a + b) % MOD\n",
    "    a = (b+a) % MOD\n",
    "\n",
    "Kết quả: In ra total\n",
    "```"
   ]
  },
  {
   "cell_type": "markdown",
   "metadata": {},
   "source": [
    "### Code"
   ]
  },
  {
   "cell_type": "code",
   "execution_count": 2,
   "metadata": {},
   "outputs": [
    {
     "name": "stdout",
     "output_type": "stream",
     "text": [
      "1000 100000\n",
      "799894155\n"
     ]
    }
   ],
   "source": [
    "MOD = 10 ** 9 + 7\n",
    "\n",
    "\n",
    "def main(n, k):\n",
    "    total = n*2\n",
    "    a, b = n,0\n",
    "\n",
    "    for i in range(k-1):\n",
    "        b = total % MOD\n",
    "        total = (total + a + b) % MOD\n",
    "        a = (b + a) % MOD\n",
    "    return total % MOD\n",
    "\n",
    "if __name__ == '__main__':\n",
    "    n, k = list(map(int, input().split()))\n",
    "    print(main(n, k))"
   ]
  },
  {
   "cell_type": "code",
   "execution_count": null,
   "metadata": {},
   "outputs": [],
   "source": []
  }
 ],
 "metadata": {
  "kernelspec": {
   "display_name": "Python 3",
   "language": "python",
   "name": "python3"
  },
  "language_info": {
   "codemirror_mode": {
    "name": "ipython",
    "version": 3
   },
   "file_extension": ".py",
   "mimetype": "text/x-python",
   "name": "python",
   "nbconvert_exporter": "python",
   "pygments_lexer": "ipython3",
   "version": "3.7.6"
  }
 },
 "nbformat": 4,
 "nbformat_minor": 4
}
