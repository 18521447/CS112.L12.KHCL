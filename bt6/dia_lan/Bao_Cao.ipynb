{
 "cells": [
  {
   "cell_type": "markdown",
   "metadata": {},
   "source": [
    "# Problem statement"
   ]
  },
  {
   "cell_type": "markdown",
   "metadata": {},
   "source": [
    "![](de_bai.png)"
   ]
  },
  {
   "cell_type": "markdown",
   "metadata": {},
   "source": [
    "## Input"
   ]
  },
  {
   "cell_type": "markdown",
   "metadata": {},
   "source": [
    "\n",
    "- n: int = số chậu lan $(1 <= n <= 2.10^4)$\n",
    "- k: int = số chậu lan  cần chọn $(1 <= k <= n)$\n",
    "- a: array\\[int\\] = số thể hiện đặc điểm gene của từng chậu $(0 <= a_i < 2^{12}, i=1 \\div n)$"
   ]
  },
  {
   "cell_type": "markdown",
   "metadata": {},
   "source": [
    "## Output"
   ]
  },
  {
   "cell_type": "markdown",
   "metadata": {},
   "source": [
    "- Dòng chữ YES hoặc NO"
   ]
  },
  {
   "cell_type": "markdown",
   "metadata": {},
   "source": [
    "# Abstraction"
   ]
  },
  {
   "cell_type": "markdown",
   "metadata": {},
   "source": [
    "Tìm mảng con liên tục k phần tử sao cho khi thực hiện phép $\\wedge$ lên k phần tử này thì kết quả bằng 0"
   ]
  },
  {
   "cell_type": "markdown",
   "metadata": {},
   "source": [
    "# Pattern recognition"
   ]
  },
  {
   "cell_type": "markdown",
   "metadata": {},
   "source": [
    "- Brute-force"
   ]
  },
  {
   "cell_type": "markdown",
   "metadata": {},
   "source": [
    "# Algorithm design"
   ]
  },
  {
   "cell_type": "markdown",
   "metadata": {},
   "source": [
    "## Pseudocode"
   ]
  },
  {
   "cell_type": "markdown",
   "metadata": {},
   "source": [
    "1. Khởi tạo num = n - k + 1 (đây là số lượng mảng con có k phần tử)\n",
    "2. Lặp i từ 1 đến num (duyệt qua *num* mảng con, mỗi mảng bắt đầu ở a\\[i\\] và kết thúc ở a\\[i + k - 1\\])\n",
    "    - Khởi tạo r = a\\[i\\]\n",
    "    - Lặp j từ i + 1 đến i + k - 1\n",
    "        - Gán r = r $\\wedge$ a\\[j\\]\n",
    "    - Nếu r == 0 thì\n",
    "        - Trả về YES\n",
    "    - Ngược lại thì\n",
    "        - Tiếp tục lặp"
   ]
  },
  {
   "cell_type": "markdown",
   "metadata": {},
   "source": [
    "**Time complexity**: $O(n^2)$"
   ]
  },
  {
   "cell_type": "markdown",
   "metadata": {},
   "source": [
    "## Optimization"
   ]
  },
  {
   "cell_type": "markdown",
   "metadata": {},
   "source": [
    "### Quan sát"
   ]
  },
  {
   "cell_type": "markdown",
   "metadata": {},
   "source": [
    "*Giả sử*\n",
    "- n = 10\n",
    "- k = 4\n",
    "\n",
    "Xét 2 vòng lặp liên tiếp: i từ 1 đến 4, i từ 2 đến 5\n",
    "- $i = 1 \\div 4 = a[1] \\wedge a[2] \\wedge a[3] \\wedge a[4]$\n",
    "- $i = 2 \\div 5 = a[2] \\wedge a[3] \\wedge a[4] \\wedge a[5]$\n",
    "\n",
    "Ở đây $a[2] \\wedge a[3] \\wedge a[4]$ bị tính lại 2 lần, nên chỗ này có thể tối ưu bằng cách chỉ tính 3 số trên một lần nhưng dùng cho cả 2 vòng lặp.\n",
    "\n",
    "*Cụ thể:*\n",
    "- Ở vòng lặp đầu tiên thì vẫn tính $a[1] \\wedge a[2] \\wedge a[3] \\wedge a[4]$ như bình thường và lưu kết quả phép tính này vào tmp\n",
    "- Ở vòng lặp kế tiếp, lấy biến tmp và thực hiện một **phép tính nào đó** để loại bỏ $a[1]$. Lúc này tmp = $a[2] \\wedge a[3] \\wedge a[4]$, để tính kết quả ở vòng lặp này thì chỉ việc tính tmp $\\wedge a[5]$\n",
    "- Tương tự như vậy cho các vòng lặp tiếp theo\n",
    "\n",
    "*Nhận xét*: Điều cốt lõi ở mỗi vòng lặp là cần xác định kết quả của phép $\\wedge$ bằng 0 hay khác 0 (không quan tâm kết quả của phép $\\wedge$ là bao nhiêu). Vậy mục tiêu là cần xác định một **phép tính nào đó** mà vừa có thể xác định kết quả của phép $\\wedge$ bằng 0 hay khác 0, vừa có thể loại bỏ một phần tử sau khi đã áp dụng **phép tính đó** lên $k$ phần tử."
   ]
  },
  {
   "cell_type": "markdown",
   "metadata": {},
   "source": [
    "### Phép tính thay thế phép $\\wedge$"
   ]
  },
  {
   "cell_type": "markdown",
   "metadata": {},
   "source": [
    "**Đầu tiên**\n",
    "\n",
    "Xét 1 dãy số nhị phân 1 bit gồm k số: 0, 1, 0, 0, 1, 0, 1, 0,...\n",
    "\n",
    "*Nhận xét 1*:\n",
    "\n",
    "1. Áp dụng phép $\\wedge$ lên k số trên, kết quả = 1 $\\Leftrightarrow$ tất cả k số = 1 $\\Leftrightarrow$ tổng k số = k\n",
    "2. Áp dụng phép $\\wedge$ lên k số trên, kết quả = 0 $\\Leftrightarrow$ có ít nhất 1 số = 0 $\\Leftrightarrow$ tổng k số < k\n",
    "\n",
    "\n",
    "**Tiếp theo**\n",
    "\n",
    "Xét 1 dãy số thập phân gồm 3 số (k = 3): 6, 9, 1\n",
    "\n",
    "Tính tổng của 3 số trên (ở hệ nhị phân) cho từng cột riêng biệt\n",
    "\n",
    "$$\n",
    "\\frac\n",
    "{\n",
    "    \\begin{matrix}\n",
    "        0 & 1 & 1 & 0 \\\\\n",
    "        1 & 0 & 0 & 1 \\\\\n",
    "        0 & 0 & 0 & 1\n",
    "    \\end{matrix}\n",
    "}\n",
    "{\n",
    "    \\begin{matrix} \n",
    "        1 & 1 & 1 & 2\n",
    "    \\end{matrix}\n",
    "}\n",
    "$$\n",
    "\n",
    "*Nhận xét 2*:\n",
    "- Từ nhận xét 1.2 $\\Rightarrow$ các cột có tổng < k = 3 thì khi áp dụng phép $\\wedge$ lên cột đó, cột đó sẽ = 0\n",
    "    - Ở trường hợp này tất cả các cột đều có tổng < 3 $\\Rightarrow$ kết quả tất cả các cột đều là 0 khi áp dụng phép $\\wedge$ lên mỗi cột \n",
    "- Thật vậy: $0110 \\wedge 1001 \\wedge 0001 = 0000 = 0$\n",
    "\n",
    "**Cuối cùng**\n",
    "\n",
    "Xét 1 dãy số thập phân gồm 3 số (k = 3): 13, 9, 1\n",
    "\n",
    "Tính tổng của 3 số trên (ở hệ nhị phân) cho từng cột riêng biệt\n",
    "\n",
    "$$\n",
    "\\frac\n",
    "{\n",
    "    \\begin{matrix}\n",
    "        1 & 1 & 0 & 1 \\\\\n",
    "        1 & 0 & 0 & 1 \\\\\n",
    "        0 & 0 & 0 & 1\n",
    "    \\end{matrix}\n",
    "}\n",
    "{\n",
    "    \\begin{matrix} \n",
    "        2 & 1 & 0 & 3\n",
    "    \\end{matrix}\n",
    "}\n",
    "$$\n",
    "\n",
    "*Nhận xét 3*:\n",
    "- Từ nhận xét 1.1 $\\Rightarrow$ các cột có tổng = k = 3 thì khi áp dụng phép $\\wedge$ lên cột đó, cột đó sẽ = 1. \n",
    "    - Ở trường hợp này cột 4 có tổng = 3 $\\Rightarrow$ kết quả cột 4 là 1 khi áp dụng phép $\\wedge$ lên cột 4, còn các cột còn lại sẽ = 0\n",
    "- Thật vậy: $1101 \\wedge 1001 \\wedge 0001 = 0001 \\neq 0$\n",
    "\n",
    "**Kết luận**:\n",
    "- 3 ví dụ trên đã cho thấy chỉ cần áp dụng phép cộng lên từng \"*cột*\" của k số cũng đã đủ để xác định khi áp dụng phép $\\wedge$ lên k số đó có kết quả bằng 0 hay không"
   ]
  },
  {
   "cell_type": "markdown",
   "metadata": {},
   "source": [
    "## Pseudocode"
   ]
  },
  {
   "cell_type": "markdown",
   "metadata": {},
   "source": [
    "1. Khởi tạo MAX = 12 (chiều dài mảng **count**)\n",
    "2. Khởi tạo mảng **count** gồm MAX phần tử và mỗi phần tử = 0 để lưu tổng của từng \"*cột*\" như đã trình bày bên trên (theo đề bài $0 <= a_i <= 2^{12}$ nên ở $a_i$ dạng nhị phân sẽ có tối đa MAX = 12 kí tự.\n",
    "3. Tạo hàm add_bin(count, num) để cộng mảng **count** với một số thập phân **num**\n",
    "    - Gán **bin_arr** = mảng chứa từng kí tự trong số nhị phân biểu diễn cho **num**\n",
    "    - Gán **len** = chiều dài **bin**\n",
    "    - Lặp i từ **len** xuống 1:\n",
    "        - count\\[i + MAX - len\\] = count\\[i + MAX - len\\] + bin_arr\\[i\\]\n",
    "4. Tạo hàm subtract_bin(count, num) để trừ mảng **count** với một số thập phân **num**\n",
    "5. Lặp i từ 1 đến k\n",
    "    - add_bin(count, a\\[i\\])\n",
    "6. Gán **valid** = False\n",
    "6. Lặp i từ 2 đến n - k + 1\n",
    "    - Duyệt qua mảng **count** một lần để tìm k\n",
    "    - Nếu tìm không thấy k trong **count** thì\n",
    "        - Gán **valid** = True\n",
    "    - Ngược lại nếu tìm thấy thì duyệt tiếp mảng con tiếp theo bằng cách:\n",
    "        - subtract(count, arr\\[i - 1\\])\n",
    "        - add(count, arr\\[i + k - 1\\])\n",
    "7. Duyệt qua mảng **count** một lần nữa để tìm k\n",
    "    - Nếu tìm không thấy k trong count thì\n",
    "        - Gán **valid** = True\n",
    "8. Trả về kết quả\n",
    "    - Nếu **valid** = True thì\n",
    "        - Trả về YES\n",
    "    - Ngược lại\n",
    "        - Trả về NO"
   ]
  },
  {
   "cell_type": "markdown",
   "metadata": {},
   "source": [
    "### Time complexity"
   ]
  },
  {
   "cell_type": "markdown",
   "metadata": {},
   "source": [
    "Bước:\n",
    "\n",
    "1. $O(1)$ \n",
    "2. $O(1)$\n",
    "3. $O(1)$ do count có kích thước cố định là MAX\n",
    "4. $O(1)$ do count có kích thước cố định là MAX\n",
    "5. $O(n)$ do k <= n\n",
    "6. $O(1)$\n",
    "7. $O(n)$\n",
    "8. $O(1)$ do count có kích thước cố định là MAX\n",
    "9. $O(1)$\n",
    "\n",
    "Tổng: $O(n)$"
   ]
  }
 ],
 "metadata": {
  "kernelspec": {
   "display_name": "Python 3",
   "language": "python",
   "name": "python3"
  },
  "language_info": {
   "codemirror_mode": {
    "name": "ipython",
    "version": 3
   },
   "file_extension": ".py",
   "mimetype": "text/x-python",
   "name": "python",
   "nbconvert_exporter": "python",
   "pygments_lexer": "ipython3",
   "version": "3.7.9"
  }
 },
 "nbformat": 4,
 "nbformat_minor": 2
}
