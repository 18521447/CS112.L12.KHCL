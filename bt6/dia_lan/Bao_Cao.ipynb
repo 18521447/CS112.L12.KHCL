{
 "metadata": {
  "language_info": {
   "codemirror_mode": {
    "name": "ipython",
    "version": 3
   },
   "file_extension": ".py",
   "mimetype": "text/x-python",
   "name": "python",
   "nbconvert_exporter": "python",
   "pygments_lexer": "ipython3",
   "version": 3
  },
  "orig_nbformat": 2
 },
 "nbformat": 4,
 "nbformat_minor": 2,
 "cells": [
  {
   "source": [
    "# Problem statement"
   ],
   "cell_type": "markdown",
   "metadata": {}
  },
  {
   "source": [
    "![](de_bai.png)"
   ],
   "cell_type": "markdown",
   "metadata": {}
  },
  {
   "source": [
    "## Input"
   ],
   "cell_type": "markdown",
   "metadata": {}
  },
  {
   "source": [
    "\n",
    "- n: int = số chậu lan $(1 <= n <= 2.10^4)$\n",
    "- k: int = số chậu lan  cần chọn $(1 <= k <= n)$\n",
    "- a: array\\[int\\] = số thể hiện đặc điểm gene của từng chậu $(0 <= a_i < 2^{12}, i=1 \\div n)$"
   ],
   "cell_type": "markdown",
   "metadata": {}
  },
  {
   "source": [
    "# Abstraction"
   ],
   "cell_type": "markdown",
   "metadata": {}
  },
  {
   "source": [
    "Tìm mảng con liên tục k phần tử sao cho khi thực hiện phép $\\wedge$ lên k phần tử này thì kết quả bằng 0"
   ],
   "cell_type": "markdown",
   "metadata": {}
  },
  {
   "source": [
    "# Pattern recognition"
   ],
   "cell_type": "markdown",
   "metadata": {}
  },
  {
   "source": [
    "- Brute-force"
   ],
   "cell_type": "markdown",
   "metadata": {}
  },
  {
   "source": [
    "# Algorithm design"
   ],
   "cell_type": "markdown",
   "metadata": {}
  },
  {
   "source": [
    "## Pseudocode"
   ],
   "cell_type": "markdown",
   "metadata": {}
  },
  {
   "source": [
    "1. Khởi tạo num = n - k + 1 (đây là số lượng mảng con có k phần tử)\n",
    "2. Lặp i từ 1 đến n - k + 1 (duyệt qua *num* mảng con, mỗi mảng bắt đầu ở a\\[i\\] và kết thúc ở a\\[i + k - 1\\])\n",
    "    - Khởi tạo r = a\\[i\\]\n",
    "    - Lặp j từ i + 1 đến i + k - 1\n",
    "        - Gán r = r $\\wedge$ a\\[i\\]\n",
    "    - Nếu r == 0 thì\n",
    "        - Trả về YES\n",
    "    - Ngược lại thì\n",
    "        - Tiếp tục lặp"
   ],
   "cell_type": "markdown",
   "metadata": {}
  },
  {
   "source": [
    "**Time complexity**: $O(n^2)$"
   ],
   "cell_type": "markdown",
   "metadata": {}
  },
  {
   "source": [
    "## Tối ưu"
   ],
   "cell_type": "markdown",
   "metadata": {}
  },
  {
   "source": [
    "### Quan sát"
   ],
   "cell_type": "markdown",
   "metadata": {}
  },
  {
   "source": [
    "*Giả sử*\n",
    "- n = 10\n",
    "- k = 4\n",
    "\n",
    "Xét 2 vòng lặp liên tiếp: i từ 1 đến 4, i từ 2 đến 5\n",
    "- $i = 1 \\div 4 = a[1] \\wedge a[2] \\wedge a[3] \\wedge a[4]$\n",
    "- $i = 2 \\div 5 = a[2] \\wedge a[3] \\wedge a[4] \\wedge a[5]$\n",
    "\n",
    "Ta thấy $a[2] \\wedge a[3] \\wedge a[4]$ bị tính lại 2 lần, vậy ở đây ta có thể tối ưu bằng cách chỉ tính $a[2] \\wedge a[3] \\wedge a[4]$ một lần nhưng dùng cho cả 2 vòng lặp.\n",
    "\n",
    "*Cụ thể:*\n",
    "- Ở vòng lặp đầu tiên thì vẫn tính $a[1] \\wedge a[2] \\wedge a[3] \\wedge a[4]$ như bình thường và lưu kết quả phép tính này vào tmp\n",
    "- Ở vòng lặp kế tiếp ta sẽ lấy biến tmp và thực hiện một **phép tính nào đó** để loại bỏ $a[1]$. Lúc này tmp = $a[2] \\wedge a[3] \\wedge a[4]$, để tính kết quả ở vòng lặp này thì ta chỉ việc tính $tmp \\wedge a[5]$\n",
    "- Tương tự như vậy cho các vòng lặp tiếp theo\n",
    "\n",
    "*Nhận xét*: Điều cốt lõi ở mỗi vòng lặp là cần xác định kết quả của phép $\\wedge$ bằng 0 hay khác 0 (không quan tâm kết quả của phép $\\wedge$ là bao nhiêu). Vậy ta cần xác định một **phép tính nào đó** mà vừa có thể xác định kết quả của phép $\\wedge$ bằng 0 hay khác 0, vừa có thể loại bỏ một hoặc một vài phần tử sau khi đã áp dụng **phép tính đó** lên $k$ phần tử."
   ],
   "cell_type": "markdown",
   "metadata": {}
  },
  {
   "source": [
    "### Đi tìm phép tính thay thế phép $\\wedge$"
   ],
   "cell_type": "markdown",
   "metadata": {}
  },
  {
   "source": [
    "Xét 1 dãy số nhị phân 1 bit gồm k số: 0, 1, 0, 0, 1, 0, 1, 0,...\n",
    "\n",
    "*Nhận xét 1*:\n",
    "- Áp dụng phép $\\wedge$ trên k số trên, kết quả = 1 $\\Leftrightarrow$ tất cả k số = 1 $\\Leftrightarrow$ tổng k số = k\n",
    "- Áp dụng phép $\\wedge$ trên k số trên, kết quả = 0 $\\Leftrightarrow$ có ít nhất 1 số = 0 $\\Leftrightarrow$ tổng k số < k\n",
    "\n",
    "Xét 1 dãy số nhị phân có số bit ngẫu nhiên gồm k số\n",
    "Xét 2 số: 1010, 11100\n",
    "$$\n",
    "\\frac\n",
    "{\n",
    "    \\begin{matrix}\n",
    "        1 & 0 & 1 & 0 \\\\\n",
    "        1 & 1 & 1 & 0\n",
    "    \\end{matrix}\n",
    "}\n",
    "{\n",
    "    \\begin{matrix} \n",
    "        2 & 1 & 2 & 0\n",
    "    \\end{matrix}\n",
    "}\n",
    "$$\n",
    "\n",
    "2 số này có tối đa 4 bit nên ta tính tổng của 4 cột và kết quả của từng cột như trên (2, 1, 2, 0)\n",
    "\n",
    "10 \\wedge 1011 \\wedge 1110 = 1010 \\neq 0\n",
    "$$\n",
    "\n",
    "`Mặt khác khi ta cộng từng cột của 3 số trên ta được kết quả như sau:\n",
    "`\n",
    "`|   |3|2|1|0|\n",
    "`| - | - | - | - |\n",
    "`| 10 |1|0|1|0|\n",
    "`| 11 |1|0|1|1|\n",
    "`| 14 |1|1|1|0|\n",
    "`| 35 |3|1|3|1|\n"
   ],
   "cell_type": "markdown",
   "metadata": {}
  },
  {
   "source": [],
   "cell_type": "markdown",
   "metadata": {}
  },
  {
   "cell_type": "code",
   "execution_count": null,
   "metadata": {},
   "outputs": [],
   "source": [
    "\n"
   ]
  }
 ]
}