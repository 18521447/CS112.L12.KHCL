{
 "cells": [
  {
   "cell_type": "markdown",
   "metadata": {},
   "source": [
    "![](de_bai.png)"
   ]
  },
  {
   "cell_type": "markdown",
   "metadata": {
    "pycharm": {
     "name": "#%%\n"
    }
   },
   "source": [
    "# Báo cáo Test"
   ]
  },
  {
   "cell_type": "markdown",
   "metadata": {},
   "source": [
    "## Đặt:\n",
    "   - kdb (k đề bài): Số lượng phần tử trong tổ hợp để and lại bằng 0 theo yêu cầu đề (trong mảng arr có thể tồn tại tổ hợp ít phần tử hơn kdb nhưng and lại vẫn = 0)\n",
    "   - ktt (k thực tế): Số lượng phần tử ít nhất mà tổ hợp cần có để and lại bằng 0 trên thực tế (trong mảng arr có thể tồn tại tổ hợp ít phần tử hơn kdb nhưng and lại vẫn = 0)"
   ]
  },
  {
   "cell_type": "markdown",
   "metadata": {},
   "source": [
    "## Các trường hợp tạo test"
   ]
  },
  {
   "cell_type": "markdown",
   "metadata": {},
   "source": [
    "![](Mind_Map.jpg)"
   ]
  },
  {
   "cell_type": "markdown",
   "metadata": {},
   "source": [
    "##  Hướng dẫn"
   ]
  },
  {
   "cell_type": "markdown",
   "metadata": {},
   "source": [
    "***Cách tạo mảng n số chỉ có duy nhất 1 tổ hợp ktt and lại = 0***\n",
    "- B1: tạo tổ hợp ktt and lại = 0\n",
    "- B2: thêm x số sao cho x + k = n, x số này không được làm tăng số tổ hợp\n",
    "\n",
    "***Cách tạo mảng n số chỉ có duy nhất NHIỀU tổ hợp ktt and lại = 0***\n",
    "- B1: tạo tổ hợp ktt and lại = 0\n",
    "- B2: thêm x số sao cho x + k = n, x số này làm tăng số tổ hợp\n"
   ]
  },
  {
   "cell_type": "markdown",
   "metadata": {},
   "source": [
    "## Cách tạo mảng n số chỉ có duy nhất 1 Tổ hợp = 0"
   ]
  },
  {
   "cell_type": "markdown",
   "metadata": {},
   "source": [
    "*Giả sử các số trong mảng có tối đa 3 bit. Tìm 3 số sao cho and lại = 0 và không có tổ hợp nào ít hơn 3 số and lại = 0*\n",
    " - Chỉ có duy nhất 1 trường hợp thỏa:\n",
    "     ![](3bit.jpg)\n",
    "     \n",
    "     Và các trường hợp đảo vị trí của trường hợp trên\n",
    " - Xét thử trường hợp khác:\n",
    "     ![](3bit(2).jpg)\n",
    "     \n",
    "       -> Ta thấy có tồn tại tổ hợp ít hơn 3 số = 0 đó là (001 & 010) = 0"
   ]
  },
  {
   "cell_type": "markdown",
   "metadata": {},
   "source": [
    "*Tương tự như vậy Giả sử các số trong mảng có tối đa 4 bit. Tìm 4 số sao cho and lại = 0 và không có tổ hợp nào ít hơn 4 số and lại = 0*\n",
    " -> Cũng chỉ có duy nhất 1 trường hợp thỏa:\n",
    "     ![](4bit.jpg)\n",
    "     \n",
    "     Cũng như các trường hợp đảo vị trí của trường hợp trên"
   ]
  },
  {
   "cell_type": "markdown",
   "metadata": {},
   "source": [
    "*Giả sử các số trong mảng có tối đa 5 bit. Tìm 3 số sao cho and lại = 0 và không có tổ hợp nào ít hơn 3 số and lại = 0*\n",
    "\n",
    "    top_right: Sẽ đảm bảo điều kiện đề bài đưa ra.\n",
    "    top_left: Mỗi cột có ít nhất 1 bit 0 để cột đó and lại = 0.\n",
    "    bottom_right: Thêm x số sao cho x + k = n, x số này không được làm tăng số tổ hợp.\n",
    "    \n",
    "    \n",
    "   ![](5bit.jpg)\n",
    "   \n",
    "    -> Lúc này top_right + top_left sẽ thỏa được yêu cầu mà đề bài đưa ra\n",
    "    \n",
    "    Đặc biệt: Sau khi đã có top_left, top_right có thể xáo trộn hàng và cột thoải mái để tạo ra số thập phân mới mà vẫn giữ nguyên tính chất như bit matrix ban đầu\n",
    "   ![](5bit(2).jpg)"
   ]
  },
  {
   "cell_type": "markdown",
   "metadata": {},
   "source": [
    "    Cuối cùng chúng ta thêm bottom_right để hoàn chỉnh bộ test"
   ]
  },
  {
   "cell_type": "markdown",
   "metadata": {},
   "source": [
    "![](5bit(3).jpg)"
   ]
  },
  {
   "cell_type": "markdown",
   "metadata": {},
   "source": [
    "## Cách tạo mảng n số có nhiều tổ hợp = 0"
   ]
  },
  {
   "cell_type": "code",
   "execution_count": null,
   "metadata": {},
   "outputs": [],
   "source": []
  }
 ],
 "metadata": {
  "kernelspec": {
   "display_name": "Python 3",
   "language": "python",
   "name": "python3"
  },
  "language_info": {
   "codemirror_mode": {
    "name": "ipython",
    "version": 3
   },
   "file_extension": ".py",
   "mimetype": "text/x-python",
   "name": "python",
   "nbconvert_exporter": "python",
   "pygments_lexer": "ipython3",
   "version": "3.8.5"
  }
 },
 "nbformat": 4,
 "nbformat_minor": 4
}
