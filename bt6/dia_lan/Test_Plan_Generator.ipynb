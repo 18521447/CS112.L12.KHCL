{
 "cells": [
  {
   "cell_type": "markdown",
   "metadata": {},
   "source": [
    "![](de_bai.png)"
   ]
  },
  {
   "cell_type": "markdown",
   "metadata": {},
   "source": [
    "# Chú thích kí hiệu (nháp)\n",
    "**\\[n, k, A, B\\]** có nghĩa là cần tạo **A tests** kết quả là **YES** và **B tests** kết quả là **NO** tương ứng với cặp n, k\n",
    "\n",
    "Ví dụ \\[3, 2, 3, 1\\] có nghĩa là cần tạo 3 test trả về YES và 1 test trả về NO tương ứng với n = 3, k = 2\n",
    "\n",
    "\n",
    "# Test biên bé (nháp)\n",
    "- \\[1, 1, 1, 1\\]: biên bé nhất\n",
    "- \\[2, 1, 1, 1\\]: biên bé nhất không đối xứng\n",
    "    \n",
    "# Test biên lớn (nháp)\n",
    "- \\[20000, 20000, 1, 1\\]: biên lớn nhất\n",
    "- \\[20000, 19999, 1, 1\\]: biên lớn nhất không đối xứng\n",
    "\n",
    "    \n",
    "# Test khoảng giữa (nháp)"
   ]
  },
  {
   "cell_type": "markdown",
   "metadata": {},
   "source": [
    "K số AND với nhau = 0 được sắp xếp không liên tục\n"
   ]
  },
  {
   "cell_type": "markdown",
   "metadata": {},
   "source": [
    "# Tests generator"
   ]
  },
  {
   "cell_type": "code",
   "execution_count": 9,
   "metadata": {},
   "outputs": [],
   "source": [
    "def write_test(filename, test_case):\n",
    "    n, k, result_text = len(test_case) - 2, test_case[0], test_case[1]\n",
    "    arr = test_case[2:]\n",
    "    with open('tests/out/{}'.format(filename), 'w') as out:\n",
    "        out.write(result_text)\n",
    "\n",
    "    with open('tests/inp/{}'.format(filename), 'w') as inp:\n",
    "        inp.write('{} {}\\n'.format(n, k))\n",
    "        \n",
    "        for elem in map(lambda s: str(int(s, 2)), arr):\n",
    "            inp.write('{} '.format(elem))"
   ]
  },
  {
   "cell_type": "code",
   "execution_count": 10,
   "metadata": {},
   "outputs": [],
   "source": [
    "YES = 'YES\\n'\n",
    "NO = 'NO\\n'\n",
    "\n",
    "# Test 2\n",
    "a2 = [2,\n",
    "      YES,\n",
    "      '10111',\n",
    "      '11011',\n",
    "      '01111',\n",
    "      '11100',\n",
    "      '00100']\n",
    "\n",
    "# 2 số k không kề nhau (r2, r4)\n",
    "\n",
    "# Test 3\n",
    "a3 = [2,\n",
    "      YES,\n",
    "      '001001',\n",
    "      '101010',\n",
    "      '010101']\n",
    "\n",
    "# 2 số k kề nhau (r2, r3)\n",
    "# r2, r3 có ít chữ số 0 nhất (3 chữ số)\n",
    "\n",
    "# Test 4\n",
    "a4 = [2,\n",
    "      YES,\n",
    "      '001001',\n",
    "      '101010',\n",
    "      '100001',\n",
    "      '010101']\n",
    "    \n",
    "# 2 số k không kề nhau (r2, r4)\n",
    "# r2, r4 có ít chữ số 0 nhất (3 chữ số)\n",
    "\n",
    "# Test 5\n",
    "a5 = [2,\n",
    "      NO,\n",
    "      '011',\n",
    "      '101',\n",
    "      '110']\n",
    "\n",
    "# k = 3 mới thỏa mãn\n",
    "\n",
    "# Test 7\n",
    "a7 = [3,\n",
    "      YES,\n",
    "      '011',      \n",
    "      '111',\n",
    "      '101',\n",
    "      '111',\n",
    "      '110',\n",
    "      '111']\n",
    "\n",
    "a = [a2, a3, a4, a5, a7]\n",
    "\n",
    "for i, test in enumerate(a, 2):\n",
    "    write_test(i, test)\n"
   ]
  },
  {
   "cell_type": "code",
   "execution_count": 4,
   "metadata": {
    "pycharm": {
     "name": "#%%\n"
    }
   },
   "outputs": [
    {
     "data": {
      "text/plain": [
       "5"
      ]
     },
     "execution_count": 4,
     "metadata": {},
     "output_type": "execute_result"
    }
   ],
   "source": [
    "import numpy as np\n",
    "np.random.seed(23)\n",
    "MDIGIT =  12\n",
    "first = [np.random.randint(0, 1) for _ in range(MDIGIT)]\n",
    "MDIGIT-sum(first)"
   ]
  },
  {
   "cell_type": "code",
   "execution_count": 5,
   "metadata": {
    "pycharm": {
     "name": "#%%\n"
    }
   },
   "outputs": [],
   "source": [
    "import numpy as np\n",
    "from itertools import combinations\n",
    "\n",
    "def brute_force(arr, k):\n",
    "    found = False\n",
    "    for combination in combinations(arr, k):\n",
    "        result = ~0\n",
    "        for elem in combination:\n",
    "            result &= elem\n",
    "        if result == 0:\n",
    "            found = True\n",
    "            break\n",
    "    return 'YES\\n' if found else 'NO\\n'\n",
    "\n",
    "def generate_bin_table(k, max_num_of_bin_digit=12):\n",
    "    bin_table = np.ones((k, max_num_of_bin_digit), dtype=np.uint8)\n",
    "    \n",
    "    zero_count_rows = []\n",
    "    \n",
    "    for i in range(k - 1):\n",
    "        length = np.random.randint(1, max_num_of_bin_digit - (k - i) + 1)\n",
    "        zero_count_rows.append(length)\n",
    "        max_num_of_bin_digit -= length\n",
    "    zero_count_rows.append(max_num_of_bin_digit)\n",
    "    \n",
    "    for i in range(k):\n",
    "        for j in range(zero_count_rows[i]):\n",
    "            bin_table[i, j] = 0\n",
    "    return bin_table\n",
    "\n",
    "def bin_arr_to_dec(arr):\n",
    "    bin_chr_arr = map(str, arr)\n",
    "    bin_str = ''.join(bin_chr_arr)\n",
    "    return int(bin_str, 2)\n",
    "\n",
    "def bin_table_to_arr(table):\n",
    "    return [bin_arr_to_dec(row) for row in table]\n",
    "\n",
    "def generate_k_number(k, max_num_of_bin_digit=12):\n",
    "    return bin_table_to_arr(generate_bin_table(k, max_num_of_bin_digit))"
   ]
  },
  {
   "cell_type": "code",
   "execution_count": 6,
   "metadata": {
    "pycharm": {
     "name": "#%%\n"
    }
   },
   "outputs": [
    {
     "name": "stdout",
     "output_type": "stream",
     "text": [
      "[1 4 1 1 1]\n",
      "0 NO\n",
      "\n",
      "1 NO\n",
      "\n",
      "2 NO\n",
      "\n",
      "3 NO\n",
      "\n",
      "4 YES\n",
      "\n"
     ]
    }
   ],
   "source": [
    "\n",
    "special = np.array([[1,0,1,1,0],\n",
    "                    [1,0,0,1,1],\n",
    "                    [1,0,1,0,1],\n",
    "                    [0,0,1,1,1]], dtype=np.uint8)\n",
    "print(4-sum(special))\n",
    "special = bin_table_to_arr(special)\n",
    "\n",
    "for i in range(5):\n",
    "    print(i, brute_force(special, i))"
   ]
  },
  {
   "cell_type": "code",
   "execution_count": 20,
   "metadata": {
    "pycharm": {
     "name": "#%%\n"
    }
   },
   "outputs": [
    {
     "data": {
      "text/plain": [
       "array([[1, 3],\n",
       "       [4, 6],\n",
       "       [7, 9]], dtype=uint8)"
      ]
     },
     "execution_count": 20,
     "metadata": {},
     "output_type": "execute_result"
    }
   ],
   "source": [
    "import numpy as np\n",
    "a = np.arange(1, 10, dtype=np.uint8).reshape(3, 3)\n",
    "a[:, [True, False, True]]\n"
   ]
  },
  {
   "cell_type": "markdown",
   "metadata": {
    "pycharm": {
     "name": "#%%\n"
    }
   },
   "source": [
    "# Báo cáo Testing"
   ]
  },
  {
   "cell_type": "markdown",
   "metadata": {},
   "source": [
    "## Đặt:\n",
    "   - kdb = Tổ hợp k số and = 0 theo yêu cầu của đề bài\n",
    "   - ktt = Tổ hợp ít nhất k số and = 0 trong mảng arr. (xét tất cả tổ hợp bé hơn k thì không có tổ hợp nào = 0)"
   ]
  },
  {
   "cell_type": "markdown",
   "metadata": {},
   "source": [
    "## Các hướng tạo testing"
   ]
  },
  {
   "cell_type": "markdown",
   "metadata": {},
   "source": [
    "![](Mind_Map.jpg)"
   ]
  },
  {
   "cell_type": "markdown",
   "metadata": {},
   "source": [
    "## Tổng quan"
   ]
  },
  {
   "cell_type": "markdown",
   "metadata": {},
   "source": [
    "***Cách tạo mảng n số chỉ có duy nhất 1 tổ hợp ktt and lại = 0***\n",
    "- B1: tạo tổ hợp ktt and lại = 0\n",
    "- B2: thêm x số sao cho x + k = n, x số này không được làm tăng số tổ hợp\n",
    "\n",
    "***Cách tạo mảng n số chỉ có duy nhất NHIỀU tổ hợp ktt and lại = 0***\n",
    "- B1: tạo tổ hợp ktt and lại = 0\n",
    "- B2: thêm x số sao cho x + k = n, x số này làm tăng số tổ hợp\n"
   ]
  },
  {
   "cell_type": "markdown",
   "metadata": {},
   "source": [
    "## Cách tạo mảng n số chỉ có duy nhất 1 Tổ hợp = 0"
   ]
  },
  {
   "cell_type": "markdown",
   "metadata": {},
   "source": [
    "*Giả sử các số trong mảng có tối đa 3 bit. Tìm 3 số sao cho and lại = 0 và không có tổ hợp nào ít hơn 3 số and lại = 0*\n",
    " - Chỉ có duy nhất 1 trường hợp thỏa:\n",
    "     ![](3bit.jpg)\n",
    "     \n",
    "     Và các trường hợp đảo vị trí của trường hợp trên\n",
    " - Xét thử trường hợp khác:\n",
    "     ![](3bit(2).jpg)\n",
    "     \n",
    "       -> Ta thấy có tồn tại tổ hợp ít hơn 3 số = 0 đó là (001 & 010) = 0"
   ]
  },
  {
   "cell_type": "markdown",
   "metadata": {},
   "source": [
    "*Tương tự như vậy Giả sử các số trong mảng có tối đa 4 bit. Tìm 4 số sao cho and lại = 0 và không có tổ hợp nào ít hơn 4 số and lại = 0*\n",
    " -> Cũng chỉ có duy nhất 1 trường hợp thỏa:\n",
    "     ![](4bit.jpg)\n",
    "     \n",
    "     Cũng như các trường hợp đảo vị trí của trường hợp trên"
   ]
  },
  {
   "cell_type": "markdown",
   "metadata": {},
   "source": [
    "*Giả sử các số trong mảng có tối đa 5 bit. Tìm 3 số sao cho and lại = 0 và không có tổ hợp nào ít hơn 3 số and lại = 0*\n",
    "\n",
    "    top_right: Sẽ đảm bảo điều kiện đề bài đưa ra.\n",
    "    top_left: Mỗi cột có ít nhất 1 bit 0 để cột đó and lại = 0.\n",
    "    bottom_right: Thêm x số sao cho x + k = n, x số này không được làm tăng số tổ hợp.\n",
    "    \n",
    "    \n",
    "   ![](5bit.jpg)\n",
    "   \n",
    "    -> Lúc này top_right + top_left sẽ thỏa được yêu cầu mà đề bài đưa ra\n",
    "    \n",
    "    Đặc biệt: Sau khi đã có top_left, top_right có thể xáo trộn hàng và cột thoải mái để tạo ra số thập phân mới mà vẫn giữ nguyên tính chất như bit matrix ban đầu\n",
    "   ![](5bit(2).jpg)"
   ]
  },
  {
   "cell_type": "markdown",
   "metadata": {},
   "source": [
    "    Cuối cùng chúng ta thêm bottom_right để hoàn chỉnh bộ test"
   ]
  },
  {
   "cell_type": "markdown",
   "metadata": {},
   "source": [
    "![](5bit(3).jpg)"
   ]
  },
  {
   "cell_type": "code",
   "execution_count": null,
   "metadata": {},
   "outputs": [],
   "source": []
  }
 ],
 "metadata": {
  "kernelspec": {
   "display_name": "Python 3",
   "language": "python",
   "name": "python3"
  },
  "language_info": {
   "codemirror_mode": {
    "name": "ipython",
    "version": 3
   },
   "file_extension": ".py",
   "mimetype": "text/x-python",
   "name": "python",
   "nbconvert_exporter": "python",
   "pygments_lexer": "ipython3",
   "version": "3.7.6"
  }
 },
 "nbformat": 4,
 "nbformat_minor": 4
}
