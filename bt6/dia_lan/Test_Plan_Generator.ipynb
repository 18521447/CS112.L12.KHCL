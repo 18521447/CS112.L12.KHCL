{
 "cells": [
  {
   "cell_type": "markdown",
   "metadata": {},
   "source": [
    [<img src="https://img.shields.io/badge/%20Open%20this%20notebook-in%20binder-E66581.svg?logo=data:image/png;base64,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">](https://mybinder.org/v2/gh/18521447/CS112.L12.KHCL/main?filepath=bt6%2Fdia_lan%2FTest_Plan_Generator.ipynb)
   ]
  },
  {
   "cell_type": "markdown",
   "metadata": {},
   "source": [
    "![](de_bai.png)"
   ]
  },
  {
   "cell_type": "markdown",
   "metadata": {},
   "source": [
    "# Chú thích kí hiệu (nháp)\n",
    "**\\[n, k, A, B\\]** có nghĩa là cần tạo **A tests** kết quả là **YES** và **B tests** kết quả là **NO** tương ứng với cặp n, k\n",
    "\n",
    "Ví dụ \\[3, 2, 3, 1\\] có nghĩa là cần tạo 3 test trả về YES và 1 test trả về NO tương ứng với n = 3, k = 2\n",
    "\n",
    "\n",
    "# Test biên bé (nháp)\n",
    "- \\[1, 1, 1, 1\\]: biên bé nhất\n",
    "- \\[2, 1, 1, 1\\]: biên bé nhất không đối xứng\n",
    "    \n",
    "# Test biên lớn (nháp)\n",
    "- \\[20000, 20000, 1, 1\\]: biên lớn nhất\n",
    "- \\[20000, 19999, 1, 1\\]: biên lớn nhất không đối xứng\n",
    "\n",
    "    \n",
    "# Test khoảng giữa (nháp)"
   ]
  },
  {
   "cell_type": "markdown",
   "metadata": {},
   "source": [
    "K số AND với nhau = 0 được sắp xếp không liên tục\n"
   ]
  },
  {
   "cell_type": "markdown",
   "metadata": {},
   "source": [
    "# Tests generator"
   ]
  },
  {
   "cell_type": "code",
   "execution_count": 2,
   "metadata": {},
   "outputs": [],
   "source": [
    "def write_test(filename, test_case):\n",
    "    n, k, result_text = len(test_case) - 2, *test_case[:2]\n",
    "    arr = test_case[2:]\n",
    "    with open('tests/out/{}'.format(filename), 'w') as out:\n",
    "        out.write(result_text)\n",
    "\n",
    "    with open('tests/inp/{}'.format(filename), 'w') as inp:\n",
    "        inp.write('{} {}\\n'.format(n, k))\n",
    "        \n",
    "        for elem in map(lambda s: str(int(s, 2)), arr):\n",
    "            inp.write('{} '.format(elem))"
   ]
  },
  {
   "cell_type": "code",
   "execution_count": 3,
   "metadata": {},
   "outputs": [],
   "source": [
    "YES = 'YES\\n'\n",
    "NO = 'NO\\n'\n",
    "\n",
    "# Test 2\n",
    "a2 = [2,\n",
    "      YES,\n",
    "      '10111',\n",
    "      '11011',\n",
    "      '01111',\n",
    "      '11100',\n",
    "      '00100']\n",
    "\n",
    "# 2 số k không kề nhau (r2, r4)\n",
    "\n",
    "# Test 3\n",
    "a3 = [2,\n",
    "      YES,\n",
    "      '001001',\n",
    "      '101010',\n",
    "      '010101']\n",
    "\n",
    "# 2 số k kề nhau (r2, r3)\n",
    "# r2, r3 có ít chữ số 0 nhất (3 chữ số)\n",
    "\n",
    "# Test 4\n",
    "a4 = [2,\n",
    "      YES,\n",
    "      '001001',\n",
    "      '101010',\n",
    "      '100001',\n",
    "      '010101']\n",
    "    \n",
    "# 2 số k không kề nhau (r2, r4)\n",
    "# r2, r4 có ít chữ số 0 nhất (3 chữ số)\n",
    "\n",
    "# Test 5\n",
    "a5 = [2,\n",
    "      NO,\n",
    "      '011',\n",
    "      '101',\n",
    "      '110']\n",
    "\n",
    "# k = 3 mới thỏa mãn\n",
    "\n",
    "# Test 7\n",
    "a7 = [3,\n",
    "      YES,\n",
    "      '011',      \n",
    "      '111',\n",
    "      '101',\n",
    "      '111',\n",
    "      '110',\n",
    "      '111']\n",
    "\n",
    "a = [a2, a3, a4, a5, a7]\n",
    "\n",
    "for i, test in enumerate(a, 2):\n",
    "    write_test(i, test)\n"
   ]
  },
  {
   "cell_type": "code",
   "execution_count": 21,
   "metadata": {},
   "outputs": [],
   "source": [
    "import random\n",
    "from random import randint\n",
    "from random import shuffle"
   ]
  },
  {
   "cell_type": "code",
   "execution_count": null,
   "metadata": {
    "pycharm": {
     "name": "#%%\n"
    }
   },
   "outputs": [],
   "source": [
    "random.seed(23)\n",
    "MDIGIT =  12\n",
    "first = [randint(0, 1) for _ in range(MDIGIT)]\n",
    "MDIGIT-sum(first)"
   ]
  },
  {
   "cell_type": "code",
   "execution_count": 44,
   "metadata": {
    "pycharm": {
     "name": "#%%\n"
    }
   },
   "outputs": [],
   "source": [
    "import numpy as np\n",
    "from itertools import combinations\n",
    "\n",
    "def brute_force(arr, k):\n",
    "    found = False\n",
    "    for combination in combinations(arr, k):\n",
    "        result = ~0\n",
    "        for elem in combination:\n",
    "            result &= elem\n",
    "        if result == 0:\n",
    "            found = True\n",
    "            break\n",
    "    return 'YES\\n' if found else 'NO\\n'\n",
    "\n",
    "def generate_bin_table(k, MAX_NUM_OF_BIN_DIGIT=12):\n",
    "    bin_table = np.ones((k, MAX_NUM_OF_BIN_DIGIT), dtype=np.uint8)\n",
    "    \n",
    "    indices = list(range(MAX_NUM_OF_BIN_DIGIT))\n",
    "    zero_count_rows = []\n",
    "    \n",
    "    for i in range(k - 1):\n",
    "        length = randint(1, MAX_NUM_OF_BIN_DIGIT - (k - i) + 1)\n",
    "        zero_count_rows.append(length)\n",
    "        MAX_NUM_OF_BIN_DIGIT -= length\n",
    "    zero_count_rows.append(MAX_NUM_OF_BIN_DIGIT)\n",
    "    \n",
    "    for i in range(k):\n",
    "        for j in range(zero_count_rows[i]):\n",
    "            bin_table[i, j] = 0\n",
    "    return bin_table\n",
    "\n",
    "def bin_arr_to_dec(arr):\n",
    "    bin_chr_arr = map(str, arr)\n",
    "    bin_str = ''.join(bin_chr_arr)\n",
    "    return int(bin_str, 2)\n",
    "\n",
    "def bin_table_to_arr(table):\n",
    "    return [bin_arr_to_dec(row) for row in table]\n",
    "\n",
    "def generate_k_number(k, MAX_NUM_OF_BIN_DIGIT=12):\n",
    "    return bin_table_to_arr(generate_bin_table(k, MAX_NUM_OF_BIN_DIGIT))"
   ]
  },
  {
   "cell_type": "code",
   "execution_count": 59,
   "metadata": {
    "pycharm": {
     "name": "#%%\n"
    }
   },
   "outputs": [
    {
     "name": "stdout",
     "output_type": "stream",
     "text": [
      "[1 4 1 1 1]\n",
      "0 NO\n",
      "\n",
      "1 NO\n",
      "\n",
      "2 NO\n",
      "\n",
      "3 NO\n",
      "\n",
      "4 YES\n",
      "\n"
     ]
    }
   ],
   "source": [
    "\n",
    "special = np.array([[1,0,1,1,0],\n",
    "                    [1,0,0,1,1],\n",
    "                    [1,0,1,0,1],\n",
    "                    [0,0,1,1,1]], dtype=np.uint8)\n",
    "print(4-sum(special))\n",
    "special = bin_table_to_arr(special)\n",
    "\n",
    "for i in range(5):\n",
    "    print(i, brute_force(special, i))\n",
    "\n",
    "\n"
   ]
  },
  {
   "cell_type": "code",
   "execution_count": 20,
   "metadata": {
    "pycharm": {
     "name": "#%%\n"
    }
   },
   "outputs": [
    {
     "data": {
      "text/plain": [
       "array([[0, 1, 1, 0, 1],\n",
       "       [1, 0, 1, 1, 0],\n",
       "       [1, 1, 0, 1, 1]], dtype=uint8)"
      ]
     },
     "execution_count": 20,
     "metadata": {},
     "output_type": "execute_result"
    }
   ],
   "source": [
    "import numpy as np\n",
    "import random\n",
    "from random import randint\n",
    "\n",
    "\n",
    "\n",
    "generate_bin_table(3, 5)\n",
    "        \n",
    "        \n"
   ]
  },
  {
   "cell_type": "code",
   "execution_count": 78,
   "metadata": {},
   "outputs": [
    {
     "data": {
      "text/plain": [
       "array([[1, 0, 1, 0, 1],\n",
       "       [1, 1, 1, 1, 1],\n",
       "       [1, 0, 1, 0, 1],\n",
       "       [1, 1, 1, 1, 1]], dtype=uint8)"
      ]
     },
     "execution_count": 78,
     "metadata": {},
     "output_type": "execute_result"
    }
   ],
   "source": [
    "\n",
    "a[[[0], [2]],[1, 3]] = 0\n",
    "a"
   ]
  },
  {
   "cell_type": "code",
   "execution_count": 13,
   "metadata": {
    "pycharm": {
     "name": "#%%\n"
    }
   },
   "outputs": [
    {
     "name": "stdout",
     "output_type": "stream",
     "text": [
      "[3, 4, 56, 7, 2, 456, 3, 23]\n"
     ]
    },
    {
     "ename": "NameError",
     "evalue": "name 'move' is not defined",
     "output_type": "error",
     "traceback": [
      "\u001b[1;31m---------------------------------------------------------------------------\u001b[0m",
      "\u001b[1;31mNameError\u001b[0m                                 Traceback (most recent call last)",
      "\u001b[1;32m<ipython-input-13-2512f2dd9976>\u001b[0m in \u001b[0;36m<module>\u001b[1;34m\u001b[0m\n\u001b[0;32m      3\u001b[0m \u001b[0mprint\u001b[0m\u001b[1;33m(\u001b[0m\u001b[0msomething\u001b[0m\u001b[1;33m)\u001b[0m\u001b[1;33m\u001b[0m\u001b[1;33m\u001b[0m\u001b[0m\n\u001b[0;32m      4\u001b[0m \u001b[0ma\u001b[0m \u001b[1;33m=\u001b[0m \u001b[0mrandom\u001b[0m\u001b[1;33m.\u001b[0m\u001b[0mchoices\u001b[0m\u001b[1;33m(\u001b[0m\u001b[0msomething\u001b[0m\u001b[1;33m,\u001b[0m \u001b[0mk\u001b[0m \u001b[1;33m=\u001b[0m \u001b[1;36m2\u001b[0m\u001b[1;33m)\u001b[0m\u001b[1;33m\u001b[0m\u001b[1;33m\u001b[0m\u001b[0m\n\u001b[1;32m----> 5\u001b[1;33m \u001b[1;32mfor\u001b[0m \u001b[0mi\u001b[0m \u001b[1;32min\u001b[0m \u001b[0ma\u001b[0m\u001b[1;33m:\u001b[0m\u001b[0mmove\u001b[0m\u001b[1;33m(\u001b[0m\u001b[0mi\u001b[0m\u001b[1;33m)\u001b[0m\u001b[1;33m\u001b[0m\u001b[1;33m\u001b[0m\u001b[0m\n\u001b[0m\u001b[0;32m      6\u001b[0m \u001b[0mprint\u001b[0m\u001b[1;33m(\u001b[0m\u001b[0msomething\u001b[0m\u001b[1;33m)\u001b[0m\u001b[1;33m\u001b[0m\u001b[1;33m\u001b[0m\u001b[0m\n",
      "\u001b[1;31mNameError\u001b[0m: name 'move' is not defined"
     ]
    }
   ],
   "source": [
    "import random\n",
    "something = [3,4,56,7,2,456,3,23]\n",
    "print(something)\n",
    "a = random.choices(something, k = 2)\n",
    "for i in a:move(i)\n",
    "print(something)"
   ]
  },
  {
   "cell_type": "code",
   "execution_count": 11,
   "metadata": {
    "pycharm": {
     "name": "#%%\n"
    }
   },
   "outputs": [
    {
     "name": "stdout",
     "output_type": "stream",
     "text": [
      "[1, 3]\n"
     ]
    }
   ],
   "source": [
    "sett = list(range(10))\n",
    "random.choices(sett, k=3)\n",
    "random.sample()\n",
    "print(sett)"
   ]
  },
  {
   "cell_type": "code",
   "execution_count": null,
   "metadata": {},
   "outputs": [],
   "source": []
  }
 ],
 "metadata": {
  "kernelspec": {
   "display_name": "Python 3",
   "language": "python",
   "name": "python3"
  },
  "language_info": {
   "codemirror_mode": {
    "name": "ipython",
    "version": 3
   },
   "file_extension": ".py",
   "mimetype": "text/x-python",
   "name": "python",
   "nbconvert_exporter": "python",
   "pygments_lexer": "ipython3",
   "version": "3.7.9"
  }
 },
 "nbformat": 4,
 "nbformat_minor": 4
}
