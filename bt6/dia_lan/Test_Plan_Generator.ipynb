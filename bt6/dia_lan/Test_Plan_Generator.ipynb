{
 "cells": [
  {
   "cell_type": "markdown",
   "metadata": {},
   "source": [
    "![](de_bai.png)"
   ]
  },
  {
   "cell_type": "markdown",
   "metadata": {},
   "source": [
    "# Chú thích kí hiệu\n",
    "**\\[n, k, A, B\\]** có nghĩa là cần tạo **A tests** kết quả là **YES** và **B tests** kết quả là **NO** tương ứng với cặp n, k\n",
    "\n",
    "Ví dụ \\[3, 2, 3, 1\\] có nghĩa là cần tạo 3 test trả về YES và 1 test trả về NO tương ứng với n = 3, k = 2\n",
    "\n",
    "\n",
    "# Test biên bé\n",
    "- \\[1, 1, 1, 1\\]: biên bé nhất\n",
    "- \\[2, 1, 1, 1\\]: biên bé nhất không đối xứng\n",
    "    \n",
    "# Test biên lớn\n",
    "- \\[20000, 20000, 1, 1\\]: biên lớn nhất\n",
    "- \\[20000, 19999, 1, 1\\]: biên lớn nhất không đối xứng\n",
    "\n",
    "    \n",
    "# Test khoảng giữa"
   ]
  },
  {
   "cell_type": "markdown",
   "metadata": {},
   "source": [
    "K số AND với nhau = 0 được sắp xếp không liên tục"
   ]
  },
  {
   "cell_type": "code",
   "execution_count": 17,
   "metadata": {
    "scrolled": true
   },
   "outputs": [
    {
     "name": "stdout",
     "output_type": "stream",
     "text": [
      "0\n",
      "2000\n",
      "[2000, 1, 2, 2]\n",
      "[2000, 502, 1, 2]\n",
      "[2000, 1003, 2, 2]\n",
      "[2000, 1504, 2, 2]\n",
      "4000\n",
      "[4000, 1, 2, 1]\n",
      "[4000, 1002, 1, 2]\n",
      "[4000, 2003, 1, 1]\n",
      "[4000, 3004, 2, 1]\n",
      "6000\n",
      "[6000, 1, 2, 1]\n",
      "[6000, 1502, 1, 2]\n",
      "[6000, 3003, 2, 1]\n",
      "[6000, 4504, 2, 2]\n",
      "8000\n",
      "[8000, 1, 2, 1]\n",
      "[8000, 2002, 2, 2]\n",
      "[8000, 4003, 2, 1]\n",
      "[8000, 6004, 1, 1]\n",
      "10000\n",
      "[10000, 1, 2, 1]\n",
      "[10000, 2502, 2, 2]\n",
      "[10000, 5003, 1, 2]\n",
      "[10000, 7504, 1, 1]\n",
      "12000\n",
      "[12000, 1, 1, 1]\n",
      "[12000, 3002, 1, 2]\n",
      "[12000, 6003, 1, 1]\n",
      "[12000, 9004, 2, 2]\n",
      "14000\n",
      "[14000, 1, 1, 2]\n",
      "[14000, 3502, 2, 1]\n",
      "[14000, 7003, 2, 1]\n",
      "[14000, 10504, 2, 2]\n",
      "16000\n",
      "[16000, 1, 1, 2]\n",
      "[16000, 4002, 2, 1]\n",
      "[16000, 8003, 2, 1]\n",
      "[16000, 12004, 1, 1]\n",
      "18000\n",
      "[18000, 1, 1, 2]\n",
      "[18000, 4502, 2, 1]\n",
      "[18000, 9003, 1, 1]\n",
      "[18000, 13504, 1, 1]\n",
      "20000\n",
      "[20000, 1, 1, 2]\n",
      "[20000, 5002, 2, 1]\n",
      "[20000, 10003, 1, 2]\n",
      "[20000, 15004, 2, 2]\n"
     ]
    }
   ],
   "source": [
    "import random\n",
    "from random import randint\n",
    "random.seed(0)\n",
    "n = 20000\n",
    "for i in range(0, n+1, n//10):\n",
    "    print(i)\n",
    "    for j in range(1, i, i // 4 + 1):\n",
    "        print([i, j, randint(1, 2), randint(1,2)])\n",
    "    "
   ]
  },
  {
   "cell_type": "markdown",
   "metadata": {},
   "source": [
    "# Tests generator"
   ]
  },
  {
   "cell_type": "code",
   "execution_count": 42,
   "metadata": {},
   "outputs": [],
   "source": [
    "import random\n",
    "from random import randintrandom"
   ]
  },
  {
   "cell_type": "code",
   "execution_count": null,
   "metadata": {},
   "outputs": [],
   "source": [
    "\n",
    "cases = [[1,1,1,1],\n",
    "         [2,1,1,1],\n",
    "         [20000,20000,1,1],\n",
    "         [20000,19999,1,1]]\n",
    "n = 20000\n",
    "for i in range(0, n+1, n//10):\n",
    "    for j in range(1, i, i // 4 + 1):\n",
    "        cases.append([i, j, randint(1, 2), randint(1,2)])\n"
   ]
  },
  {
   "cell_type": "code",
   "execution_count": null,
   "metadata": {},
   "outputs": [],
   "source": [
    "def generate_test(n, k, is_yes):\n",
    "    max_ = 12\n",
    "    inp_text = [ '{} {}\\n'.format(n, k) ]\n",
    "    out_text = 'YES\\n' if is_yes else 'NO\\n'\n",
    "    \n",
    "    total = np.zeros(max_, dtype=np.uint)\n",
    "    current = np.array([randint(0, 1) for _ in range(max_)], dtype=np.uint)\n",
    "    return ''.join(inp_text), out_text"
   ]
  },
  {
   "cell_type": "code",
   "execution_count": 69,
   "metadata": {},
   "outputs": [
    {
     "name": "stdout",
     "output_type": "stream",
     "text": [
      "6\n",
      "6\n",
      "0\n",
      "4\n",
      "8\n",
      "7\n",
      "6\n",
      "4\n",
      "7\n",
      "5\n"
     ]
    }
   ],
   "source": [
    "random.seed(0)\n",
    "def something():\n",
    "    return randint(0, 10)\n",
    "\n",
    "for i in range(10):\n",
    "    print(something())"
   ]
  },
  {
   "cell_type": "code",
   "execution_count": 85,
   "metadata": {},
   "outputs": [
    {
     "data": {
      "text/plain": [
       "array([6, 6, 0, 4, 8, 7, 6, 4, 7, 5, 9, 3])"
      ]
     },
     "execution_count": 85,
     "metadata": {},
     "output_type": "execute_result"
    }
   ],
   "source": [
    "random.seed(0)\n",
    "a = np.array([randint(0, 10) for _ in range(12)])\n",
    "a"
   ]
  },
  {
   "cell_type": "code",
   "execution_count": 15,
   "metadata": {},
   "outputs": [],
   "source": [
    "YES = 'YES\\n'\n",
    "NO = 'NO\\n'"
   ]
  },
  {
   "source": [
    "def write_test(filename, test):\n",
    "    n, k, result_text = len(test) - 2, *test[:2]\n",
    "    arr = test[2:]\n",
    "    with open('out/{}'.format(filename), 'w') as out:\n",
    "        out.write(result_text)\n",
    "\n",
    "    with open('inp/{}'.format(filename), 'w') as inp:\n",
    "        inp.write('{} {}\\n'.format(n, k))\n",
    "        \n",
    "        for elem in map(lambda s: str(int(s, 2)), arr):\n",
    "            inp.write('{} '.format(elem))"
   ],
   "cell_type": "code",
   "metadata": {},
   "execution_count": 29,
   "outputs": []
  },
  {
   "cell_type": "code",
   "execution_count": 30,
   "metadata": {},
   "outputs": [],
   "source": [
    "# Test 2\n",
    "a2 = [2,\n",
    "      YES,\n",
    "      '10111',\n",
    "      '11011',\n",
    "      '01111',\n",
    "      '11100',\n",
    "      '00100']\n",
    "\n",
    "# 2 số k không kề nhau (r2, r4)\n",
    "\n",
    "# Test 3\n",
    "a3 = [2,\n",
    "      YES,\n",
    "      '001001',\n",
    "      '101010',\n",
    "      '010101']\n",
    "\n",
    "# 2 số k kề nhau (r2, r3)\n",
    "# r2, r3 có ít chữ số 0 nhất (3 chữ số)\n",
    "\n",
    "# Test 4\n",
    "a4 = [2,\n",
    "      YES,\n",
    "      '001001',\n",
    "      '101010',\n",
    "      '100001',\n",
    "      '010101']\n",
    "    \n",
    "# 2 số k không kề nhau (r2, r4)\n",
    "# r2, r4 có ít chữ số 0 nhất (3 chữ số)\n",
    "\n",
    "# Test 5\n",
    "a5 = [2,\n",
    "      NO,\n",
    "      '011',\n",
    "      '101',\n",
    "      '110']\n",
    "\n",
    "# k = 3 mới thỏa mãn\n",
    "\n",
    "a = [a2, a3, a4, a5]\n",
    "\n",
    "for i, test in enumerate(a, 2):\n",
    "    write_test(i, test)\n"
   ]
  },
  {
   "cell_type": "code",
   "execution_count": null,
   "metadata": {},
   "outputs": [],
   "source": []
  }
 ],
 "metadata": {
  "kernelspec": {
   "display_name": "Python 3",
   "language": "python",
   "name": "python3"
  },
  "language_info": {
   "codemirror_mode": {
    "name": "ipython",
    "version": 3
   },
   "file_extension": ".py",
   "mimetype": "text/x-python",
   "name": "python",
   "nbconvert_exporter": "python",
   "pygments_lexer": "ipython3",
   "version": "3.8.6-final"
  }
 },
 "nbformat": 4,
 "nbformat_minor": 4
}