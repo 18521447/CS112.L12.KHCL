{
 "cells": [
  {
   "cell_type": "markdown",
   "metadata": {},
   "source": [
    "![](de_bai.png)"
   ]
  },
  {
   "cell_type": "markdown",
   "metadata": {},
   "source": [
    "# Chú thích kí hiệu (nháp)\n",
    "**\\[n, k, A, B\\]** có nghĩa là cần tạo **A tests** kết quả là **YES** và **B tests** kết quả là **NO** tương ứng với cặp n, k\n",
    "\n",
    "Ví dụ \\[3, 2, 3, 1\\] có nghĩa là cần tạo 3 test trả về YES và 1 test trả về NO tương ứng với n = 3, k = 2\n",
    "\n",
    "\n",
    "# Test biên bé (nháp)\n",
    "- \\[1, 1, 1, 1\\]: biên bé nhất\n",
    "- \\[2, 1, 1, 1\\]: biên bé nhất không đối xứng\n",
    "    \n",
    "# Test biên lớn (nháp)\n",
    "- \\[20000, 20000, 1, 1\\]: biên lớn nhất\n",
    "- \\[20000, 19999, 1, 1\\]: biên lớn nhất không đối xứng\n",
    "\n",
    "    \n",
    "# Test khoảng giữa (nháp)"
   ]
  },
  {
   "cell_type": "markdown",
   "metadata": {},
   "source": [
    "K số AND với nhau = 0 được sắp xếp không liên tục\n"
   ]
  },
  {
   "cell_type": "markdown",
   "metadata": {},
   "source": [
    "# Tests generator"
   ]
  },
  {
   "cell_type": "code",
   "execution_count": 2,
   "metadata": {},
   "outputs": [],
   "source": [
    "def write_test(filename, test_case):\n",
    "    n, k, result_text = len(test_case) - 2, *test_case[:2]\n",
    "    arr = test_case[2:]\n",
    "    with open('tests/out/{}'.format(filename), 'w') as out:\n",
    "        out.write(result_text)\n",
    "\n",
    "    with open('tests/inp/{}'.format(filename), 'w') as inp:\n",
    "        inp.write('{} {}\\n'.format(n, k))\n",
    "        \n",
    "        for elem in map(lambda s: str(int(s, 2)), arr):\n",
    "            inp.write('{} '.format(elem))"
   ]
  },
  {
   "cell_type": "code",
   "execution_count": 3,
   "metadata": {},
   "outputs": [],
   "source": [
    "YES = 'YES\\n'\n",
    "NO = 'NO\\n'\n",
    "\n",
    "# Test 2\n",
    "a2 = [2,\n",
    "      YES,\n",
    "      '10111',\n",
    "      '11011',\n",
    "      '01111',\n",
    "      '11100',\n",
    "      '00100']\n",
    "\n",
    "# 2 số k không kề nhau (r2, r4)\n",
    "\n",
    "# Test 3\n",
    "a3 = [2,\n",
    "      YES,\n",
    "      '001001',\n",
    "      '101010',\n",
    "      '010101']\n",
    "\n",
    "# 2 số k kề nhau (r2, r3)\n",
    "# r2, r3 có ít chữ số 0 nhất (3 chữ số)\n",
    "\n",
    "# Test 4\n",
    "a4 = [2,\n",
    "      YES,\n",
    "      '001001',\n",
    "      '101010',\n",
    "      '100001',\n",
    "      '010101']\n",
    "    \n",
    "# 2 số k không kề nhau (r2, r4)\n",
    "# r2, r4 có ít chữ số 0 nhất (3 chữ số)\n",
    "\n",
    "# Test 5\n",
    "a5 = [2,\n",
    "      NO,\n",
    "      '011',\n",
    "      '101',\n",
    "      '110']\n",
    "\n",
    "# k = 3 mới thỏa mãn\n",
    "\n",
    "# Test 7\n",
    "a7 = [3,\n",
    "      YES,\n",
    "      '011',      \n",
    "      '111',\n",
    "      '101',\n",
    "      '111',\n",
    "      '110',\n",
    "      '111']\n",
    "\n",
    "a = [a2, a3, a4, a5, a7]\n",
    "\n",
    "for i, test in enumerate(a, 2):\n",
    "    write_test(i, test)\n"
   ]
  },
  {
   "cell_type": "code",
   "execution_count": 21,
   "metadata": {},
   "outputs": [],
   "source": [
    "import random\n",
    "from random import randint\n",
    "from random import shuffle"
   ]
  },
  {
   "cell_type": "code",
   "execution_count": null,
   "metadata": {
    "pycharm": {
     "name": "#%%\n"
    }
   },
   "outputs": [],
   "source": [
    "random.seed(23)\n",
    "MDIGIT =  12\n",
    "first = [randint(0, 1) for _ in range(MDIGIT)]\n",
    "MDIGIT-sum(first)"
   ]
  },
  {
   "cell_type": "code",
   "execution_count": 44,
   "metadata": {
    "pycharm": {
     "name": "#%%\n"
    }
   },
   "outputs": [],
   "source": [
    "import numpy as np\n",
    "from itertools import combinations\n",
    "\n",
    "def brute_force(arr, k):\n",
    "    found = False\n",
    "    for combination in combinations(arr, k):\n",
    "        result = ~0\n",
    "        for elem in combination:\n",
    "            result &= elem\n",
    "        if result == 0:\n",
    "            found = True\n",
    "            break\n",
    "    return 'YES\\n' if found else 'NO\\n'\n",
    "\n",
    "def generate_bin_table(k, MAX_NUM_OF_BIN_DIGIT=12):\n",
    "    bin_table = np.ones((k, MAX_NUM_OF_BIN_DIGIT), dtype=np.uint8)\n",
    "    \n",
    "    indices = list(range(MAX_NUM_OF_BIN_DIGIT))\n",
    "    zero_count_rows = []\n",
    "    \n",
    "    for i in range(k - 1):\n",
    "        length = randint(1, MAX_NUM_OF_BIN_DIGIT - (k - i) + 1)\n",
    "        zero_count_rows.append(length)\n",
    "        MAX_NUM_OF_BIN_DIGIT -= length\n",
    "    zero_count_rows.append(MAX_NUM_OF_BIN_DIGIT)\n",
    "    \n",
    "    for i in range(k):\n",
    "        for j in range(zero_count_rows[i]):\n",
    "            bin_table[i, j] = 0\n",
    "    return bin_table\n",
    "\n",
    "def bin_arr_to_dec(arr):\n",
    "    bin_chr_arr = map(str, arr)\n",
    "    bin_str = ''.join(bin_chr_arr)\n",
    "    return int(bin_str, 2)\n",
    "\n",
    "def bin_table_to_arr(table):\n",
    "    return [bin_arr_to_dec(row) for row in table]\n",
    "\n",
    "def generate_k_number(k, MAX_NUM_OF_BIN_DIGIT=12):\n",
    "    return bin_table_to_arr(generate_bin_table(k, MAX_NUM_OF_BIN_DIGIT))"
   ]
  },
  {
   "cell_type": "code",
   "execution_count": 59,
   "metadata": {
    "pycharm": {
     "name": "#%%\n"
    }
   },
   "outputs": [
    {
     "name": "stdout",
     "output_type": "stream",
     "text": [
      "[1 4 1 1 1]\n",
      "0 NO\n",
      "\n",
      "1 NO\n",
      "\n",
      "2 NO\n",
      "\n",
      "3 NO\n",
      "\n",
      "4 YES\n",
      "\n"
     ]
    }
   ],
   "source": [
    "\n",
    "special = np.array([[1,0,1,1,0],\n",
    "                    [1,0,0,1,1],\n",
    "                    [1,0,1,0,1],\n",
    "                    [0,0,1,1,1]], dtype=np.uint8)\n",
    "print(4-sum(special))\n",
    "special = bin_table_to_arr(special)\n",
    "\n",
    "for i in range(5):\n",
    "    print(i, brute_force(special, i))\n",
    "\n",
    "\n"
   ]
  },
  {
   "cell_type": "code",
   "execution_count": 20,
   "metadata": {
    "pycharm": {
     "name": "#%%\n"
    }
   },
   "outputs": [
    {
     "data": {
      "text/plain": [
       "array([[0, 1, 1, 0, 1],\n",
       "       [1, 0, 1, 1, 0],\n",
       "       [1, 1, 0, 1, 1]], dtype=uint8)"
      ]
     },
     "execution_count": 20,
     "metadata": {},
     "output_type": "execute_result"
    }
   ],
   "source": [
    "import numpy as np\n",
    "import random\n",
    "from random import randint\n",
    "\n",
    "\n",
    "\n",
    "generate_bin_table(3, 5)\n",
    "        \n",
    "        \n"
   ]
  },
  {
   "cell_type": "code",
   "execution_count": 78,
   "metadata": {},
   "outputs": [
    {
     "data": {
      "text/plain": [
       "array([[1, 0, 1, 0, 1],\n",
       "       [1, 1, 1, 1, 1],\n",
       "       [1, 0, 1, 0, 1],\n",
       "       [1, 1, 1, 1, 1]], dtype=uint8)"
      ]
     },
     "execution_count": 78,
     "metadata": {},
     "output_type": "execute_result"
    }
   ],
   "source": [
    "\n",
    "a[[[0], [2]],[1, 3]] = 0\n",
    "a"
   ]
  },
  {
   "cell_type": "code",
<<<<<<< Updated upstream
   "execution_count": 23,
   "metadata": {},
   "outputs": [
    {
     "data": {
      "text/plain": [
       "{0, 1, 2, 3, 4, 5, 6, 7, 8, 9}"
      ]
     },
     "execution_count": 23,
     "metadata": {},
     "output_type": "execute_result"
    }
   ],
   "source": [
    "set(range(10))"
   ]
=======
   "execution_count": 13,
   "outputs": [
    {
     "name": "stdout",
     "output_type": "stream",
     "text": [
      "[3, 4, 56, 7, 2, 456, 3, 23]\n"
     ]
    },
    {
     "ename": "NameError",
     "evalue": "name 'move' is not defined",
     "output_type": "error",
     "traceback": [
      "\u001B[1;31m---------------------------------------------------------------------------\u001B[0m",
      "\u001B[1;31mNameError\u001B[0m                                 Traceback (most recent call last)",
      "\u001B[1;32m<ipython-input-13-2512f2dd9976>\u001B[0m in \u001B[0;36m<module>\u001B[1;34m\u001B[0m\n\u001B[0;32m      3\u001B[0m \u001B[0mprint\u001B[0m\u001B[1;33m(\u001B[0m\u001B[0msomething\u001B[0m\u001B[1;33m)\u001B[0m\u001B[1;33m\u001B[0m\u001B[1;33m\u001B[0m\u001B[0m\n\u001B[0;32m      4\u001B[0m \u001B[0ma\u001B[0m \u001B[1;33m=\u001B[0m \u001B[0mrandom\u001B[0m\u001B[1;33m.\u001B[0m\u001B[0mchoices\u001B[0m\u001B[1;33m(\u001B[0m\u001B[0msomething\u001B[0m\u001B[1;33m,\u001B[0m \u001B[0mk\u001B[0m \u001B[1;33m=\u001B[0m \u001B[1;36m2\u001B[0m\u001B[1;33m)\u001B[0m\u001B[1;33m\u001B[0m\u001B[1;33m\u001B[0m\u001B[0m\n\u001B[1;32m----> 5\u001B[1;33m \u001B[1;32mfor\u001B[0m \u001B[0mi\u001B[0m \u001B[1;32min\u001B[0m \u001B[0ma\u001B[0m\u001B[1;33m:\u001B[0m\u001B[0mmove\u001B[0m\u001B[1;33m(\u001B[0m\u001B[0mi\u001B[0m\u001B[1;33m)\u001B[0m\u001B[1;33m\u001B[0m\u001B[1;33m\u001B[0m\u001B[0m\n\u001B[0m\u001B[0;32m      6\u001B[0m \u001B[0mprint\u001B[0m\u001B[1;33m(\u001B[0m\u001B[0msomething\u001B[0m\u001B[1;33m)\u001B[0m\u001B[1;33m\u001B[0m\u001B[1;33m\u001B[0m\u001B[0m\n",
      "\u001B[1;31mNameError\u001B[0m: name 'move' is not defined"
     ]
    }
   ],
   "source": [
    "import random\n",
    "something = [3,4,56,7,2,456,3,23]\n",
    "print(something)\n",
    "a = random.choices(something, k = 2)\n",
    "for i in a:move(i)\n",
    "print(something)"
   ],
   "metadata": {
    "collapsed": false,
    "pycharm": {
     "name": "#%%\n"
    }
   }
  },
  {
   "cell_type": "code",
   "execution_count": 11,
   "outputs": [
    {
     "name": "stdout",
     "output_type": "stream",
     "text": [
      "[1, 3]\n"
     ]
    }
   ],
   "source": [
    "sett = list(range(10))\n",
    "random.choices(sett, k=3)\n",
    "random.sample()\n",
    "print(sett)"
   ],
   "metadata": {
    "collapsed": false,
    "pycharm": {
     "name": "#%%\n"
    }
   }
>>>>>>> Stashed changes
  },
  {
   "cell_type": "code",
   "execution_count": null,
   "metadata": {},
   "outputs": [],
   "source": []
  }
 ],
 "metadata": {
  "kernelspec": {
   "display_name": "Python 3",
   "language": "python",
   "name": "python3"
  },
  "language_info": {
   "codemirror_mode": {
    "name": "ipython",
    "version": 3
   },
   "file_extension": ".py",
   "mimetype": "text/x-python",
   "name": "python",
   "nbconvert_exporter": "python",
   "pygments_lexer": "ipython3",
   "version": "3.8.5"
  }
 },
 "nbformat": 4,
 "nbformat_minor": 4
}
