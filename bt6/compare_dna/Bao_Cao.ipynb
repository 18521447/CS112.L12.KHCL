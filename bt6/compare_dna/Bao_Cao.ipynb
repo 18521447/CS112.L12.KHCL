{
 "cells": [
  {
   "cell_type": "markdown",
   "metadata": {},
   "source": [
    "# Problem statement"
   ]
  },
  {
   "cell_type": "markdown",
   "metadata": {},
   "source": [
    "![](image.jpg)"
   ]
  },
  {
   "cell_type": "markdown",
   "metadata": {},
   "source": [
    "## Input"
   ]
  },
  {
   "cell_type": "markdown",
   "metadata": {},
   "source": [
    "- Str_1 (Kiểu String): Chuỗi ADN thứ 1 (Str_1 <= $10^5$)\n",
    "- Str_2 (Kiểu String): Chuỗi ADN thứ 2 (Str_2 <= $10^5$)"
   ]
  },
  {
   "cell_type": "markdown",
   "metadata": {},
   "source": [
    "## Output"
   ]
  },
  {
   "cell_type": "markdown",
   "metadata": {},
   "source": [
    "- Sum_same(Kiểu int): Tổng số chuỗi trùng nhau"
   ]
  },
  {
   "cell_type": "markdown",
   "metadata": {},
   "source": [
    "# Abstraction"
   ]
  },
  {
   "cell_type": "markdown",
   "metadata": {},
   "source": [
    "Đếm số phần trong mảng 1 trùng với mảng 2"
   ]
  },
  {
   "cell_type": "markdown",
   "metadata": {},
   "source": [
    "# Pattern recognition"
   ]
  },
  {
   "cell_type": "markdown",
   "metadata": {},
   "source": [
    "- Brute-Force cải tiến"
   ]
  },
  {
   "cell_type": "markdown",
   "metadata": {},
   "source": [
    "# Algorithm design"
   ]
  },
  {
   "cell_type": "markdown",
   "metadata": {},
   "source": [
    "## Idea"
   ]
  },
  {
   "cell_type": "markdown",
   "metadata": {},
   "source": [
    "- Tách chuỗi ADN 2 thành các cặp cơ sở và lưu vào hash table để sau này tìm kiếm nhanh hơn.\n",
    "- Tách chuỗi ADN 2 thành các cặp cơ sở và so sánh với từng phần tử trong mảng vừa tạo. Nếu cặp cơ sở đó có trong mảng vừa tạo thì biến đếm cộng thêm 1."
   ]
  },
  {
   "cell_type": "markdown",
   "metadata": {},
   "source": [
    "## Pseudocode"
   ]
  },
  {
   "cell_type": "markdown",
   "metadata": {},
   "source": [
    "1. Khởi tạo:\n",
    "```\n",
    "    str_1 = nhập chuỗi ADN 1\n",
    "    str_2 = nhập chuỗi ADN 2\n",
    "    Sum_same = 0 \n",
    "    gene2_set = tập chứa các cặp cơ sở ADN trong chuỗi 2\n",
    "```\n",
    "2. Chương trình chính\n",
    "\n",
    "    - Lặp i từ 0 đến (str_2 - 1)\n",
    "      -  Gán Temp = cặp 2 cơ sở gene liên tiếp nhau trong ADN thứ 1\n",
    "      -  Thêm Temp vào detached_str_2\n",
    "        \n",
    "    - Lặp i từ 0 đến (str_1 - 1)\n",
    "      -  Gán Temp = cặp 2 cơ sở gene liên tiếp nhau trong ADN thứ 2\n",
    "      -  Nếu Temp tồn tại trong detached_str_2 thì:\n",
    "           - Sum_same cộng thêm 1\n",
    "3. In ra kết quả Sum_same    "
   ]
  },
  {
   "cell_type": "markdown",
   "metadata": {},
   "source": [
    "**Time complexity**: $O(n)$"
   ]
  },
  {
   "cell_type": "markdown",
   "metadata": {},
   "source": [
    "## Code"
   ]
  },
  {
   "cell_type": "code",
   "execution_count": null,
   "metadata": {},
   "outputs": [],
   "source": [
    "if __name__ == '__main__':\n",
    "    gene1 = input().strip()\n",
    "    gene2 = input().strip()\n",
    "\n",
    "    gene2_set = set()\n",
    "\n",
    "    for i in range(len(gene2) - 1):\n",
    "        doublet = gene2[i:i + 2]\n",
    "        gene2_set.add(doublet)\n",
    "\n",
    "    total = 0\n",
    "\n",
    "    for i in range(len(gene1) - 1):\n",
    "        doublet = gene1[i:i + 2]\n",
    "        if doublet in gene2_set:\n",
    "            total += 1\n",
    "\n",
    "    print(total)"
   ]
  }
 ],
 "metadata": {
  "kernelspec": {
   "display_name": "Python 3",
   "language": "python",
   "name": "python3"
  },
  "language_info": {
   "codemirror_mode": {
    "name": "ipython",
    "version": 3
   },
   "file_extension": ".py",
   "mimetype": "text/x-python",
   "name": "python",
   "nbconvert_exporter": "python",
   "pygments_lexer": "ipython3",
   "version": "3.7.6"
  }
 },
 "nbformat": 4,
 "nbformat_minor": 4
}
