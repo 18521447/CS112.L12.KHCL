{
 "cells": [
  {
   "cell_type": "markdown",
   "metadata": {},
   "source": [
    "# Problem statement"
   ]
  },
  {
   "cell_type": "markdown",
   "metadata": {},
   "source": [
    "![](image.jpg)"
   ]
  },
  {
   "cell_type": "markdown",
   "metadata": {},
   "source": [
    "## Input"
   ]
  },
  {
   "cell_type": "markdown",
   "metadata": {},
   "source": [
    "- str_1: string = Chuỗi ADN thứ 1 (độ dài Str_1 <= $10^5$)\n",
    "- str_2: String = Chuỗi ADN thứ 2 (độ dài Str_2 <= $10^5$)"
   ]
  },
  {
   "cell_type": "markdown",
   "metadata": {},
   "source": [
    "## Output"
   ]
  },
  {
   "cell_type": "markdown",
   "metadata": {},
   "source": [
    "- sum_same: int = Tổng số chuỗi trùng nhau"
   ]
  },
  {
   "cell_type": "markdown",
   "metadata": {},
   "source": [
    "# Abstraction"
   ]
  },
  {
   "cell_type": "markdown",
   "metadata": {},
   "source": [
    "Đếm số phần tử trong mảng 1 trùng với mảng 2"
   ]
  },
  {
   "cell_type": "markdown",
   "metadata": {},
   "source": [
    "# Pattern recognition"
   ]
  },
  {
   "cell_type": "markdown",
   "metadata": {},
   "source": [
    "- Search problem"
   ]
  },
  {
   "cell_type": "markdown",
   "metadata": {},
   "source": [
    "# Algorithm design"
   ]
  },
  {
   "cell_type": "markdown",
   "metadata": {},
   "source": [
    "## Idea"
   ]
  },
  {
   "cell_type": "markdown",
   "metadata": {},
   "source": [
    "1. Tách chuỗi ADN 2 thành các cặp cơ sở và lưu vào hash table để tìm kiếm nhanh hơn.\n",
    "2. Tách chuỗi ADN 1 thành các cặp cơ sở và tìm trong hash table vừa tạo. Nếu cặp cơ sở đó có trong hash table thì tăng biến đếm thêm 1."
   ]
  },
  {
   "cell_type": "markdown",
   "metadata": {},
   "source": [
    "## Pseudocode"
   ]
  },
  {
   "cell_type": "markdown",
   "metadata": {},
   "source": [
    "- Khởi tạo:\n",
    "    - gene2_set = hash table chứa các cặp cơ sở ADN trong chuỗi 2\n",
    "\n",
    "- Chương trình chính\n",
    "    1. Lặp i từ 0 đến len(str_2) - 2\n",
    "      1. Gán Temp = cặp 2 cơ sở gene liên tiếp nhau trong str_2 bắt đầu tại i\n",
    "      2. Thêm Temp vào gene2_set\n",
    "        \n",
    "    2. Lặp i từ 0 đến len(str_1) - 2\n",
    "      1. Gán Temp = cặp 2 cơ sở gene liên tiếp nhau trong str_1 bắt đầu tại i\n",
    "      2. Nếu gene2_set có chứa Temp thì:\n",
    "           - Sum_same cộng thêm 1\n",
    "- In ra kết quả sum_same    "
   ]
  },
  {
   "cell_type": "markdown",
   "metadata": {},
   "source": [
    "### Time complexity"
   ]
  },
  {
   "source": [
    "Bước:\n",
    "\n",
    "1. O(n)\n",
    "2. O(n) (bước 2.2 là O(1) do dùng hash table)\n",
    "\n",
    "Tổng: $O(n)$"
   ],
   "cell_type": "markdown",
   "metadata": {}
  },
  {
   "cell_type": "markdown",
   "metadata": {},
   "source": [
    "## Code"
   ]
  },
  {
   "cell_type": "code",
   "execution_count": null,
   "metadata": {},
   "outputs": [],
   "source": [
    "if __name__ == '__main__':\n",
    "    gene1 = input().strip()\n",
    "    gene2 = input().strip()\n",
    "\n",
    "    gene2_set = set()\n",
    "\n",
    "    for i in range(len(gene2) - 1):\n",
    "        doublet = gene2[i:i + 2]\n",
    "        gene2_set.add(doublet)\n",
    "\n",
    "    total = 0\n",
    "\n",
    "    for i in range(len(gene1) - 1):\n",
    "        doublet = gene1[i:i + 2]\n",
    "        if doublet in gene2_set:\n",
    "            total += 1\n",
    "\n",
    "    print(total)"
   ]
  }
 ],
 "metadata": {
  "kernelspec": {
   "display_name": "Python 3",
   "language": "python",
   "name": "python3"
  },
  "language_info": {
   "codemirror_mode": {
    "name": "ipython",
    "version": 3
   },
   "file_extension": ".py",
   "mimetype": "text/x-python",
   "name": "python",
   "nbconvert_exporter": "python",
   "pygments_lexer": "ipython3",
   "version": "3.7.6"
  }
 },
 "nbformat": 4,
 "nbformat_minor": 4
}