{
 "cells": [
  {
   "cell_type": "markdown",
   "metadata": {},
   "source": [
    "# Problem statement"
   ]
  },
  {
   "cell_type": "markdown",
   "metadata": {},
   "source": [
    "![](de.jpg)"
   ]
  },
  {
   "cell_type": "markdown",
   "metadata": {},
   "source": [
    "# Input"
   ]
  },
  {
   "cell_type": "markdown",
   "metadata": {},
   "source": [
    "- a (Kiểu int): Tử số của phân số thứ 1 ($0 < a ≤ 10^5$)\n",
    "- b (Kiểu int): Mẫu số của phân số thứ 1 ($0 < a < b ≤ 10^5$)\n",
    "- c (Kiểu int): Tử số của phân số thứ 2 ($0 < c ≤ 10^5$)\n",
    "- d (Kiểu int): Mẫu số của phân số thứ 2 ($0 < c < d ≤ 10^5$)"
   ]
  },
  {
   "cell_type": "markdown",
   "metadata": {},
   "source": [
    "# Output"
   ]
  },
  {
   "cell_type": "markdown",
   "metadata": {},
   "source": [
    "- count (Kiểu int): Số lượng phép biến đổi (count = 0 khi không có cách biến đổi nào diễn ra)"
   ]
  },
  {
   "cell_type": "markdown",
   "metadata": {},
   "source": [
    "# Abstraction"
   ]
  },
  {
   "cell_type": "markdown",
   "metadata": {},
   "source": [
    "Đếm số lần biến đổi của phân số thứ 1 sao cho bằng phân số thứ 2"
   ]
  },
  {
   "cell_type": "markdown",
   "metadata": {},
   "source": [
    "# Pattern recognition"
   ]
  },
  {
   "cell_type": "markdown",
   "metadata": {},
   "source": [
    "- Brute force"
   ]
  },
  {
   "cell_type": "markdown",
   "metadata": {},
   "source": [
    "# Algorithm design"
   ]
  },
  {
   "cell_type": "markdown",
   "metadata": {},
   "source": [
    "## Idea"
   ]
  },
  {
   "cell_type": "markdown",
   "metadata": {},
   "source": [
    "1. Để rút gọn a/b thì chia a và b cho ước chung lớn nhất của chúng\n",
    "2. Nếu a/b > c/d thì không có cách biến đổi nào"
   ]
  },
  {
   "cell_type": "markdown",
   "metadata": {},
   "source": [
    "## Pseudocode"
   ]
  },
  {
   "cell_type": "markdown",
   "metadata": {},
   "source": [
    "- Khởi tạo:\n",
    "    - count = 0 (Kiểu int, đếm số lượng phép biến đổi của phân số thứ 1)\n",
    "- Chương trình chính:\n",
    "    1. Lặp cho đến khi a/b >= c/d\n",
    "            1.1 Cộng thêm 1 cho a và b\n",
    "            1.2 Cộng thêm 1 cho biến count\n",
    "            1.3 Tìm ước chung lớn nhất(UCLN) của a và b\n",
    "                1.3.1 Nếu a = b thì UCLN là a\n",
    "                1.3.2 Nếu a > b thì a = a - b và quay lại bước 1.3.1\n",
    "                1.3.3 b = b - a và quay lại bước 1.3.1\n",
    "            1.4 Chia a và b cho UCLN vừa tìm được và lấy phần nguyên của kết quả phép chia\n",
    "    2. Nếu a/b > c/d thì count sẽ bằng 0\n",
    "- In ra kết quả count"
   ]
  },
  {
   "cell_type": "markdown",
   "metadata": {},
   "source": [
    "### Time complexity"
   ]
  },
  {
   "cell_type": "markdown",
   "metadata": {},
   "source": [
    "Bước 1: $O(n)$\n",
    "\n",
    "Bước 1.3: $O(n)$\n",
    "\n",
    "Tổng: $O(n^2)$"
   ]
  },
  {
   "cell_type": "markdown",
   "metadata": {},
   "source": [
    "## Code"
   ]
  },
  {
   "cell_type": "code",
   "execution_count": 1,
   "metadata": {
    "pycharm": {
     "name": "#%%\n"
    }
   },
   "outputs": [
    {
     "name": "stdout",
     "output_type": "stream",
     "text": [
      "2\n"
     ]
    }
   ],
   "source": [
    "def my_gcd(n1, n2):\n",
    "    if n2 == 0:\n",
    "        return n1\n",
    "    if n1 == 0:\n",
    "        return n2\n",
    "    if n1 < n2:\n",
    "        n1, n2 = n2, n1\n",
    "    return my_gcd(n2, n1 % n2)\n",
    "\n",
    "a = int(input())\n",
    "b = int(input())\n",
    "c = int(input())\n",
    "d = int(input())\n",
    "count = 0\n",
    "cd = c/d\n",
    "while a/b < cd: # nếu a/b != c/d thì a/b luôn luôn < c/d\n",
    "    a += 1\n",
    "    b += 1\n",
    "    count += 1\n",
    "    \n",
    "    flag1 = my_gcd(a,b)\n",
    "    a = a // flag1\n",
    "    b = b // flag1\n",
    "    \n",
    "if a/b > cd:\n",
    "    print(0)\n",
    "else:\n",
    "    print(count)"
   ]
  }
 ],
 "metadata": {
  "kernelspec": {
   "display_name": "Python 3",
   "language": "python",
   "name": "python3"
  },
  "language_info": {
   "codemirror_mode": {
    "name": "ipython",
    "version": 3
   },
   "file_extension": ".py",
   "mimetype": "text/x-python",
   "name": "python",
   "nbconvert_exporter": "python",
   "pygments_lexer": "ipython3",
   "version": "3.8.5"
  }
 },
 "nbformat": 4,
 "nbformat_minor": 4
}
