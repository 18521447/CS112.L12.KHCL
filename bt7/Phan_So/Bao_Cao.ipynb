{
 "cells": [
  {
   "cell_type": "markdown",
   "metadata": {},
   "source": [
    "# Problem statement"
   ]
  },
  {
   "cell_type": "markdown",
   "metadata": {},
   "source": [
    "![](de.jpg)"
   ]
  },
  {
   "cell_type": "markdown",
   "metadata": {},
   "source": [
    "# Input"
   ]
  },
  {
   "cell_type": "markdown",
   "metadata": {},
   "source": [
    "- a (Kiểu int): Tử số của phân số thứ 1 ($0 < a ≤ 10^5$)\n",
    "- b (Kiểu int): Mẫu số của phân số thứ 1 ($0 < a < b ≤ 10^5$)\n",
    "- c (Kiểu int): Tử số của phân số thứ 2 ($0 < c ≤ 10^5$)\n",
    "- d (Kiểu int): Mẫu số của phân số thứ 2 ($0 < c < d ≤ 10^5$)"
   ]
  },
  {
   "cell_type": "markdown",
   "metadata": {},
   "source": [
    "# Output"
   ]
  },
  {
   "cell_type": "markdown",
   "metadata": {},
   "source": [
    "- count (Kiểu int): Số lượng phép biến đổi (count = 0 khi không có cách biến đổi nào diễn ra)"
   ]
  },
  {
   "cell_type": "markdown",
   "metadata": {},
   "source": [
    "# Abstraction"
   ]
  },
  {
   "cell_type": "markdown",
   "metadata": {},
   "source": [
    "Đếm số lần biến đổi của phân số thứ 1 sao cho bằng phân số thứ 2"
   ]
  },
  {
   "cell_type": "markdown",
   "metadata": {},
   "source": [
    "# Pattern recognition"
   ]
  },
  {
   "cell_type": "markdown",
   "metadata": {},
   "source": [
    "- Brute force"
   ]
  },
  {
   "cell_type": "markdown",
   "metadata": {},
   "source": [
    "# Algorithm design"
   ]
  },
  {
   "cell_type": "markdown",
   "metadata": {},
   "source": [
    "## Idea"
   ]
  },
  {
   "cell_type": "markdown",
   "metadata": {},
   "source": [
    "- Nếu a/b > c/d thì việc tăng"
   ]
  },
  {
   "cell_type": "markdown",
   "metadata": {},
   "source": [
    "## Pseudocode"
   ]
  },
  {
   "cell_type": "markdown",
   "metadata": {},
   "source": [
    "- Khởi tạo:\n",
    "    - count = 0 (Kiểu int, đếm số lượng phép biến đổi của phân số thứ 1)\n",
    "- Chương trình chính:\n",
    "    1. Lặp cho đến khi a/b >= c/d\n",
    "            1.1 Cộng thêm 1 cho a và b\n",
    "            1.2 Cộng thêm 1 cho biến count\n",
    "            1.3 Tìm ước chung lớn nhất(UCLN) của a và b\n",
    "                1.3.1 Nếu a = b thì UCLN là a\n",
    "                1.3.2 Nếu a > b thì a = a - b và quay lại bước 1.3.1\n",
    "                1.3.3 b = b - a và quay lại bước 1.3.1\n",
    "            1.4 Chia a và b cho UCLN vừa tìm được và lấy phần nguyên của kết quả phép chia\n",
    "    2. Nếu a/b > c/d thì count sẽ bằng 0\n",
    "- In ra kết quả count"
   ]
  },
  {
   "cell_type": "markdown",
   "metadata": {},
   "source": [
    "### Time complexity"
   ]
  },
  {
   "cell_type": "markdown",
   "metadata": {},
   "source": [
    "## Code"
   ]
  },
  {
   "cell_type": "code",
   "execution_count": 1,
   "metadata": {
    "pycharm": {
     "name": "#%%\n"
    }
   },
   "outputs": [
    {
     "name": "stdout",
     "output_type": "stream",
     "text": [
      "2\n"
     ]
    }
   ],
   "source": [
    "def my_gcd(n1, n2):\n",
    "    if n2 == 0:\n",
    "        return n1\n",
    "    if n1 == 0:\n",
    "        return n2\n",
    "    if n1 < n2:\n",
    "        n1, n2 = n2, n1\n",
    "    return my_gcd(n2, n1 % n2)\n",
    "\n",
    "a = int(input())\n",
    "b = int(input())\n",
    "c = int(input())\n",
    "d = int(input())\n",
    "count = 0\n",
    "cd = c/d\n",
    "while a/b < cd: # nếu a/b != c/d thì a/b luôn luôn < c/d\n",
    "    a += 1\n",
    "    b += 1\n",
    "    count += 1\n",
    "    \n",
    "    flag1 = my_gcd(a,b)\n",
    "    a = a // flag1\n",
    "    b = b // flag1\n",
    "    \n",
    "if a/b > cd:\n",
    "    print(0)\n",
    "else:\n",
    "    print(count)"
   ]
  },
  {
   "cell_type": "code",
   "execution_count": 5,
   "outputs": [
    {
     "name": "stdout",
     "output_type": "stream",
     "text": [
      "1.2304633186799308e-06\n",
      "1.2277380400105287e-06\n",
      "1.2250218053289075e-06\n",
      "1.222314574889083e-06\n",
      "1.219616308723026e-06\n",
      "1.2169269673067973e-06\n",
      "1.214246511560546e-06\n",
      "1.2115749019603328e-06\n",
      "1.2089120999814185e-06\n",
      "1.2062580668770195e-06\n",
      "1.2036127640113747e-06\n",
      "1.2009761534148566e-06\n",
      "1.1983481968957932e-06\n",
      "1.195728856484557e-06\n",
      "1.1931180948776543e-06\n",
      "1.1905158743275024e-06\n",
      "1.1879221578636745e-06\n",
      "1.1853369082936993e-06\n",
      "1.1827600888691947e-06\n",
      "1.1801916631748455e-06\n",
      "1.1776315944622695e-06\n",
      "1.1750798466492185e-06\n",
      "1.1725363837644664e-06\n",
      "1.170001170058832e-06\n",
      "1.1674741696721114e-06\n",
      "1.1649553471881902e-06\n",
      "1.162444667635043e-06\n",
      "1.1599420957075779e-06\n",
      "1.1574475965447917e-06\n",
      "1.1549611356187484e-06\n",
      "1.1524826781794673e-06\n",
      "1.1500121901431015e-06\n",
      "1.1475496372037597e-06\n",
      "1.1450949856106618e-06\n",
      "1.1426482015020056e-06\n",
      "1.1402092512380335e-06\n",
      "1.1377781014010324e-06\n",
      "1.135354718795334e-06\n",
      "1.1329390705583364e-06\n",
      "1.1305311236053939e-06\n",
      "1.1281308450739047e-06\n",
      "1.1257382028784235e-06\n",
      "1.1233531641563488e-06\n",
      "1.1209756972663243e-06\n",
      "1.1186057697898377e-06\n",
      "1.1162433499745106e-06\n",
      "1.1138884061789867e-06\n",
      "1.1115409069839544e-06\n",
      "1.1092008207480575e-06\n",
      "1.1068681167181182e-06\n",
      "1.104542763474825e-06\n",
      "1.1022247303760224e-06\n",
      "1.0999139867795549e-06\n",
      "1.0976105019322446e-06\n",
      "1.0953142456360254e-06\n",
      "1.093025187692831e-06\n",
      "1.090743297904595e-06\n",
      "1.0884685465173405e-06\n",
      "1.086200903666068e-06\n",
      "1.0839403399298675e-06\n",
      "1.0816868257768064e-06\n",
      "1.0794403317859746e-06\n",
      "1.0772008289805513e-06\n",
      "1.0749682883837153e-06\n",
      "1.0727426812406904e-06\n",
      "1.070523978685678e-06\n",
      "1.0683121522969685e-06\n",
      "1.0661071735418304e-06\n",
      "1.0639090145536656e-06\n",
      "1.0617176467997425e-06\n",
      "1.0595330426355076e-06\n",
      "1.057355174083341e-06\n",
      "1.055184013498689e-06\n",
      "1.053019533459043e-06\n",
      "1.0508617066529169e-06\n",
      "1.0487105055467794e-06\n",
      "1.0465659032732333e-06\n",
      "1.0444278728538592e-06\n",
      "1.0422963874212599e-06\n",
      "1.0401714202190604e-06\n",
      "1.0380529449349751e-06\n",
      "1.0359409347016069e-06\n",
      "1.0338353638728037e-06\n",
      "1.0317362056921908e-06\n",
      "1.029643434402594e-06\n",
      "1.0275570243578613e-06\n",
      "1.0254769492457072e-06\n",
      "1.0234031840861135e-06\n",
      "1.0213357027888392e-06\n",
      "1.0192744804848886e-06\n",
      "1.0172194915281096e-06\n",
      "1.0151707110495067e-06\n",
      "1.013128114180084e-06\n",
      "1.0110916756067567e-06\n",
      "1.0090613711266627e-06\n",
      "1.007037175759784e-06\n",
      "1.0050190653032587e-06\n",
      "1.0030070149991133e-06\n",
      "1.0010010009775527e-06\n",
      "9.990009990357152e-07\n"
     ]
    }
   ],
   "source": [
    "for i in range(900,1000):\n",
    "    a = i / (i+1)\n",
    "    b = (i+1) / (i+2)\n",
    "    print(b-a)"
   ],
   "metadata": {
    "collapsed": false,
    "pycharm": {
     "name": "#%%\n"
    }
   }
  },
  {
   "cell_type": "code",
   "execution_count": null,
   "outputs": [],
   "source": [],
   "metadata": {
    "collapsed": false,
    "pycharm": {
     "name": "#%%\n"
    }
   }
  }
 ],
 "metadata": {
  "kernelspec": {
   "display_name": "Python 3",
   "language": "python",
   "name": "python3"
  },
  "language_info": {
   "codemirror_mode": {
    "name": "ipython",
    "version": 3
   },
   "file_extension": ".py",
   "mimetype": "text/x-python",
   "name": "python",
   "nbconvert_exporter": "python",
   "pygments_lexer": "ipython3",
   "version": "3.8.5"
  }
 },
 "nbformat": 4,
 "nbformat_minor": 4
}