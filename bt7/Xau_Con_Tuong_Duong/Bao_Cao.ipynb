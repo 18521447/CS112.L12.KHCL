{
 "cells": [
  {
   "cell_type": "markdown",
   "metadata": {},
   "source": [
    "# Problem statement"
   ]
  },
  {
   "cell_type": "markdown",
   "metadata": {},
   "source": [
    "![](de.jpg)"
   ]
  },
  {
   "cell_type": "markdown",
   "metadata": {},
   "source": [
    "# Input"
   ]
  },
  {
   "cell_type": "markdown",
   "metadata": {},
   "source": [
    "- s (Kiểu string): chứa các ký tự latinh với độ dài n < $10^5$\n",
    "- q (Kiểu int): số lượng câu truy vấn ($1 ≤  q  ≤ 10^5$)\n",
    "- a, b (Kiểu int): Vị trí chuỗi con thứ 1 với a là điểm bắt đầu và b là điểm kết thúc ($1 ≤ a ≤ b ≤ n$)\n",
    "- c, d (Kiểu int): Vị trí chuỗi con thứ 2 với c là điểm bắt đầu và d là điểm kết thúc ($1 ≤ c ≤ d ≤ n$)"
   ]
  },
  {
   "cell_type": "markdown",
   "metadata": {},
   "source": [
    "# Output"
   ]
  },
  {
   "cell_type": "markdown",
   "metadata": {},
   "source": [
    "result (Kiểu string): Đưa ra kết quả YES hoặc NO tương ứng với hai chuỗi trên có cùng một lớp tương đương hay không"
   ]
  },
  {
   "cell_type": "markdown",
   "metadata": {},
   "source": [
    "# Abstraction"
   ]
  },
  {
   "cell_type": "markdown",
   "metadata": {},
   "source": [
    "Kiểm tra xem 2 chuỗi con trong 1 chuỗi mẹ có cùng một lớp tương đương hay không"
   ]
  },
  {
   "cell_type": "markdown",
   "metadata": {},
   "source": [
    "# Pattern recognition"
   ]
  },
  {
   "cell_type": "markdown",
   "metadata": {},
   "source": [
    "- String hashing"
   ]
  },
  {
   "cell_type": "markdown",
   "metadata": {},
   "source": [
    "# Algorithm design"
   ]
  },
  {
   "cell_type": "markdown",
   "metadata": {},
   "source": [
    "## Idea"
   ]
  },
  {
   "cell_type": "markdown",
   "metadata": {},
   "source": [
    "### Ý tưởng chính"
   ]
  },
  {
   "cell_type": "markdown",
   "metadata": {
    "slideshow": {
     "slide_type": "slide"
    }
   },
   "source": [
    "1. Chuyển đổi các ký tự trong chuỗi sang mã ASCII tương ứng\n",
    "2. Tính tổng ASCII của từng chuỗi con\n",
    "        Ví dụ: Cho chuỗi \"Hello\", để tính tổng ASCII của chuỗi con \"Hell\" thì ta làm như sau:\n",
    "        H = 72\n",
    "        e = 101\n",
    "        l = 108\n",
    "        Độ dài chuỗi con \"Hell\" = 72 + 101 + 108 + 108 = 389\n",
    "3. Lưu lại tổng của từng chuỗi con. Nếu hai chuỗi con có tổng bằng nhau thì chúng tương đương nhau\n"
   ]
  },
  {
   "cell_type": "markdown",
   "metadata": {
    "slideshow": {
     "slide_type": "slide"
    }
   },
   "source": [
    "***Tuy nhiên ý tưởng trên lại dính một lỗi vô cùng nghiêm trọng***\n",
    "- *Ví dụ: cho chuỗi ccdABAfccd*\n",
    "        Đổi sang mã ASCII:\n",
    "         c = 99\n",
    "         d = 100\n",
    "         A = 65\n",
    "         B = 66\n",
    "         f = 102        \n",
    "   - Tổng ACII của chuỗi từ vị trí 1 đến 3 = 298 (Tương ứng là chuỗi con \"ccd\")\n",
    "   - Tổng ACII của chuỗi từ vị trí 4 đến 7 = 298 (Tương ứng là chuỗi con \"ABAf\")\n",
    "- Tuy đều trả về tổng bằng nhau nhưng 2 chuỗi con đó lại không cùng một lớp tương đương (\"ccd\" != \"ABAf\")"
   ]
  },
  {
   "cell_type": "markdown",
   "metadata": {
    "slideshow": {
     "slide_type": "slide"
    }
   },
   "source": [
    "***Giải pháp: Bình phương mã ASCII của ký tự rồi mới tính tổng***\n",
    "- *Ví dụ: cho chuỗi ccdABAfccd*\n",
    "        Đổi sang mã thập phân:\n",
    "         c = 99 ^ 2\n",
    "         d = 100 ^ 2\n",
    "         A = 65 ^ 2\n",
    "         B = 66 ^ 2\n",
    "         f = 102 ^ 2\n",
    "   - Tổng ACII của chuỗi từ vị trí 1 đến 3 = 29602 (Tương ứng là chuỗi con \"ccd\")\n",
    "   - Tổng ACII của chuỗi từ vị trí 4 đến 7 = 23210 (Tương ứng là chuỗi con \"ABAf\")\n",
    "- Lúc này, kết quả đã trả về NO và tránh được kết quả không mong muốn."
   ]
  },
  {
   "cell_type": "markdown",
   "metadata": {
    "slideshow": {
     "slide_type": "slide"
    }
   },
   "source": [
    "***Nhận xét***: \n",
    "- Nếu dùng lũy thừa càng lớn (lũy thừa 3,4,5,...) thì việc dính lỗi như trên càng thấp"
   ]
  },
  {
   "cell_type": "markdown",
   "metadata": {},
   "source": [
    "### Kết hợp prefix sum để tối ưu tốc độ\n",
    "\n",
    "Do ta có q truy vấn, mỗi truy vấn có độ phức tạp là $O(n)$ (để tính tổng), nên tổng thời gian là $O(n^2)$\n",
    "\n",
    "Vì thế cần dùng **prefix sum** để giảm thời gian tính tổng thành $O(1)$. Lúc đó tổng thời gian là $O(n)$\n",
    "\n",
    "*Ví dụ*\n",
    "\n",
    "    H = 72\n",
    "    e = 101\n",
    "    l = 108\n",
    "    o = 111\n",
    "    Tổng ASCII chuỗi con \"H\" = 72\n",
    "    Tổng ASCII chuỗi con \"He\" = Tổng ASCII chuỗi con \"H\" + mã ASCII của \"e\" = 72 + 101 = 173\n",
    "    Tổng ASCII chuỗi con \"Hel\" = Tổng ASCII chuỗi con \"He\" + mã ASCII của \"l\" = 173 + 108 = 281\n",
    "    Tổng ASCII chuỗi con \"Hell\" = Tổng ASCII chuỗi con \"Hel\" + mã ASCII của \"l\" = 281 + 108 = 389\n",
    "    Tổng ASCII chuỗi con \"Hello\" = Tổng ASCII chuỗi con \"Hell\" + mã ASCII của \"o\" = 389 + 111 = 500\n",
    "    \n",
    "- Tổng ASCII của chuỗi \"ell\" = Tổng ASCII chuỗi \"Hell\" - Tổng ASCII chuỗi con \"H\" = 389 - 72 = 317\n"
   ]
  },
  {
   "cell_type": "markdown",
   "metadata": {
    "slideshow": {
     "slide_type": "slide"
    }
   },
   "source": [
    "## Pseudocode"
   ]
  },
  {
   "cell_type": "markdown",
   "metadata": {
    "slideshow": {
     "slide_type": "slide"
    }
   },
   "source": [
    "- Khởi tạo:\n",
    "    - array_Sum = mảng chứa tổng độ dài của các chuỗi con\n",
    "- Chương trình chính:\n",
    "     1. Thêm 0 vào mảng array_Sum (vì nếu chuỗi rỗng thì độ dài sẽ bằng 0)\n",
    "     2. Lặp i từ 0 tới len(s):\n",
    "        - Thêm array_Sum[vị trí trước đó] + Mã thập phân của i lũy thừa 5 vào array_Sum\n",
    "     3. Lặp q truy vấn\n",
    "        - 3.1 Kiểm tra array_Sum[b] - array_Sum[a] có bằng với array_Sum[d] - array_Sum[c]\n",
    "        - 3.2 In ra YES nếu bằng nhau và in ra NO nếu không bằng nhau"
   ]
  },
  {
   "cell_type": "markdown",
   "metadata": {
    "slideshow": {
     "slide_type": "slide"
    }
   },
   "source": [
    "## Time complexity"
   ]
  },
  {
   "cell_type": "markdown",
   "metadata": {},
   "source": [
    "Bước 2: $O(n)$\n",
    "\n",
    "Bước 3: $O(n)$\n",
    "\n",
    "Bước 3.1: $O(1)$\n",
    "\n",
    "Tổng: $O(n)$"
   ]
  },
  {
   "cell_type": "markdown",
   "metadata": {},
   "source": [
    "## Code"
   ]
  },
  {
   "cell_type": "code",
   "execution_count": null,
   "metadata": {},
   "outputs": [],
   "source": [
    "s = input().strip()\n",
    "q = int(input())\n",
    "array_Sum = [] # chứa tổng của số nguyên đại diện (haha sẽ lưu thành array=[104, 201, 305, 402])\n",
    "array_Sum.append(0)\n",
    "\n",
    "for _ in s:\n",
    "    array_Sum.append(array_Sum[-1]+ord(_)**5)\n",
    "    \n",
    "def check(begin,end):\n",
    "    return array_Sum[end] - array_Sum[begin-1] \n",
    "'''\n",
    "begin phải trừ thêm 1 vì theo ví dụ như:\n",
    "begin = 3\n",
    "end = 4\n",
    "thì tổng của 2 chữ ở vị trí 3 và 4 sẽ bằng 402 - 201 không phải 402-305\n",
    "'''\n",
    "for _ in range(q):\n",
    "    a,b,c,d = map(int,input().split())\n",
    "    if check(a,b) == check(c,d):\n",
    "        print(\"YES\")\n",
    "    else:\n",
    "        print(\"NO\")"
   ]
  },
  {
   "cell_type": "markdown",
   "metadata": {},
   "source": [
    "Code trên tuy đúng nhưng tốc độ chưa nhanh nên không pass được một số bộ test\n",
    "\n",
    "![](fail.jpg)\n",
    "\n",
    "Vì thế nhóm chúng em đã sửa lại cách đọc đầu vào như sau"
   ]
  },
  {
   "cell_type": "code",
   "execution_count": null,
   "metadata": {},
   "outputs": [],
   "source": [
    "from sys import stdin\n",
    "s = stdin.readline().strip()\n",
    "q = int(input())\n",
    "array_Sum = [] # chứa tổng của số nguyên đại diện (haha sẽ lưu thành array=[104, 201, 305, 402])\n",
    "array_Sum.append(0)\n",
    "\n",
    "for _ in s:\n",
    "    array_Sum.append(array_Sum[-1]+ord(_)**5)\n",
    "    \n",
    "def check(begin,end):\n",
    "    return array_Sum[end] - array_Sum[begin-1] \n",
    "'''\n",
    "begin phải trừ thêm 1 vì theo ví dụ như:\n",
    "begin = 3\n",
    "end = 4\n",
    "thì tổng của 2 chữ ở vị trí 3 và 4 sẽ bằng 402 - 201 không phải 402-305\n",
    "'''\n",
    "\n",
    "for _ in range(q):\n",
    "    a,b,c,d = map(int,stdin.readline().split())\n",
    "    if check(a,b) == check(c,d):\n",
    "        print(\"YES\")\n",
    "    else:\n",
    "        print(\"NO\")"
   ]
  },
  {
   "cell_type": "markdown",
   "metadata": {},
   "source": [
    "Kết quả cho ra vô cùng ấn tượng\n",
    "\n",
    "![](pass.jpg)\n",
    "\n",
    "Cho thấy việc dùng cách đọc đầu vào khác nhau cũng sẽ đưa ra thời gian xử lý khác nhau."
   ]
  }
 ],
 "metadata": {
  "kernelspec": {
   "display_name": "Python 3",
   "language": "python",
   "name": "python3"
  },
  "language_info": {
   "codemirror_mode": {
    "name": "ipython",
    "version": 3
   },
   "file_extension": ".py",
   "mimetype": "text/x-python",
   "name": "python",
   "nbconvert_exporter": "python",
   "pygments_lexer": "ipython3",
   "version": "3.7.6"
  },
  "toc-autonumbering": true,
  "toc-showcode": false,
  "toc-showmarkdowntxt": false,
  "toc-showtags": false
 },
 "nbformat": 4,
 "nbformat_minor": 4
}
