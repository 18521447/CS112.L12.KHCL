{
 "cells": [
  {
   "cell_type": "markdown",
   "metadata": {},
   "source": [
    "# Problem statement"
   ]
  },
  {
   "cell_type": "markdown",
   "metadata": {},
   "source": [
    "![](de.jpg)"
   ]
  },
  {
   "cell_type": "markdown",
   "metadata": {},
   "source": [
    "## Input"
   ]
  },
  {
   "cell_type": "markdown",
   "metadata": {},
   "source": [
    "- s (Kiểu string): chứa các ký tự latinh với độ dài n < $10^5$\n",
    "- q (Kiểu int): số lượng câu truy vấn ($1 ≤  q  ≤ 10^5$)\n",
    "- a, b (Kiểu int): Vị trí chuỗi con thứ 1 với a là điểm bắt đầu và b là điểm kết thúc ($1 ≤ a ≤ b ≤ n$)\n",
    "- c, d (Kiểu int): Vị trí chuỗi con thứ 2 với c là điểm bắt đầu và d là điểm kết thúc ($1 ≤ c ≤ d ≤ n$)"
   ]
  },
  {
   "cell_type": "markdown",
   "metadata": {},
   "source": [
    "## Output"
   ]
  },
  {
   "cell_type": "markdown",
   "metadata": {},
   "source": [
    "result (Kiểu string): Đưa ra kết quả YES hoặc NO tương ứng với hai chuỗi trên có cùng một lớp tương đương hay không"
   ]
  },
  {
   "cell_type": "markdown",
   "metadata": {},
   "source": [
    "# Abstraction"
   ]
  },
  {
   "cell_type": "markdown",
   "metadata": {},
   "source": [
    "Kiểm tra xem 2 chuỗi con trong 1 chuỗi mẹ có cùng một lớp tương đương hay không"
   ]
  },
  {
   "cell_type": "markdown",
   "metadata": {},
   "source": [
    "# Pattern recognition"
   ]
  },
  {
   "cell_type": "markdown",
   "metadata": {},
   "source": []
  },
  {
   "cell_type": "markdown",
   "metadata": {},
   "source": [
    "# Algorithm design"
   ]
  },
  {
   "cell_type": "markdown",
   "metadata": {},
   "source": [
    "## Idea"
   ]
  },
  {
   "cell_type": "markdown",
   "metadata": {},
   "source": [
    "1. Chuyển đổi các ký tự trong chuỗi sang mã thập phân tương ứng với từng ký tự trong bảng ASCII\n",
    "2. Tính tổng độ dài của từng chuỗi:\n",
    "    Ví dụ như chuỗi mẹ \"Hello\" thì tính như sau:\n",
    "        H = 72\n",
    "        e = 101\n",
    "        l = 108\n",
    "        o = 111\n",
    "        Độ dài chuỗi con \"H\" = 72\n",
    "        Độ dài chuỗi con \"He\" = 173\n",
    "        Độ dài chuỗi con \"Hel\" = 281\n",
    "        Độ dài chuỗi con \"Hell\" = 389\n",
    "        Độ dài chuỗi con \"Hello\" = 500\n",
    "3. Lưu lại độ dài của từng chuỗi con. Nếu như muốn tìm độ dài chuỗi con \"llo\" thì chỉ cần lấy 500 - 173 = 327\n"
   ]
  },
  {
   "cell_type": "markdown",
   "metadata": {},
   "source": [
    "***Mặc dù ý tưởng trên nghe có vẻ thực tế, tuy nhiên lại dính một lỗi vô cùng nghiêm trọng***\n",
    "- *Ví dụ: cho chuỗi ccdABAfccd. Kiểm tra a,b,c,d = 1 3 4 7*\n",
    "        Đổi sang mã thập phân:\n",
    "         c = 99\n",
    "         d = 100\n",
    "         A = 65\n",
    "         B = 66\n",
    "         f = 102\n",
    "        Độ dài chuỗi con \"c\" = 99\n",
    "        Độ dài chuỗi con \"cc\" = 198\n",
    "        Độ dài chuỗi con \"ccd\" = 298\n",
    "        Độ dài chuỗi con \"ccdA\" = 363\n",
    "        Độ dài chuỗi con \"ccdAB\" = 429\n",
    "        Độ dài chuỗi con \"ccdABA\" = 494\n",
    "        Độ dài chuỗi con \"ccdABAf\" = 596\n",
    "        Độ dài chuỗi con \"ccdABAfc\" = 695\n",
    "        Độ dài chuỗi con \"ccdABAfcc\" = 794\n",
    "        Độ dài chuỗi con \"ccdABAfccd\" = 894\n",
    "        \n",
    "   - Độ dài chuỗi từ vị trí a đến b = 298 - 0 = 298 (Tương ứng là chuỗi con \"ccd\")\n",
    "   - Độ dài chuỗi từ vị trí c đến d = 596 - 298 = 298 (Tương ứng là chuỗi con \"ABAf\")\n",
    "- Tuy đều trả về độ dài là như nhau nhưng 2 chuỗi con đó lại không cùng một lớp tương đương (\"ccd\" != \"ABAf\")"
   ]
  },
  {
   "cell_type": "markdown",
   "metadata": {},
   "source": [
    "***Giải pháp: Bình phương mã thập phân của ký tự rồi mới tính tổng độ dài của chuỗi con***\n",
    "- *Ví dụ: cho chuỗi ccdABAfccd. Kiểm tra a,b,c,d = 1 3 4 7*\n",
    "        Đổi sang mã thập phân:\n",
    "         c = 99\n",
    "         d = 100\n",
    "         A = 65\n",
    "         B = 66\n",
    "         f = 102\n",
    "        Độ dài chuỗi con \"c\" = 99^2 = 9801\n",
    "        Độ dài chuỗi con \"cc\" = 9801 + 99^2 = 19602\n",
    "        Độ dài chuỗi con \"ccd\" = 19602 + 100^2 = 29602\n",
    "        Độ dài chuỗi con \"ccdA\" = 29602 + 65^2 = 33827\n",
    "        Độ dài chuỗi con \"ccdAB\" = 33827 + 66^2 = 38183\n",
    "        Độ dài chuỗi con \"ccdABA\" = 38183 + 65^2 = 42408\n",
    "        Độ dài chuỗi con \"ccdABAf\" = 42408 + 102^2 = 52812\n",
    "        Độ dài chuỗi con \"ccdABAfc\" = 52812 + 99^2 = 62613\n",
    "        Độ dài chuỗi con \"ccdABAfcc\" = 62613 + 99^2 = 72414\n",
    "        Độ dài chuỗi con \"ccdABAfccd\" = 72414 + 100^2 = 82414\n",
    "   - Độ dài chuỗi từ vị trí a đến b = 29602 - 0 = 29602 (Tương ứng là chuỗi con \"ccd\")\n",
    "   - Độ dài chuỗi từ vị trí c đến d = 52812 - 29602 = 23210 (Tương ứng là chuỗi con \"ABAf\")\n",
    "- Lúc này, kết quả đã trả về NO và tránh được kết quả không mong muốn."
   ]
  },
  {
   "cell_type": "markdown",
   "metadata": {},
   "source": [
    "***Nhận xét: Nếu lũy thừa mã thập phân ký tự càng lớn (Lũy thừa 3,4,5,... thì việc dính lỗi như trên càng thấp)***"
   ]
  },
  {
   "cell_type": "markdown",
   "metadata": {},
   "source": [
    "## Pseudocode"
   ]
  },
  {
   "cell_type": "markdown",
   "metadata": {},
   "source": [
    "- Khởi tạo:\n",
    "    - array_Sum = mảng chứa tổng độ dài của các chuỗi con\n",
    "- Chương trình chính:\n",
    "    - Thêm 0 vào mảng array_Sum (vì nếu chuỗi rỗng thì độ dài sẽ bằng 0)\n",
    "    - Lặp i từ 0 tới len(s):\n",
    "        - Thêm array_Sum[vị trí trước đó] + Mã thập phân của i lũy thừa 5 vào array_Sum\n",
    "    - Kiểm tra array_Sum[b] - array_Sum[a] có bằng với array_Sum[d] - array_Sum[c]\n",
    "- In ra YES nếu bằng nhau và in ra NO nếu không bằng nhau"
   ]
  },
  {
   "cell_type": "markdown",
   "metadata": {},
   "source": [
    "### Time complexity"
   ]
  },
  {
   "cell_type": "markdown",
   "metadata": {},
   "source": []
  },
  {
   "cell_type": "markdown",
   "metadata": {},
   "source": [
    "## Code"
   ]
  },
  {
   "cell_type": "code",
   "execution_count": null,
   "metadata": {},
   "outputs": [],
   "source": [
    "s = input().strip()\n",
    "q = int(input())\n",
    "array_Sum = [] # chứa tổng của số nguyên đại diện (haha sẽ lưu thành array=[104, 201, 305, 402])\n",
    "array_Sum.append(0)\n",
    "\n",
    "for _ in s:\n",
    "    array_Sum.append(array_Sum[-1]+ord(_)**5)\n",
    "    \n",
    "def check(begin,end):\n",
    "    return array_Sum[end] - array_Sum[begin-1] \n",
    "'''\n",
    "begin phải trừ thêm 1 vì theo ví dụ như:\n",
    "begin = 3\n",
    "end = 4\n",
    "thì tổng của 2 chữ ở vị trí 3 và 4 sẽ bằng 402 - 201 không phải 402-305\n",
    "'''\n",
    "for _ in range(q):\n",
    "    a,b,c,d = map(int,input().split())\n",
    "    if check(a,b) == check(c,d):\n",
    "        print(\"YES\")\n",
    "    else:\n",
    "        print(\"NO\")"
   ]
  },
  {
   "cell_type": "markdown",
   "metadata": {},
   "source": [
    "Code trên tuy đúng nhưng tốc độ chưa nhanh nên không pass được một số bộ test\n",
    "![](fail.jpg)\n",
    "Vì thế nhóm chúng em đã sửa lại cách đọc đầu vào như sau"
   ]
  },
  {
   "cell_type": "code",
   "execution_count": null,
   "metadata": {},
   "outputs": [],
   "source": [
    "from sys import stdin\n",
    "s = stdin.readline().strip()\n",
    "q = int(input())\n",
    "array_Sum = [] # chứa tổng của số nguyên đại diện (haha sẽ lưu thành array=[104, 201, 305, 402])\n",
    "array_Sum.append(0)\n",
    "\n",
    "for _ in s:\n",
    "    array_Sum.append(array_Sum[-1]+ord(_)**5)\n",
    "    \n",
    "def check(begin,end):\n",
    "    return array_Sum[end] - array_Sum[begin-1] \n",
    "'''\n",
    "begin phải trừ thêm 1 vì theo ví dụ như:\n",
    "begin = 3\n",
    "end = 4\n",
    "thì tổng của 2 chữ ở vị trí 3 và 4 sẽ bằng 402 - 201 không phải 402-305\n",
    "'''\n",
    "\n",
    "for _ in range(q):\n",
    "    a,b,c,d = map(int,stdin.readline().split())\n",
    "    if check(a,b) == check(c,d):\n",
    "        print(\"YES\")\n",
    "    else:\n",
    "        print(\"NO\")"
   ]
  },
  {
   "cell_type": "markdown",
   "metadata": {},
   "source": [
    "Kết quả cho ra vô cùng ấn tượng\n",
    "![](pass.jpg)\n",
    "Cho thấy việc dùng cách đọc đầu vào khác nhau cũng sẽ đưa ra thời gian xử lý khác nhau."
   ]
  },
  {
   "cell_type": "code",
   "execution_count": null,
   "metadata": {},
   "outputs": [],
   "source": []
  }
 ],
 "metadata": {
  "kernelspec": {
   "display_name": "Python 3",
   "language": "python",
   "name": "python3"
  },
  "language_info": {
   "codemirror_mode": {
    "name": "ipython",
    "version": 3
   },
   "file_extension": ".py",
   "mimetype": "text/x-python",
   "name": "python",
   "nbconvert_exporter": "python",
   "pygments_lexer": "ipython3",
   "version": "3.7.6"
  }
 },
 "nbformat": 4,
 "nbformat_minor": 4
}
