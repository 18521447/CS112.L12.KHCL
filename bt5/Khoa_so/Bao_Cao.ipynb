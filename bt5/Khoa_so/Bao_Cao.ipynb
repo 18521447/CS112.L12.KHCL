{
 "cells": [
  {
   "cell_type": "code",
   "execution_count": 46,
   "metadata": {},
   "outputs": [
    {
     "name": "stdout",
     "output_type": "stream",
     "text": [
      "12344321\n",
      "4433211\n"
     ]
    }
   ],
   "source": [
    "def add_array(arr,divisible,remainder_1,remainder_2):\n",
    "    sum_var = 0\n",
    "    for i in (arr):\n",
    "        if int(i) % 3 == 0:\n",
    "            divisible.append(i)\n",
    "        elif int(i) % 3 == 1:\n",
    "            remainder_1.append(i)\n",
    "        else:\n",
    "            remainder_2.append(i)\n",
    "        sum_var += int(i)\n",
    "    divisible.sort(reverse = True)\n",
    "    remainder_1.sort(reverse = True)\n",
    "    remainder_2.sort(reverse = True)\n",
    "    return sum_var\n",
    "    \n",
    "def calculating(sum_var,remainder_1,remainder_2):\n",
    "    if sum_var % 3 == 1:\n",
    "        if len(remainder_1) > 0:\n",
    "            remainder_1.pop()\n",
    "        else:\n",
    "            remainder_2.pop()\n",
    "            remainder_2.pop()    \n",
    "    if sum_var % 3 == 2:\n",
    "        if len(remainder_2) > 0:\n",
    "            remainder_2.pop()\n",
    "        else:\n",
    "            remainder_1.pop()\n",
    "            remainder_1.pop()\n",
    "            \n",
    "if __name__ == '__main__':\n",
    "    arr = input().strip()\n",
    "    arr = [str(i) for i in arr]\n",
    "    divisible = []\n",
    "    remainder_1 = []\n",
    "    remainder_2 = []\n",
    "   \n",
    "    result = []\n",
    "    sum_var = add_array(arr,divisible,remainder_1,remainder_2)\n",
    "    \n",
    "    calculating(sum_var,remainder_1,remainder_2)\n",
    "    \n",
    "    result =[]\n",
    "    result = sorted(divisible + remainder_1 + remainder_2,reverse = True)\n",
    "    result = ''.join(result)\n",
    "    print(result)    "
   ]
  },
  {
   "cell_type": "markdown",
   "metadata": {},
   "source": [
    "# làm sao rút gọn if else trên add_array"
   ]
  },
  {
   "cell_type": "markdown",
   "metadata": {},
   "source": [
    "# 3 cái test > 0.15"
   ]
  }
 ],
 "metadata": {
  "kernelspec": {
   "display_name": "Python 3",
   "language": "python",
   "name": "python3"
  },
  "language_info": {
   "codemirror_mode": {
    "name": "ipython",
    "version": 3
   },
   "file_extension": ".py",
   "mimetype": "text/x-python",
   "name": "python",
   "nbconvert_exporter": "python",
   "pygments_lexer": "ipython3",
   "version": "3.7.6"
  }
 },
 "nbformat": 4,
 "nbformat_minor": 4
}
