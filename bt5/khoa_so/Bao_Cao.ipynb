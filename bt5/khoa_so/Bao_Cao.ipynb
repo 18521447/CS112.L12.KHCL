{
 "cells": [
  {
   "cell_type": "markdown",
   "metadata": {},
   "source": [
    "# Problem Statement\n",
    "![](de_bai.png)\n",
    "## Input\n",
    "- lock: string = chuỗi khóa (2 < len(lock) <= $10^5$)\n",
    "\n",
    "## Output\n",
    "- unlock: string = chuỗi mở khóa"
   ]
  },
  {
   "cell_type": "markdown",
   "metadata": {},
   "source": []
  },
  {
   "cell_type": "markdown",
   "metadata": {},
   "source": [
    "# Abstraction\n"
   ]
  },
  {
   "cell_type": "markdown",
   "metadata": {},
   "source": [
    "Tìm chuỗi có giá trị và độ dài lớn nhất chia hết cho 3"
   ]
  },
  {
   "cell_type": "markdown",
   "metadata": {},
   "source": [
    "# Decomposition"
   ]
  },
  {
   "cell_type": "markdown",
   "metadata": {},
   "source": [
    "Để\n",
    "- giá trị chuỗi lớn nhất -> Sắp xếp chuỗi giảm dần\n",
    "- độ dài lớn nhất và chia hết cho 3 -> Tìm và loại bỏ các kí tự có giá trị bé nhất và các kí tự này làm cho chuỗi không chia hết cho 3\n"
   ]
  },
  {
   "cell_type": "markdown",
   "metadata": {},
   "source": [
    "# Pattern recognition"
   ]
  },
  {
   "cell_type": "markdown",
   "metadata": {},
   "source": [
    "- Sort Array\n",
    "- Tìm giá trị bé nhất thỏa điều kiện cho trước"
   ]
  },
  {
   "cell_type": "markdown",
   "metadata": {},
   "source": [
    "# Algorithm design"
   ]
  },
  {
   "cell_type": "markdown",
   "metadata": {},
   "source": [
    "**Nhận xét 1**: \n",
    "- Do chuỗi này chỉ gồm các kí tự từ 0 -> 9 nên ta có thể dùng hash table để sắp xếp chuỗi\n",
    "\n",
    "- Để xác định kí tự cần loại, ta làm như sau:\n",
    "\n",
    "    - TH1 Chuỗi *lock* dư 0 -> \n",
    "        - không cần loại kí tự nào\n",
    "    - TH2 Chuỗi *lock* dư 1 -> \n",
    "        - 2.1 loại 1 kí tự / 3 dư 1. Nếu không có kí tự nào thỏa thì\n",
    "        - 2.2 loại 2 kí tự / 3 dư 2, do khi cộng 2 kí tự này lại sẽ dư 4 mà 4 % 3 = 1\n",
    "    - TH3 Chuỗi *lock* dư 2 ->\n",
    "        - 3.1 loại 1 kí tự / 3 dư 2. Nếu không có kí tự nào thỏa thì\n",
    "        - 3.2 loại 2 kí tự / 3 dư 1, do khi cộng 2 kí tự này lại sẽ dư 2\n",
    "\n",
    "    - Ngoài ra, để đảm bảo chuỗi là lớn nhất ta cần đảm bảo kí tự ta loại bỏ là bé nhất\n",
    "\n",
    "**Nhận xét 2**: \n",
    "\n",
    "a. Loại 1 kí tự bé nhất có phần dư = phần dư của xâu *lock*. Nếu không tìm thấy kí tự thỏa thì tìm tiếp TH sau\n",
    "\n",
    "b. Loại 2 kí tự bé nhất có phần dư != phần dư xâu *lock* và != 0, do phần dư của tổng 2 số này = phần dư xâu *lock*"
   ]
  },
  {
   "cell_type": "markdown",
   "metadata": {},
   "source": [
    "## Pseudocode"
   ]
  },
  {
   "cell_type": "markdown",
   "metadata": {},
   "source": [
    "1. Khởi tạo \n",
    "    - biến R1 = 10 (Biến này sẽ lưu kí tự thỏa mãn nhận xét 2a, nếu R1 = 10 tức là chưa tìm được kí tự thỏa mãn nhận xét 2a)\n",
    "    - biến R2 = 10, R3 = 10 (2 biến này lưu 2 kí tự thỏa mãn nhận xét 2b, nếu R2 = 10 hoặc R3 = 10 tức là chưa tìm được kí tự thỏa nhận xét 2b)\n",
    "    - mảng counter gồm 10 phần tử, mỗi phần tử có giá trị = 0. Mảng này dùng để đếm số lượng từng kí tự trong xâu *lock* (counter\\[i\\] lưu số lượng kí tự i trong xâu *lock*, i trong đoạn \\[0,9\\] - đây là hash table) \n",
    "2. Gán R = phần dư của xâu *lock* khi / 3\n",
    "3. Duyệt qua từng kí tự trong chuỗi lock\n",
    "    - tăng counter\\[kí tự hiện tại\\] thêm 1\n",
    "    - Gán R4 = phần dư của kí tự hiện tại\n",
    "    - Nếu R4 = 0 hoặc R = 0\n",
    "        - Nhảy sang vòng lặp kế\n",
    "    - Ngược lại\n",
    "        - Nếu R4 = R và kí tự hiện tại < R1 thì\n",
    "            - Gán R1 = kí tự hiện tại\n",
    "        - Ngược lại\n",
    "            - Nếu R4 > R2, R3 thì\n",
    "                - Nhảy sang vòng lặp kế\n",
    "            - Nếu R4 < R2 <= R3 thì\n",
    "                - Gán R3 = R4\n",
    "            - Nếu R4 < R3 <= R2 thì\n",
    "                - Gán R2 = R4\n",
    "4. Loại bỏ các kí tự cần thiết\n",
    "    - Nếu R1 != 10 thì\n",
    "        - giảm counter\\[R1\\] bớt 1\n",
    "    - Nếu R2, R3 != 10 thì\n",
    "        - giảm counter\\[R2\\] bớt 1\n",
    "        - giảm counter\\[R3\\] bớt 1\n",
    "5. Tạo xâu *unlock* giảm dần từ counter\n",
    "    - Lặp i từ 9 đến 0\n",
    "        - chèn tự i vào cuối chuỗi unlock counter\\[i\\] lần"
   ]
  },
  {
   "cell_type": "markdown",
   "metadata": {},
   "source": [
    "### Time Complexity"
   ]
  },
  {
   "cell_type": "markdown",
   "metadata": {},
   "source": [
    "- Bước 1 + 2 + 4: $O(1)$\n",
    "- Bước 3 + 5: $O(n)$\n",
    "\n",
    "Tổng: $O(n)$"
   ]
  },
  {
   "cell_type": "markdown",
   "metadata": {},
   "source": [
    "## Code"
   ]
  },
  {
   "cell_type": "code",
   "execution_count": 1,
   "metadata": {},
   "outputs": [
    {
     "output_type": "stream",
     "name": "stdout",
     "text": [
      "4433211\n"
     ]
    }
   ],
   "source": [
    "def solve(lock: str) -> str:\n",
    "    # if remainder_of_lock != 0\n",
    "    # redundants[0] stores the number that satisfies \n",
    "    # this equation redundants[0] % 3 == remainder_of_lock\n",
    "    # redundants[1], redundants[2] stores numbers that satisfy\n",
    "    # this equation (redundants[1] + redundants[2]) % 3 == remainder_of_lock\n",
    "    inf = 10\n",
    "    redundants = [inf, inf, inf]\n",
    "    remainder_of_lock = int(lock) % 3\n",
    "    lock = map(int, list(lock))\n",
    "\n",
    "    counter = [0 for _ in range(10)]\n",
    "\n",
    "    for num in lock:\n",
    "        counter[num] += 1\n",
    "        remainder_of_num = num % 3\n",
    "\n",
    "        if remainder_of_lock == 0 or remainder_of_num == 0:\n",
    "            continue\n",
    "\n",
    "        if remainder_of_lock == remainder_of_num:\n",
    "            i = 0\n",
    "        elif redundants[1] > redundants[2]:\n",
    "            i = 1\n",
    "        else:\n",
    "            i = 2\n",
    "            \n",
    "        if num < redundants[i]:\n",
    "            redundants[i] = num\n",
    "\n",
    "    if inf != redundants[0]:\n",
    "        counter[redundants[0]] -= 1\n",
    "    elif inf not in redundants[1:3]:\n",
    "        counter[redundants[1]] -= 1\n",
    "        counter[redundants[2]] -= 1\n",
    "\n",
    "    unlock = []\n",
    "    for num in reversed(range(10)):\n",
    "        unlock.append(str(num) * counter[num])\n",
    "\n",
    "    return ''.join(unlock)\n",
    "\n",
    "\n",
    "if __name__ == '__main__':\n",
    "    lock = input().strip()\n",
    "    unlock = solve(lock)\n",
    "    print(unlock)\n"
   ]
  }
 ],
 "metadata": {
  "kernelspec": {
   "display_name": "Python 3",
   "language": "python",
   "name": "python3"
  },
  "language_info": {
   "codemirror_mode": {
    "name": "ipython",
    "version": 3
   },
   "file_extension": ".py",
   "mimetype": "text/x-python",
   "name": "python",
   "nbconvert_exporter": "python",
   "pygments_lexer": "ipython3",
   "version": "3.8.5-final"
  }
 },
 "nbformat": 4,
 "nbformat_minor": 2
}