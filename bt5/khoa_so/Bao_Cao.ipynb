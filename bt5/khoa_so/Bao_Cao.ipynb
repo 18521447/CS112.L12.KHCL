{
 "cells": [
  {
   "cell_type": "markdown",
   "metadata": {},
   "source": [
    "# Problem Statement\n",
    "![](de_bai.png)\n",
    "## Input\n",
    "- lock: string = chuỗi khóa $(2 < len(lock) <= 10^5)$\n",
    "\n",
    "## Output\n",
    "- unlock: string = chuỗi mở khóa"
   ]
  },
  {
   "cell_type": "markdown",
   "metadata": {},
   "source": []
  },
  {
   "cell_type": "markdown",
   "metadata": {},
   "source": [
    "# Decomposition\n",
    "- Theo đề bài thì ta thấy được tổng của chuỗi số lớn nhất này phải chia hết cho 3 mới thỏa được yêu cầu của bài toán. Nếu như chuỗi số không chia hết cho 3 thì ta phải lược bỏ một vài số sao cho chuỗi số đó vẫn là lớn nhất và chia hết cho 3.\n",
    "- Vì thế nhóm chúng em làm như sau:\n",
    "    - Bước 1: Tính tổng của chuỗi số\n",
    "    - Bước 2: Tạo ra 3 List chứa các số gồm:\n",
    "        - List chia hết cho 3 (List A).\n",
    "        - List chia cho 3 dư 1 (List B).\n",
    "        - List chia cho 3 dư 2 (List C).\n",
    "        - Các list này đều được xếp giảm dần.\n",
    "    - Bước 3: Dùng kết quả tổng vừa tính được chia cho 3:\n",
    "        - Nếu kết quả phép chia không dư -> Không làm gì cả.\n",
    "        - Nếu kết quả phép chia dư 1 -> Lấy đi phần tử cuối cùng của list B. Nếu như List B rỗng thì lấy đi 2 phần tử cuối cùng của List C.\n",
    "        - Nếu kết quả phép chia dư 2 -> Lấy đi phần tử cuối cùng của list c. Nếu như List c rỗng thì lấy đi 2 phần tử cuối cùng của List B.\n",
    "    - Bước 4: Liên kết 3 List lại và sắp xếp giảm dần để tạo nên chuỗi số thỏa với bài toán."
   ]
  },
  {
   "cell_type": "markdown",
   "metadata": {},
   "source": [
    "# Pattern recognition"
   ]
  },
  {
   "cell_type": "markdown",
   "metadata": {},
   "source": [
    "- Sort Array"
   ]
  },
  {
   "cell_type": "markdown",
   "metadata": {},
   "source": [
    "# Algorithm design"
   ]
  },
  {
   "cell_type": "markdown",
   "metadata": {},
   "source": [
    "## Input"
   ]
  },
  {
   "cell_type": "markdown",
   "metadata": {},
   "source": [
    "- N (Kiểu int): Chuỗi mã số của ổ khóa $( 2 < N ≤ $10^5$ )$."
   ]
  },
  {
   "cell_type": "markdown",
   "metadata": {},
   "source": [
    "## Output"
   ]
  },
  {
   "cell_type": "markdown",
   "metadata": {},
   "source": [
    "- Result (Kiểu int): Chuỗi mã số kết quả."
   ]
  },
  {
   "cell_type": "markdown",
   "metadata": {},
   "source": [
    "**Time Complexity**: "
   ]
  },
  {
   "cell_type": "markdown",
   "metadata": {},
   "source": [
    "#### Pseudocode"
   ]
  },
  {
   "cell_type": "markdown",
   "metadata": {},
   "source": [
    "```\n",
    "Khởi tạo:\n",
    "N = Chuỗi mã số\n",
    "divisible = [] : List chứa các số chia hết cho 3\n",
    "remainder_1 = [] : List chứa các số chia cho 3 dư 1\n",
    "remainder_2 = [] : List chứa các số chia cho 3 dư 2\n",
    "sum = 0 : Tổng của chuỗi mã số\n",
    "result = [] : Chuỗi kết quả\n",
    "\n",
    "Chương trình chính:\n",
    "\n",
    "Bước 1: Phân loại số\n",
    "    for loop i in N: ( i là các số trong chuỗi N )\n",
    "        if i % 3 == 0:\n",
    "            Add i to divisible\n",
    "        if i % 3 == 1:\n",
    "            Add i to remainder_1\n",
    "        if i % 3 == 2\n",
    "            Add i to remainder_2\n",
    "        sum = sum + i\n",
    "        \n",
    "Bước 2: Sắp xếp giảm dần cho divisible, remainder_1, remainder_2\n",
    "        Không biết ghi sao @@\n",
    "        \n",
    "Bước 3: Kiểm tra\n",
    "    if sum % 3 == 1:\n",
    "        if remainder_1 != Null\n",
    "            Lấy ra 1 phần tử cuối List remainder_1\n",
    "        else:\n",
    "            Lấy ra 2 phần tử cuối List remainder_2\n",
    "            \n",
    "    if sum % 3 == 2:\n",
    "        if remainder_2 != Null\n",
    "            Lấy ra 1 phần tử cuối List remainder_2\n",
    "        else:\n",
    "            Lấy ra 2 phần tử cuối List remainder_1\n",
    "\n",
    "Bước 4: Gộp 3 List divisible, remainder_1, remainder_2 vào result\n",
    "    result = divisible + remainder_1 + remainder_2\n",
    "\n",
    "Bước 5: Sắp xếp result thành chuỗi số giảm dần.\n",
    "\n",
    "Bước 6: In ra kết quả result\n",
    "```"
   ]
  },
  {
   "cell_type": "markdown",
   "metadata": {},
   "source": [
    "### Code"
   ]
  },
  {
   "cell_type": "code",
   "execution_count": 2,
   "metadata": {},
   "outputs": [
    {
     "name": "stdout",
     "output_type": "stream",
     "text": [
      "123\n",
      "321\n"
     ]
    }
   ],
   "source": [
    "def add_array(arr,divisible,remainder_1,remainder_2):\n",
    "    sum_var = 0\n",
    "    for i in (arr): \n",
    "        if int(i) % 3 == 0:\n",
    "            divisible.append(i)\n",
    "        elif int(i) % 3 == 1:\n",
    "            remainder_1.append(i)\n",
    "        else:\n",
    "            remainder_2.append(i)\n",
    "        sum_var += int(i)\n",
    "    divisible.sort(reverse = True)\n",
    "    remainder_1.sort(reverse = True)\n",
    "    remainder_2.sort(reverse = True)\n",
    "    return sum_var\n",
    "    \n",
    "def calculating(sum_var,remainder_1,remainder_2):\n",
    "    if sum_var % 3 == 1:\n",
    "        if len(remainder_1) > 0:\n",
    "            remainder_1.pop()\n",
    "        else:\n",
    "            remainder_2.pop()\n",
    "            remainder_2.pop()    \n",
    "    if sum_var % 3 == 2:\n",
    "        if len(remainder_2) > 0:\n",
    "            remainder_2.pop()\n",
    "        else:\n",
    "            remainder_1.pop()\n",
    "            remainder_1.pop()\n",
    "            \n",
    "if __name__ == '__main__':\n",
    "    arr = input().strip()\n",
    "    divisible = []\n",
    "    remainder_1 = []\n",
    "    remainder_2 = []\n",
    "   \n",
    "    result = []\n",
    "    sum_var = add_array(arr,divisible,remainder_1,remainder_2)\n",
    "    \n",
    "    calculating(sum_var,remainder_1,remainder_2)\n",
    "    \n",
    "    result =[]\n",
    "    result = sorted(divisible + remainder_1 + remainder_2,reverse = True)\n",
    "    result = ''.join(result)\n",
    "    print(result)\n",
    "\n",
    "# làm sao rút gọn if else trên add_array\n",
    "# 3 cái test > 0.15"
   ]
  },
  {
   "cell_type": "code",
   "execution_count": null,
   "metadata": {},
   "outputs": [],
   "source": []
  }
 ],
 "metadata": {
  "kernelspec": {
   "display_name": "Python 3",
   "language": "python",
   "name": "python3"
  },
  "language_info": {
   "codemirror_mode": {
    "name": "ipython",
    "version": 3
   },
   "file_extension": ".py",
   "mimetype": "text/x-python",
   "name": "python",
   "nbconvert_exporter": "python",
   "pygments_lexer": "ipython3",
   "version": "3.7.6"
  }
 },
 "nbformat": 4,
 "nbformat_minor": 2
}
