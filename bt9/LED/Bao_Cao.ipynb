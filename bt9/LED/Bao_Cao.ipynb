{
 "cells": [
  {
   "cell_type": "markdown",
   "metadata": {},
   "source": [
    "# Problem statement"
   ]
  },
  {
   "cell_type": "markdown",
   "metadata": {},
   "source": [
    "![](De.jpg)"
   ]
  },
  {
   "cell_type": "markdown",
   "metadata": {},
   "source": [
    "# Input"
   ]
  },
  {
   "cell_type": "markdown",
   "metadata": {},
   "source": [
    "n (Kiểu int): Số ống đèn LED ($2 ≤ n ≤ 10^{6}$)."
   ]
  },
  {
   "cell_type": "markdown",
   "metadata": {},
   "source": [
    "# Output"
   ]
  },
  {
   "cell_type": "markdown",
   "metadata": {},
   "source": [
    "result (Kiểu int): Tổng lớn nhất của các chữ số có thể bật sáng."
   ]
  },
  {
   "cell_type": "markdown",
   "metadata": {},
   "source": [
    "# Abstraction"
   ]
  },
  {
   "cell_type": "markdown",
   "metadata": {},
   "source": [
    "Với số ống đèn được cho sẵn, Hãy tính tổng lớn nhất của các số được tạo bởi các ống đèn"
   ]
  },
  {
   "cell_type": "markdown",
   "metadata": {},
   "source": [
    "# Pattern recognition"
   ]
  },
  {
   "cell_type": "markdown",
   "metadata": {},
   "source": [
    "- Mathematics\n"
   ]
  },
  {
   "cell_type": "markdown",
   "metadata": {},
   "source": [
    "# Algorithm design"
   ]
  },
  {
   "cell_type": "markdown",
   "metadata": {},
   "source": [
    "## Idea"
   ]
  },
  {
   "cell_type": "markdown",
   "metadata": {},
   "source": [
    "- Trước tiên chúng ta liệt kê với mỗi số từ 0 đến 9 thì mỗi số cần bao nhiêu ống:\n"
   ]
  },
  {
   "cell_type": "markdown",
   "metadata": {},
   "source": [
    "|Số ống|Số|\n",
    "|------|--|\n",
    "|2|1|\n",
    "|3|7|\n",
    "|4|4|\n",
    "|5|5,2,3|\n",
    "|6|9,6,0|\n",
    "|7|8|"
   ]
  },
  {
   "cell_type": "markdown",
   "metadata": {},
   "source": [
    "- Theo bảng thì ta thấy:\n",
    "    - Với 7 ống ta có thể tạo số 8 nhưng 7 ống đó có thể tạo ra được 1 số 7 và 1 số 4 (7 + 4 = 11) cho kết quả lớn hơn.\n",
    "    - Với 6 ống ta có thể tạo số 9 nhưng 6 ống đó có thể tạo ra được 2 số 7 (7 + 7 = 14) cho kết quả lớn hơn.\n",
    "    - Với 5 ống ta có thể tạo số 5 (Vì 5 lớn hơn 2 3 nên mặc định 5 ống ta sẽ chọn 5) nhưng 5 ống đó có thể tạo ra được 1 số 7 và 1 số 1 (7 + 1 = 8) cho kết quả lớn hơn.\n",
    "    - Với 4 ống ta chỉ có thể tạo ra số 4.\n",
    "    - Với 3 ống ta chỉ có thể tạo ra số 7.\n",
    "    - Với 2 ống ta chỉ có thể tạo ra số 1.\n",
    "- Theo phân tích trên thì rút ra được 1 nhận xét: Chỉ cần số ống chia hết cho 3 thì sẽ ra tổng kết quả lớn nhất mà chúng ta có thể tìm được. Nếu chia còn dư 2 thì chỉ cần cộng thêm 1, nếu chia còn dư 1 thì chỉ cần lấy thương trừ đi 1 (thương lấy phần nguyên) và cộng thêm 4."
   ]
  },
  {
   "cell_type": "markdown",
   "metadata": {},
   "source": [
    "## Pseudocode"
   ]
  },
  {
   "cell_type": "markdown",
   "metadata": {},
   "source": [
    "- Gán **Max_choose** = Thương lấy phần nguyên của phép chia cho 3\n",
    "- Gán **Reminder** = Thương lấy phần dư của phép chia cho 3\n",
    "- Nếu **Reminder** mà bằng 0:\n",
    "    - Trả về kết quả **Max_choose** * 7\n",
    "- Nếu **Reminder** mà bằng 1:\n",
    "    - Trả về kết quả (**Max_choose** - 1) * 7 + 4\n",
    "- Nếu **Reminder** mà bằng 2:\n",
    "    - Trả về kết quả **Max_choose** * 7 + 1"
   ]
  },
  {
   "cell_type": "markdown",
   "metadata": {},
   "source": [
    "### Time complexity"
   ]
  },
  {
   "cell_type": "markdown",
   "metadata": {},
   "source": [
    "***$O(1)$***"
   ]
  },
  {
   "cell_type": "markdown",
   "metadata": {},
   "source": [
    "## Code"
   ]
  },
  {
   "cell_type": "code",
   "execution_count": null,
   "metadata": {},
   "outputs": [],
   "source": [
    "n = int(input())\n",
    "Max_choose = n // 3\n",
    "remainder = n % 3\n",
    "if(remainder == 0):\n",
    "    print(Max_choose * 7)\n",
    "elif(remainder == 1):\n",
    "    print((Max_choose - 1) * 7 + 4)\n",
    "elif(remainder == 2):\n",
    "    print(Max_choose * 7 + 1)"
   ]
  }
 ],
 "metadata": {
  "kernelspec": {
   "display_name": "Python 3",
   "language": "python",
   "name": "python3"
  },
  "language_info": {
   "codemirror_mode": {
    "name": "ipython",
    "version": 3
   },
   "file_extension": ".py",
   "mimetype": "text/x-python",
   "name": "python",
   "nbconvert_exporter": "python",
   "pygments_lexer": "ipython3",
   "version": "3.8.5"
  }
 },
 "nbformat": 4,
 "nbformat_minor": 4
}
